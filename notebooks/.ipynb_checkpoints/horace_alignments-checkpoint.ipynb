{
 "cells": [
  {
   "cell_type": "code",
   "execution_count": 108,
   "metadata": {
    "collapsed": true
   },
   "outputs": [],
   "source": [
    "# these alignments aren't great. going to try this again when i have ibm model"
   ]
  },
  {
   "cell_type": "code",
   "execution_count": 1,
   "metadata": {
    "collapsed": true
   },
   "outputs": [],
   "source": [
    "from bs4 import BeautifulSoup\n",
    "from cltk.stem.lemma import LemmaReplacer\n",
    "from cltk.tokenize.word import WordTokenizer\n",
    "from collections import defaultdict\n",
    "import json\n",
    "from nltk.corpus import stopwords\n",
    "from nltk.tokenize import wordpunct_tokenize\n",
    "import os\n",
    "import re\n",
    "import string\n",
    "from cltk.tokenize.sentence import TokenizeSentence\n",
    "from nltk.tokenize import sent_tokenize\n",
    "import bs4"
   ]
  },
  {
   "cell_type": "code",
   "execution_count": 2,
   "metadata": {
    "collapsed": true
   },
   "outputs": [],
   "source": [
    "def make_list(soup):\n",
    "    l = []\n",
    "    for n in soup:\n",
    "        try:\n",
    "            l.append(int(n['n']))\n",
    "        except:\n",
    "            l.append(-1)  \n",
    "    return remove_duplicates(l)\n",
    "\n",
    "\n",
    "def remove_duplicates(l):\n",
    "    i = 0\n",
    "    while i+1 < len(l):\n",
    "        if l[i] == l[i+1]:\n",
    "            l[i+1] += 1\n",
    "        if l[i] > l[i+1] and l[i+1] != -1:\n",
    "            l[i] = l[i+1]-1\n",
    "        i += 1\n",
    "    return l\n",
    "\n",
    "def match(large,small):\n",
    "    l = make_list(large)\n",
    "    s = make_list(small)\n",
    "    li = 0\n",
    "    si = 0\n",
    "    groups = []\n",
    "    #print(l,s)\n",
    "    while si < len(s) and li < len(l):\n",
    "        if s[si] == -1:\n",
    "            si += 1\n",
    "            continue\n",
    "        if l[li] == -1:\n",
    "            li += 1\n",
    "            continue\n",
    "        lgroup = []\n",
    "        sgroup = []\n",
    "        if l[li] == s[si]:\n",
    "            lgroup.append(li)\n",
    "            sgroup.append(si)\n",
    "              \n",
    "        if si+1 < len(s) and li+1 < len(l): \n",
    "            if s[si+1] == -1:\n",
    "                si += 1\n",
    "            \n",
    "            if l[li+1] == -1:\n",
    "                li += 1\n",
    "            \n",
    "            \n",
    "            if l[li+1] != s[si+1]:\n",
    "                while l[li+1] != s[si+1]:\n",
    "                    if si+1 < len(s) and li+1 < len(l):\n",
    "                        if l[li+1] > s[si+1]:\n",
    "                            sgroup.append(si+1)\n",
    "                            si += 1\n",
    "                            if s[si] == -1:\n",
    "                                if si+1 < len(s):\n",
    "                                    si += 1\n",
    "                                else:\n",
    "                                    pass\n",
    "                        else:\n",
    "                            lgroup.append(li+1)\n",
    "                            li += 1\n",
    "                            if l[li] == -1:\n",
    "                                if li+1 < len(l):\n",
    "                                    li += 1\n",
    "                                else:\n",
    "                                    pass\n",
    "                    else:\n",
    "                        break\n",
    "                si += 1\n",
    "                li += 1\n",
    "                groups.append([sgroup,lgroup])\n",
    "            else:\n",
    "                si += 1\n",
    "                li += 1\n",
    "                groups.append([sgroup,lgroup]) \n",
    "        else:\n",
    "            break        \n",
    "    \n",
    "    groups.append([sgroup,lgroup])\n",
    "    return groups\n",
    "        \n",
    "\n",
    "def align_soups(m,small,large):\n",
    "    s_alignments = []\n",
    "    l_alignments = []\n",
    "    for g in m:\n",
    "        s = []\n",
    "        l = []\n",
    "        for i in g[0]:\n",
    "            s.append(small[i])\n",
    "        for i in g[1]:\n",
    "            l.append(large[i])\n",
    "        s_alignments.append(s)\n",
    "        l_alignments.append(l)   \n",
    "    return s_alignments,l_alignments\n",
    "\n",
    "\n",
    "def get_pairs(latin_soup, eng_soup, tag, typename, typos):\n",
    "    \"\"\" Given two soups, returns soups of equal size, with each element corresponding to the same\n",
    "        element in the other soup.\n",
    "        Lists may contain further lists of soups which are aligned with one another, they are combined into one list\n",
    "        in the first step of this function.\n",
    "    \"\"\"\n",
    "    lat_sect,eng_sect = [], []\n",
    "    \n",
    "    for i in range(len(latin_soup)):\n",
    "        lat_sect += latin_soup[i].findAll(tag, {typename: typos})\n",
    "    for i in range(len(eng_soup)):\n",
    "        eng_sect += eng_soup[i].findAll(tag, {typename: typos})\n",
    "\n",
    "    if len(lat_sect) > len(eng_sect):\n",
    "        try:\n",
    "            #print(latin_soup[0]['n'],latin_soup[0].parent['n'])\n",
    "            m = match(lat_sect,eng_sect)\n",
    "            eng_alignments,lat_alignments = align_soups(m,eng_sect,lat_sect)\n",
    "            return lat_alignments,eng_alignments\n",
    "        except:\n",
    "            print(\"error with {}, {}\".format(tag,typos))\n",
    "    elif len(lat_sect) < len(eng_sect):\n",
    "        try:\n",
    "            #print(latin_soup[0]['n'],latin_soup[0].name)\n",
    "            m = match(eng_sect,lat_sect)\n",
    "            lat_alignments,eng_alignments = align_soups(m,lat_sect,eng_sect)\n",
    "            return lat_alignments,eng_alignments\n",
    "        except:\n",
    "            print(\"error with {}, {}\".format(tag,typos))\n",
    "    else:\n",
    "        if eng_sect[0]['n'] == 'intro':\n",
    "            try:\n",
    "                #print(latin_soup[0]['n'],latin_soup[0].name)\n",
    "                m = match(eng_sect,lat_sect)\n",
    "                lat_alignments,eng_alignments = align_soups(m,lat_sect,eng_sect)\n",
    "                return lat_alignments,eng_alignments\n",
    "            except:\n",
    "                print(\"error with {}, {}\".format(tag,typos))\n",
    "        else:\n",
    "            \n",
    "            return lat_sect, eng_sect\n",
    "    \n",
    "\n",
    "\n",
    "\n",
    "def align_pars(lsentences,esentences):\n",
    "    \n",
    "    if lsentences[-1] == '':\n",
    "        lsentences = lsentences[:-1]\n",
    "    if esentences[-1] == '':\n",
    "        esentences = esentences[:-1]\n",
    "        \n",
    "    if len(lsentences) > len(esentences):\n",
    "        alignments = align(lsentences,esentences)\n",
    "        target = esentences\n",
    "        source = lsentences\n",
    "    elif len(lsentences) < len(esentences):\n",
    "        alignments = align(esentences,lsentences)\n",
    "        target = lsentences\n",
    "        source = esentences\n",
    "    else:\n",
    "        return zip(lsentences,esentences)\n",
    "    \n",
    "    sentence_tuples = []\n",
    "    for k in alignments.keys():\n",
    "        sentence_tuples.append((target[k], [source[j] for j in alignments[k]]))\n",
    "        \n",
    "    return sentence_tuples\n",
    "          \n",
    "\n",
    "\n",
    "\n",
    "def clean_lemma(word):\n",
    "    try:\n",
    "        word = re.sub('[0-9]+', '', word)\n",
    "        word = re.sub('[-_]+', '', word)\n",
    "    except:\n",
    "        pass\n",
    "\n",
    "    return word\n",
    "\n",
    "\n",
    "def get_lemmata_defs(latin):\n",
    "    words = lemmatizer.lemmatize(latin)\n",
    "    ldefs = []\n",
    "    unmatched = []\n",
    "\n",
    "    for word in words:\n",
    "        word = clean_lemma(word)\n",
    "        try:\n",
    "            ldefs.append(defs[word]['definition'].split(','))\n",
    "        except:\n",
    "            unmatched.append(word)\n",
    "    return ldefs,unmatched\n",
    "\n",
    "\n",
    "def get_defs(ldefs):\n",
    "    lldefs=[]\n",
    "    for l in ldefs:\n",
    "        lldefs += t(l[0])\n",
    "    return lldefs\n",
    "\n",
    "\n",
    "def get_match_count(english,latin):\n",
    "    \n",
    "    ldefs,unmatched = get_lemmata_defs(latin)\n",
    "    ldefs = get_defs(ldefs)\n",
    "    count = 0\n",
    "    for word in t(english):\n",
    "        if word in string.punctuation:\n",
    "            continue\n",
    "        if word in ldefs and word not in stop:\n",
    "            count += 1\n",
    "        if word in unmatched:\n",
    "            count += 1\n",
    "    return count\n",
    "\n",
    "\n",
    "def align(source,target):\n",
    "    \"\"\" Takes a paragraph of sentences, source, and maps each sentence to a sentence in the \n",
    "        target paragraph. \n",
    "        \n",
    "        Returns a dictionary with the target sentence indices as keys, and the sentences in the source paragraph\n",
    "        which correspond to them as values.\n",
    "    \"\"\"\n",
    "    tsize = len(target)\n",
    "    ssize = len(source)\n",
    "    alignments = defaultdict(list)\n",
    "    alignments[0] = [0]\n",
    "    i = 1\n",
    "    j = 1\n",
    "    while tsize < ssize and i < len(source) and j < tsize:\n",
    "        max_count = get_match_count(source[i],target[j])\n",
    "        max_i = j\n",
    "        if j >= tsize-1:\n",
    "            rge = [j-1]\n",
    "        else:\n",
    "            rge = [j-1,j+1]\n",
    "        for r in rge: \n",
    "            c = get_match_count(source[i],target[r])\n",
    "            if c > max_count:\n",
    "                max_count = c\n",
    "                max_i = r\n",
    "\n",
    "        if max_i != j:\n",
    "            ssize -= 1\n",
    "        else:\n",
    "            j += 1\n",
    "\n",
    "        alignments[max_i].append(i)\n",
    "        i += 1\n",
    "        \n",
    "  \n",
    "    while j < tsize:\n",
    "        alignments[j].append(i)\n",
    "        j += 1\n",
    "        i += 1\n",
    "    alignments[j-1].extend([k for k in range(i,len(source))])\n",
    "    \n",
    "    return alignments\n",
    "\n",
    "def get_sec_alignments(lpar,epar):\n",
    "    if len(lpar) > len(epar):\n",
    "        if len(epar) > 1:\n",
    "            alignments = align(lpar,epar)\n",
    "            aligned = []\n",
    "            for k in alignments.keys():\n",
    "                group = []\n",
    "                for v in alignments[k]:\n",
    "                    group.append(lpar[v])\n",
    "                aligned.append((group,epar[k]))\n",
    "        else:\n",
    "            try:\n",
    "                aligned = [('. '.join(lpar),epar[0])] \n",
    "            except:\n",
    "                print('error, {}'.format(epar))\n",
    "                aligned = list(zip(lpar,epar))\n",
    "    elif len(epar) > len(lpar):\n",
    "        if len(lpar) > 1:\n",
    "            alignments = align(epar,lpar)\n",
    "            aligned = []\n",
    "            for k in alignments.keys():\n",
    "                group = []\n",
    "                for v in alignments[k]:\n",
    "                    group.append(epar[v])\n",
    "                aligned.append((lpar[k],group))\n",
    "        else:\n",
    "            try:\n",
    "                aligned = [(lpar[0],'. '.join(epar))]\n",
    "            except:\n",
    "                print('error, {}'.format(lpar))\n",
    "                aligned = list(zip(lpar,epar))\n",
    "    else:\n",
    "        aligned = list(zip(lpar,epar))\n",
    "        \n",
    "    return aligned\n",
    "\n",
    "def get_sentences(chap_soup, sect_soup):\n",
    "    t = bs4.element.Tag\n",
    "    sect = []\n",
    "    sentences = []\n",
    "    i = 0\n",
    "    c = 0\n",
    "    children = list(chap_soup.children)\n",
    "    soup = children[c].find('milestone')#, {'n':sect_soup[i]['n']})\n",
    "    c += 1\n",
    "    while type(soup) != t:\n",
    "        soup = children[c].find('milestone')#, {'n':sect_soup[i]['n']})\n",
    "        c += 1\n",
    "    i += 1\n",
    "    while c < len(children):\n",
    "        print(sentences)\n",
    "        while soup.next_sibling != None:\n",
    "            soup = soup.next_sibling\n",
    "            if soup.name == 'milestone':\n",
    "                try:\n",
    "                    if int(soup['n']) == int(sect_soup[i]['n']):\n",
    "                        i += 1\n",
    "                        sentences.append(' '.join(sect))\n",
    "                        sect = []\n",
    "                except:\n",
    "                    soup = soup.next_sibling\n",
    "                    i += 1\n",
    "            if soup.name in ['corr', 'name','hi','quote','reg', 'l', 'lg', 'placeName']:\n",
    "                    sect.append(soup.text.strip())\n",
    "            elif soup.name == None:\n",
    "                    sect.append(soup.strip())\n",
    "                    \n",
    "        sentences.append(' '.join(sect))\n",
    "        sect = []\n",
    "        try:\n",
    "            soup = children[c].find('milestone')#, {'n':sect_soup[i]['n']})\n",
    "            c += 1\n",
    "            while type(soup) != t and c < len(children):\n",
    "                soup = children[c].find('milestone')\n",
    "                c += 1\n",
    "            i += 1\n",
    "        except:\n",
    "            continue\n",
    "    sentences.append(' '.join(sect))\n",
    "    sect = []\n",
    "    return sentences"
   ]
  },
  {
   "cell_type": "code",
   "execution_count": 3,
   "metadata": {
    "collapsed": true
   },
   "outputs": [],
   "source": [
    "t = wordpunct_tokenize\n",
    "stop = set(stopwords.words('english'))\n",
    "\n",
    "f = open('../lemmas.json')\n",
    "defs = json.loads(f.read())\n",
    "\n",
    "lemmatizer = LemmaReplacer('latin')\n",
    "tokenizer = WordTokenizer('latin')\n",
    "s_tokenizer = TokenizeSentence('latin')"
   ]
  },
  {
   "cell_type": "code",
   "execution_count": 46,
   "metadata": {
    "collapsed": true
   },
   "outputs": [],
   "source": [
    "f = open('../../Latin/Horace/opensource/hor.ap_lat.xml')\n",
    "ltext = f.read()\n",
    "f.close()\n",
    "f = open('../../Latin/Horace/opensource/hor.ap_eng.xml')\n",
    "etext = f.read()\n",
    "f.close()\n",
    "\n",
    "lat_sections = re.split(r'<milestone ed=\"p\" n=\"\\d\\d?\\d?\" unit=\"card\"/>', ltext)\n",
    "\n",
    "eng_sections = re.split(r'<milestone ed=\"p\" n=\"\\d\\d?\\d?\" unit=\"card\"/>', etext)"
   ]
  },
  {
   "cell_type": "code",
   "execution_count": 47,
   "metadata": {
    "collapsed": false
   },
   "outputs": [
    {
     "data": {
      "text/plain": [
       "15"
      ]
     },
     "execution_count": 47,
     "metadata": {},
     "output_type": "execute_result"
    }
   ],
   "source": [
    "len(lat_sections)"
   ]
  },
  {
   "cell_type": "code",
   "execution_count": 48,
   "metadata": {
    "collapsed": false
   },
   "outputs": [
    {
     "data": {
      "text/plain": [
       "14"
      ]
     },
     "execution_count": 48,
     "metadata": {},
     "output_type": "execute_result"
    }
   ],
   "source": [
    "len(eng_sections)"
   ]
  },
  {
   "cell_type": "code",
   "execution_count": 49,
   "metadata": {
    "collapsed": false
   },
   "outputs": [],
   "source": [
    "parts = eng_sections[5].split('Do you attend to what I')"
   ]
  },
  {
   "cell_type": "code",
   "execution_count": 50,
   "metadata": {
    "collapsed": true
   },
   "outputs": [],
   "source": [
    "part_1 = parts[0]"
   ]
  },
  {
   "cell_type": "code",
   "execution_count": 51,
   "metadata": {
    "collapsed": true
   },
   "outputs": [],
   "source": [
    "part_2 = 'Do you attend to what I'+parts[1]"
   ]
  },
  {
   "cell_type": "code",
   "execution_count": 52,
   "metadata": {
    "collapsed": false
   },
   "outputs": [],
   "source": [
    "eng_sections = eng_sections[:5] + [part_1] + [part_2] + eng_sections[6:]"
   ]
  },
  {
   "cell_type": "code",
   "execution_count": 53,
   "metadata": {
    "collapsed": false
   },
   "outputs": [
    {
     "data": {
      "text/plain": [
       "15"
      ]
     },
     "execution_count": 53,
     "metadata": {},
     "output_type": "execute_result"
    }
   ],
   "source": [
    "len(lat_sections)"
   ]
  },
  {
   "cell_type": "code",
   "execution_count": 54,
   "metadata": {
    "collapsed": false
   },
   "outputs": [
    {
     "data": {
      "text/plain": [
       "15"
      ]
     },
     "execution_count": 54,
     "metadata": {},
     "output_type": "execute_result"
    }
   ],
   "source": [
    "len(eng_sections)"
   ]
  },
  {
   "cell_type": "code",
   "execution_count": 66,
   "metadata": {
    "collapsed": false
   },
   "outputs": [
    {
     "data": {
      "text/plain": [
       "\"Humano capiti cervicem pictor equinam \\niungere si velit, et varias inducere plumas, \\nundique conlatis membris, ut turpiter atrum \\ndesinat in piscem mulier formosa superne, \\nspectatum admissi risum teneatis, amici? \\ncredite, Pisones, isti tabulae fore librum \\npersimilem, cuius, velut aegri somnia, vanae \\nfingentur species, ut nec pes nec caput uni \\nreddatur formae. 'pictoribus atque poetis \\nquidlibet audendi semper fuit aequa potestas.' \\nscimus, et hanc veniam petimusque damusque vicissim; \\nsed non ut placidis coeant inmitia, non ut  \\nserpentes avibus geminentur, tigribus agni. \\ninceptis gravibus plerumque et magna professis \\npurpureus, late qui splendeat, unus et alter \\nadsuitur pannus, cum lucus et ara Dianae \\net properantis aquae per amoenos ambitus agros \\naut flumen Rhenum aut pluvius describitur arcus; \\nsed nunc non erat his locus. et fortasse cupressum \\nscis simulare: quid hoc, si fractis enatat exspes \\nnavibus, aere dato qui pingitur? amphora coepit \\ninstitui: currente rota cur urceus exit? \\ndenique sit quodvis, simplex dumtaxat et unum. \\nmaxima pars vatum, pater et iuvenes patre digni, \\ndecipimur specie recti: brevis esse laboro, \\nobscurus fio; sectantem levia nervi \\ndeficiunt animique; professus grandia turget; \\nserpit humi tutus nimium timidusque procellae: \\nqui variare cupit rem prodigialiter unam, \\ndelphinum silvis adpingit, fluctibus aprum: \\nin vitium ducit culpae fuga, si caret arte. \\nAemilium circa ludum faber imus et unguis \\nexprimet et mollis imitabitur aere capillos, \\ninfelix operis summa, quia ponere totum \\nnesciet: hunc ego me, si quid componere curem, \\nnon magis esse velim quam naso vivere pravo, \\nspectandum nigris oculis nigroque capillo. \\nsumite materiam vestris, qui scribitis, aequam \\nviribus et versate diu, quid ferre recusent,  \\nquid valeant umeri. cui lecta potenter erit res, \\nnec facundia deseret hunc nec lucidus ordo. \\nordinis haec virtus erit et venus, aut ego fallor, \\nut iam nunc dicat iam nunc debentia dici, \\npleraque differat et praesens in tempus omittat. \\n\\n\""
      ]
     },
     "execution_count": 66,
     "metadata": {},
     "output_type": "execute_result"
    }
   ],
   "source": [
    "lat_text[0]"
   ]
  },
  {
   "cell_type": "code",
   "execution_count": 103,
   "metadata": {
    "collapsed": false
   },
   "outputs": [],
   "source": [
    "\n",
    "eng_text = []\n",
    "\n",
    "for s in eng_sections:\n",
    "    if re.match(r'</.>',s):\n",
    "        s = re.split(r'</.>',s,maxsplit=1)[1]\n",
    "    soup = BeautifulSoup(s,'lxml')\n",
    "    if soup.find('note'):\n",
    "        s = re.sub(r'<note>.*</note>', \" \", s,flags=re.DOTALL)\n",
    "        soup = BeautifulSoup(s,'lxml')\n",
    "        eng_text.append(soup.text)\n",
    "    else:\n",
    "        eng_text.append(soup.text)\n",
    "\n",
    "lat_text = []\n",
    "\n",
    "for s in lat_sections:\n",
    "    if re.match(r'</.>',s):\n",
    "        s = re.split(r'</.>',s,maxsplit=1)[1]\n",
    "    soup = BeautifulSoup(s,'lxml')\n",
    "    if soup.find('note'):\n",
    "        s = re.sub(r'<note>.*</note>', \" \", s,flags=re.DOTALL)\n",
    "        soup = BeautifulSoup(s,'lxml')\n",
    "        lat_text.append(soup.text)\n",
    "    else:\n",
    "        lat_text.append(soup.text)\n",
    "\n",
    "eng_text = eng_text[1:]\n",
    "lat_text = lat_text[1:]\n",
    "\n",
    "alignments = []\n",
    "\n",
    "for c in range(len(eng_text)):\n",
    "    es = ' '.join(eng_text[c].replace('\\n',' ').split())\n",
    "    ls = lat_text[c].replace('\\n', ' ')\n",
    "\n",
    "    ls = re.sub(r'\\. \\. \\.','',ls)\n",
    "    es = re.sub(r'\\. \\. \\.','',es)\n",
    "    ls = re.sub('[:;,]','',ls)\n",
    "    es = re.sub('[:;,]','',es)\n",
    "\n",
    "    epar = sent_tokenize(es)\n",
    "    lpar = s_tokenizer.tokenize_sentences(ls)\n",
    "    alignments.append(get_sec_alignments(lpar,epar))"
   ]
  },
  {
   "cell_type": "code",
   "execution_count": 104,
   "metadata": {
    "collapsed": false
   },
   "outputs": [
    {
     "data": {
      "text/plain": [
       "14"
      ]
     },
     "execution_count": 104,
     "metadata": {},
     "output_type": "execute_result"
    }
   ],
   "source": [
    "len(alignments)"
   ]
  },
  {
   "cell_type": "code",
   "execution_count": 107,
   "metadata": {
    "collapsed": false
   },
   "outputs": [
    {
     "data": {
      "text/plain": [
       "[(\"tu quid ego et populus mecum desideret audi  si plausoris eges aulaea manentis et usque  sessuri donec cantor 'vos plaudite' dicat.\",\n",
       "  ['Do you attend to what I and the public in my opinion expect from you [as a dramatic writer].']),\n",
       " ('aetatis cuiusque notandi sunt tibi mores  mobilibusque decor naturis dandus et annis.',\n",
       "  ['If you are desirous of an applauding spectator who will wait for [the falling of] the curtain and till the chorus calls out \"your plaudits\" the manners of every age must be marked by you and a proper decorum assigned to men\\'s varying dispositions and years.']),\n",
       " ('reddere qui voces iam scit puer et pede certo  signat humum gestit paribus conludere et iram  colligit ac ponit temere et mutatur in horas.',\n",
       "  ['The boy who is just able to pronounce his words and prints the ground with a firm tread delights to play with his fellows and contracts and lays aside anger without reason and is subject to change every hour.']),\n",
       " ('inberbis iuvenis tandem custode remoto  gaudet equis canibusque et aprici gramine campi  cereus in vitium flecti monitoribus asper  utilium tardus provisor prodigus aeris  sublimis cupidusque et amata relinquere pernix.',\n",
       "  ['The beardless youth his guardian being at length discharged joys in horses and dogs and the verdure of the sunny Campus Martius pliable as wax to the bent of vice rough to advisers a slow provider of useful things prodigal of his money high-spirited and amorous and hasty in deserting the objects of his passion.']),\n",
       " ('conversis studiis aetas animusque virilis   quaerit opes et amicitias inservit honori  conmisisse cavet quod mox mutare laboret.',\n",
       "  ['[After this] our inclinations being changed the age and spirit of manhood seeks after wealth and [high] connections is subservient to points of honor and is cautious of committing any action which he would subsequently be industrious to correct.']),\n",
       " ('multa senem circumveniunt incommoda vel quod  quaerit et inventis miser abstinet ac timet uti  vel quod res omnis timide gelideque ministrat  dilator spe longus iners avidusque futuri  difficilis querulus laudator temporis acti  se puero castigator censorque minorum.',\n",
       "  ['Many inconveniences encompass a man in years either because he seeks [eagerly] for gainQuaerit = quaestus facit as in Virg.']),\n",
       " ('multa ferunt anni venientes commoda secum  multa recedentes adimunt ne forte seniles  mandentur iuveni partes pueroque viriles  semper in adiunctis aevoque morabitur aptis.',\n",
       "  ['Georg.']),\n",
       " ('aut agitur res in scaenis aut acta refertur.', ['i.']),\n",
       " ('segnius inritant animos demissa per aurem  quam quae sunt oculis subiecta fidelibus et quae  ipse sibi tradit spectator non tamen intus  digna geri promes in scaenam multaque tolles  ex oculis quae mox narret facundia praesens  ne pueros coram populo Medea trucidet  aut humana palam coquat exta nefarius atreus  aut in avem Procne vertatur Cadmus in anguem.',\n",
       "  ['In medium quaerebant.',\n",
       "   'and abstains from what he has gotten and is afraid to make use of it or because he transacts every thing in a timorous and dispassionate manner dilatory slow in hope remiss and greedy of futurity.']),\n",
       " ('quodcumque ostendis mihi sic incredulus odi.   ',\n",
       "  ['Peevish querulous a panegyrist of former times when he was a boy a chastiser and censurer of his juniors.',\n",
       "   'Our advancing yearsHe returns to his first division of human life into two parts.',\n",
       "   '\"Anni venientes\" the years preceding manhood \"anni recedentes\" the years going back toward old age and death.',\n",
       "   'The ancients reckoned the former by addition the latter by subtraction.',\n",
       "   'The French have an expression like this of \"recedentes anni.\"',\n",
       "   'They say \"il est sur son retour\" \"he is upon his return\" when a person is declining in years.',\n",
       "   'bring many advantages along with them.',\n",
       "   'Many our declining ones take away.',\n",
       "   \"That the parts [therefore] belong ing to age may not be given to youth and those of a man to a boy we must dwell upon those qualities which are joined and adapted to each person's age.Semper in adjunctis.\",\n",
       "   '\"Adjuncta aevo\" every thing which attends age \"apta aevo\" every thing proper to it.',\n",
       "   'An action is either represented on the stage or being done elsewhere is there related.',\n",
       "   'The things which enter by the ear affect the mind more languidly than such as are submitted to the faithful eyes and what a spectator presents to himself.',\n",
       "   'You must not however bring upon the stage things fit only to be acted behind the scenes and you must take away from view many actions which elegant descritionFacundia praesens.',\n",
       "   'The recital of an actor present which ought to be made with all the pathetic facundia or a recital instead of the action facundia facti vicaria quae rem quasi oculis praesentem sistit.',\n",
       "   'may soon after deliver in presence [of the spectators].',\n",
       "   'Let not Medea murder her sons before the people nor the execrable Atreus openly dress human entrails nor let Progne be metamorphosed into a bird Cadmus into a serpent.',\n",
       "   'Whatever you show to me in this manner not able to give credit to I detest.'])]"
      ]
     },
     "execution_count": 107,
     "metadata": {},
     "output_type": "execute_result"
    }
   ],
   "source": [
    "alignments[5]"
   ]
  },
  {
   "cell_type": "code",
   "execution_count": 83,
   "metadata": {
    "collapsed": false
   },
   "outputs": [],
   "source": [
    "soup = BeautifulSoup(e,'lxml')"
   ]
  },
  {
   "cell_type": "code",
   "execution_count": 82,
   "metadata": {
    "collapsed": false
   },
   "outputs": [],
   "source": [
    "e = eng_sections[-1].replace('</p>\\n', '')"
   ]
  },
  {
   "cell_type": "code",
   "execution_count": 102,
   "metadata": {
    "collapsed": false
   },
   "outputs": [
    {
     "data": {
      "text/plain": [
       "['',\n",
       " '\\n<p>In the choice of his words, too, the author of the projected poem must be delicate and cautious, he must embrace one and reject another: you will express yourself eminently well, if a dexterous combination should give an air of novelty to a wellknown word. If it happen to be necessary to explain some abstruse subjects by new invented terms; it will follow that you must frame words never heard of by the old-fashioned<note anchored=\"yes\" n=\"8\" resp=\"McCaul\"><p><cit><quote lang=\"la\">Cinctutis.</quote><bibl n=\"Hor. Ars 50\"></bibl></cit> Having the tunic tightened by the cinctus, or wearing the cinctus instead of the tunic, as appears to have been the custom of the ancient Romans. This was a vest which passed round the waist, and extended down to the feet. That it was an ancient vesture may appear from its being used by the Luperci. Comp. <bibl n=\"Ov. Fast. 5.101\">Ovid. Fast. v. 101</bibl>. As it did not embarrass the motion of the arms, even after the tunic became part of the dress, it was sometimes substituted for it by those who had occasion to use much bodily exertion. Hence <foreign lang=\"la\">cinctutis</foreign> is supposed by some to have a meaning here similar to that of <foreign lang=\"la\">succinctus</foreign>, \"active, industrious.\" Others explain the word as referring to that arrangement of the toga called <foreign lang=\"la\">cinctus Gabinus.</foreign></p></note> Cethegi: and the license will be granted, if modestly used: and new and lately-formed words will have authority, if they descend from a Greek source, with a slight deviation. But why should the Romans grant to Plautus and Caecilius a privilege denied to Virgil and Varius? Why should I be envied, if I have it in my power to acquire a few words, when the language of Cato and Ennius has enriched our native tongue, and produced new names of things It has been, and ever will be, allowable to coin a word marked with the stamp in present request. As leaves in the woods are changed with the fleeting years; the earliest fall off first: in this manner words perish with old age, and those lately invented flourish and thrive, like men in the time of youth. We, and our works, are doomed to death: whether Neptune,<note anchored=\"yes\" n=\"9\" resp=\"San\"><p>Agrippa opened a communication between the Lucrine and Avernian Lakes in 717, and built a magnificent haven there, which he named Portius Julius, in honor of Augustus, who was at that time only called Julius Octavianus.</p></note> admitted into the continent, defends our fleet from the north winds, a kingly work; or the lake, for a long time unfertile and fit for oars, now maintains its neighboring cities and feels the heavy plow; or the liver, taught to run in a more convenient channel, has changed its course which was so destructive<note anchored=\"yes\" n=\"10\" resp=\"TAB\"><p>The Scholiast informs us, that Agrippa opened a canal to receive the waters of the <placeName key=\"tgn,1130786\">Tiber</placeName>, which had overflowed the country.</p></note> to the fruits. Mortal works must perish: much less can the honor and elegance of language be long-lived. Many words shall revive,<note anchored=\"yes\" n=\"11\" resp=\"Hurd\"><p>This revival of old words is one of those niceties in composition, not to be attempted by any but great masters. It may be done two ways: 1. by restoring such terms as are grown entirely obsolete; or 2. by selecting out of those which have still a currency, and are not quite laid aside, such as are most forcible and expressive. These choice words, among such as are still in use, I take to be those which are employed by the old writers in some peculiarly strong and energetic sense, yet so as with good advantage to be copied by the moderns, without appearing barbarous or affected. (See <bibl n=\"Hor. Ep. 2.2.115\">Hor. lib. ii. ep. ii. v. 115.</bibl>) The other use of old terms, i. e. when become obsolete, he says, must be made parce, more sparingly.</p></note> which now have fallen off; and many which are now in esteem shall fall off, if it be the will of custom, in whose power is the decision and right and standard of language.\\n\\n']"
      ]
     },
     "execution_count": 102,
     "metadata": {},
     "output_type": "execute_result"
    }
   ],
   "source": [
    "re.split(r'</.>',eng_sections[2],maxsplit=1)"
   ]
  },
  {
   "cell_type": "code",
   "execution_count": 98,
   "metadata": {
    "collapsed": false
   },
   "outputs": [
    {
     "data": {
      "text/plain": [
       "'If a painterAll that our poet says here may be referred, in general, to three heads, the fable, the manners, and the diction. We should take notice that this piece particularly regards epic and dramatic poetry, and that our author only occasionally mentions any other kind. The most important precept for the composition of a poem is unity and simplicity of design. There should be only one action, to which all the incidents ought to refer; and this point of perfection, every regular work requires. To show the necessity of this rule, Horace compares an irregular poem to pictures formed by a wild assortment of many parts entirely unlike each other. Every part, considered in itself, may have its proper, natural perfection, while their union produces nothing but what is monstrous and ridiculous. FRAN. The critic\\'s rules must be taken either, 1. from the general standing laws of composition; or, 2. from the peculiar ones, appropriated to the kind. Now the direction to be fetched from the former of these sources will of course precede, as well on account of its superior dignity, as that the mind itself delights to descend from universals to the consideration of particulars. Agreeably to this rule of nature, the poet, having to correct, in the Roman drama, these three points, 1. a misconduct in the disposition; 2. an abuse of language; and, 3. a disregard of the peculiar characters and colorings of its different species, hath chosen to do this on principles of universal nature; which, while they include the case of the drama, at the same time extend to poetic composition at large. These prefatory, universal observations being delivered, he then proceeds, with advantage, to the second source of this art, viz., the consideration of the laws and rules peculiar to the kind. should wish to unite a horse\\'s neck to a human head, and spread a variety of plumage over limbs [of different animals] taken from every part [of nature],But Orelli more rightly treats collatis membris as the ablative absolute. so that what is a beautiful woman in the upper part terminates unsightly in an ugly fish below; could you, my friends, refrain from laughter, were you admitted to such a sight  Believe, ye Pisos, the book will be perfectly like such a picture, the ideas of which, like a sick man\\'s dreams, are all vain and fictitious: so that neither head nor foot can correspond to any one form. \"Poets and painters [you will say] have ever had equal authority for attempting any thing.\" We are conscious of this, and this privilege we demand and allow in turn: but not to such a degree, that the tame should associate with the savage; nor that serpents should be coupled with birds, lambs with tigers.\\n\\nIn pompous introductions,These preparatory observations, concerning the laws of poetic composition at large, have been thought to glance more particularly at the epic poetry which was not improper: for, 1. the drama which he was about to criticise, had its rise and origin from the epos. Thus we are told by the great critic, that Homer was the first who invented dramatic imitations mo/nos — o(/ti mimh/seis dramatika\\\\s e)poi/hse. 2. The several censures, here pointed at the epic, would bear still more directly against the tragic poem; it being more glaringly inconsistent with the genius of the drama to admit of foreign and digressive ornaments, than of the extended, episodical epopaeia. For both these reasons, it was altogether pertinent to the poet\\'s purpose, in a criticism on the drama, to expose the vicious practice of the epic models. Though, to preserve the unity of his piece, and for a further reason (see note on v. 1), he hath artfully done this under the cover of general criticism. and such as promise a great deal, it generally happens that one or two verses of purple patch-work, that may make a great show, are tagged on; as when the grove and the altar of Diana and the meandering of a current hastening through pleasant fields, or the river Rhine, or the rainbow is described. But here there was no room for these [fine things]: perhaps, too, you know how to draw a cypress:Boughs of cypress were carried in funeral processions, and placed before the houses of the great, upon particular occasions of sorrow, Et non plebeios luctus testata cupressus. Lucan. From hence, perhaps, this tree was usually drawn in votive tablets; in pictures carried by beggars, to excite charity; and in those used by lawyers in courts of justice, to raise the compassion of the judges, by representing the distresses of their clients. A painter might, by frequent practice, excel in drawing a tree for which there was such demand; and he therefore absurdly determines to show his skill upon all occasions, even by painting it in the middle of the ocean, and making it overshadow the storm. The commentators understand this passage in a different manner. but what is that to the purpose, if he, who is painted for the given price, is [to be represented as] swimming hopeless out of a shipwreck? A large vase at first was designed: why, as the wheel revolves, turns out a little pitcher? In a word, be your subject what it will, let it be merely simple and uniform.\\n\\nThe great majority of us poets, father, and youths worthy such a father, are misled by the appearance of right. I labor to be concise, I become obscure: nerves and spirit fail him, that aims at the easy: one, that pretends to be sublime, proves bombastical: he who is too cautious and fearful of the storm, crawls along the ground: he who wants to vary his subject in a marvelous manner,\\nThe word prodigialiter apparently refers to that fictitious monster, under which the poet allusively shadows out the idea of absurd and inconsistent composition. The application, however, differs in this, that, whereas the monster, there painted, was intended to expose the extravagance of putting together incongruous parts, without any reference to a whole, this prodigy is designed to characterize a whole, but deformed by the ill-judged position of its parts. The former is like a monster, whose several members as of right belonging to different animals, could by no disposition be made to constitute one consistent animal. The other, like a landscape which hath no objects absolutely irrelative, or irreducible to a whole, but which a wrong position of the parts only renders prodigious. Send the boar to the woods, and the dolphin to the waves; and the painter might show them both on the same canvas.\\nEach is a violation of the law of unity, and a real monster: the one, because it contains an assemblage of natural incoherent parts; the other, because its parts, though in themselves coherent, are misplaced and disjointed. paints the dolphin in the woods, the boar in the sea.  The avoiding of an error leads to a fault, if it lack skill.\\nA statuary about the Aemilian school shall of himself, with singular skill,Unus = praeter caeteros, melius quam reliqui omnes. both express the nails, and imitate in brass the flexible hair; unhappy yet in the main, because he knows not how to finish a complete piece. I would no more choose to be such a one as this, had I a mind to compose any thing, than to live with a distorted nose, [though] remarkable for black eyes and jetty hair.\\nYe who write, make choice of a subject suitable to your abilities; and revolve in your thoughts a considerable time what your strengthLiterally, \"shoulders,\" a phrase derived from wrestlers. The reading before Bentley was imus.  declines, and what it is able to support. Neither elegance of style, nor a perspicuous disposition, shall desert the man, by whom the subject matter is chosen judiciously.\\n\\nThis, or I am mistaken, will constitute the merit and beauty of arrangement, that the poet just now say what ought just now to be said, put off most of his thoughts, and waive them for the present.\\n\\n'"
      ]
     },
     "execution_count": 98,
     "metadata": {},
     "output_type": "execute_result"
    }
   ],
   "source": [
    "eng_text[0]"
   ]
  },
  {
   "cell_type": "code",
   "execution_count": null,
   "metadata": {
    "collapsed": true
   },
   "outputs": [],
   "source": []
  }
 ],
 "metadata": {
  "kernelspec": {
   "display_name": "Python [conda root]",
   "language": "python",
   "name": "conda-root-py"
  },
  "language_info": {
   "codemirror_mode": {
    "name": "ipython",
    "version": 3
   },
   "file_extension": ".py",
   "mimetype": "text/x-python",
   "name": "python",
   "nbconvert_exporter": "python",
   "pygments_lexer": "ipython3",
   "version": "3.5.2"
  }
 },
 "nbformat": 4,
 "nbformat_minor": 1
}
