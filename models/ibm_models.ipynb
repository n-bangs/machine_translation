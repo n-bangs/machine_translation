{
 "cells": [
  {
   "cell_type": "code",
   "execution_count": 1,
   "metadata": {
    "collapsed": false
   },
   "outputs": [],
   "source": [
    "import json\n",
    "import os\n",
    "import re\n",
    "import string\n",
    "\n",
    "from cltk.tokenize.word import WordTokenizer\n",
    "from cltk.stem.lemma import LemmaReplacer\n",
    "from cltk.stem.latin.j_v import JVReplacer\n",
    "from nltk.translate import AlignedSent, Alignment, IBMModel1, IBMModel2, IBMModel3\n",
    "from nltk.tokenize import wordpunct_tokenize\n",
    "from nltk.translate.ibm_model import AlignmentInfo"
   ]
  },
  {
   "cell_type": "code",
   "execution_count": 2,
   "metadata": {
    "collapsed": false
   },
   "outputs": [],
   "source": [
    "lat_tokenizer = WordTokenizer('latin')\n",
    "j = JVReplacer()\n",
    "eng_tokenizer = wordpunct_tokenize\n",
    "lem = LemmaReplacer('latin')"
   ]
  },
  {
   "cell_type": "code",
   "execution_count": null,
   "metadata": {
    "collapsed": false
   },
   "outputs": [],
   "source": [
    "def get_sentence_pair(alignments):\n",
    "    for a in alignments:\n",
    "        for s in a:\n",
    "            #for s in p:\n",
    "            lat_sent = tokenize_sentences(s[0],lat_tokenizer.tokenize)\n",
    "            eng_sent = tokenize_sentences(s[1], eng_tokenizer)\n",
    "            yield [lat_sent,eng_sent]"
   ]
  },
  {
   "cell_type": "code",
   "execution_count": 3,
   "metadata": {
    "collapsed": true
   },
   "outputs": [],
   "source": [
    "def tokenize_sentences(sent,tok):\n",
    "    tokens = []\n",
    "    if type(sent) == list:\n",
    "        for s in sent:\n",
    "            s = re.sub(r'[{}]'.format(string.punctuation),'',s).lower()\n",
    "            s = re.sub(r'  *', ' ', s)\n",
    "            tokens += tok(s.lower())\n",
    "    else:\n",
    "        sent = re.sub(r'[{}]'.format(string.punctuation),'',sent).lower()\n",
    "        sent = re.sub(r'  *', ' ', sent)\n",
    "        tokens += tok(sent)\n",
    "        \n",
    "    return tokens"
   ]
  },
  {
   "cell_type": "code",
   "execution_count": 4,
   "metadata": {
    "collapsed": true
   },
   "outputs": [],
   "source": [
    "os.chdir('../aligned_sentences/')"
   ]
  },
  {
   "cell_type": "code",
   "execution_count": 5,
   "metadata": {
    "collapsed": false
   },
   "outputs": [
    {
     "data": {
      "text/plain": [
       "['caes_bc_sentences.json',\n",
       " 'cicero_lael_friendship_sentences.json',\n",
       " 'catullus.json',\n",
       " 'cicero_div_sentences.json',\n",
       " 'celsus_sentences.json',\n",
       " 'amm_lat_sentences.json',\n",
       " 'cicero_off_sentences.json',\n",
       " 'caes_bg_sentences_03457.json',\n",
       " 'cicero_sen_falc_sentences.json']"
      ]
     },
     "execution_count": 5,
     "metadata": {},
     "output_type": "execute_result"
    }
   ],
   "source": [
    "os.listdir()"
   ]
  },
  {
   "cell_type": "code",
   "execution_count": 6,
   "metadata": {
    "collapsed": false
   },
   "outputs": [],
   "source": [
    "bitext = []\n",
    "\n",
    "for f in os.listdir():\n",
    "    if f == 'amm_lat_sentences.json':\n",
    "        continue\n",
    "    of = open(f)\n",
    "    aligned_sentences = json.loads(of.read())\n",
    "    of.close()\n",
    "\n",
    "    for a in aligned_sentences:\n",
    "        for s in a:\n",
    "            lat_sent = tokenize_sentences(s[0],lat_tokenizer.tokenize)\n",
    "            eng_sent = tokenize_sentences(s[1], eng_tokenizer)\n",
    "            if len(lat_sent) == 0 or len(eng_sent) == 0:\n",
    "                continue\n",
    "            bitext.append(AlignedSent(lat_sent,eng_sent))\n",
    "\n",
    "of = open('amm_lat_sentences.json')\n",
    "aligned_sentences = json.loads(of.read())\n",
    "of.close()\n",
    "\n",
    "for a in aligned_sentences:\n",
    "    for p in a:\n",
    "        for s in p:\n",
    "            lat_sent = tokenize_sentences(s[0],lat_tokenizer.tokenize)\n",
    "            #while '' in lat_sent:\n",
    "            #    lat_sent.remove('')\n",
    "            #lat_sent = lem.lemmatize(lat_sent)\n",
    "            eng_sent = tokenize_sentences(s[1], eng_tokenizer)\n",
    "            if len(lat_sent) == 0 or len(eng_sent) == 0:\n",
    "                continue\n",
    "            bitext.append(AlignedSent(lat_sent,eng_sent))"
   ]
  },
  {
   "cell_type": "code",
   "execution_count": 7,
   "metadata": {
    "collapsed": false
   },
   "outputs": [
    {
     "data": {
      "text/plain": [
       "13842"
      ]
     },
     "execution_count": 7,
     "metadata": {},
     "output_type": "execute_result"
    }
   ],
   "source": [
    "len(bitext)"
   ]
  },
  {
   "cell_type": "code",
   "execution_count": 8,
   "metadata": {
    "collapsed": false
   },
   "outputs": [],
   "source": [
    "eng_bitext = []\n",
    "\n",
    "for f in os.listdir():\n",
    "    if f == 'amm_lat_sentences.json':\n",
    "        continue\n",
    "    of = open(f)\n",
    "    aligned_sentences = json.loads(of.read())\n",
    "    of.close()\n",
    "\n",
    "    for a in aligned_sentences:\n",
    "        for s in a:\n",
    "            lat_sent = tokenize_sentences(s[0],lat_tokenizer.tokenize)\n",
    "            eng_sent = tokenize_sentences(s[1], eng_tokenizer)\n",
    "            if len(lat_sent) == 0 or len(eng_sent) == 0:\n",
    "                continue\n",
    "            eng_bitext.append(AlignedSent(eng_sent, lat_sent))\n",
    "\n",
    "of = open('amm_lat_sentences.json')\n",
    "aligned_sentences = json.loads(of.read())\n",
    "of.close()\n",
    "\n",
    "for a in aligned_sentences:\n",
    "    for p in a:\n",
    "        for s in p:\n",
    "            lat_sent = tokenize_sentences(s[0],lat_tokenizer.tokenize)\n",
    "            #while '' in lat_sent:\n",
    "            #    lat_sent.remove('')\n",
    "            #lat_sent = lem.lemmatize(lat_sent)\n",
    "            eng_sent = tokenize_sentences(s[1], eng_tokenizer)\n",
    "            if len(lat_sent) == 0 or len(eng_sent) == 0:\n",
    "                continue\n",
    "            eng_bitext.append(AlignedSent(eng_sent,lat_sent))"
   ]
  },
  {
   "cell_type": "code",
   "execution_count": null,
   "metadata": {
    "collapsed": false
   },
   "outputs": [],
   "source": [
    "lat_mod = IBMModel3(bitext[:1000],2)"
   ]
  },
  {
   "cell_type": "code",
   "execution_count": null,
   "metadata": {
    "collapsed": true
   },
   "outputs": [],
   "source": [
    "print('done')"
   ]
  },
  {
   "cell_type": "code",
   "execution_count": null,
   "metadata": {
    "collapsed": false
   },
   "outputs": [],
   "source": [
    "print(eng_bitext[0])"
   ]
  },
  {
   "cell_type": "code",
   "execution_count": null,
   "metadata": {
    "collapsed": false
   },
   "outputs": [],
   "source": [
    "eng_mod = IBMModel3(eng_bitext,5)"
   ]
  },
  {
   "cell_type": "code",
   "execution_count": null,
   "metadata": {
    "collapsed": false
   },
   "outputs": [],
   "source": [
    "print('Done')"
   ]
  },
  {
   "cell_type": "code",
   "execution_count": null,
   "metadata": {
    "collapsed": false
   },
   "outputs": [],
   "source": [
    "eng_mod"
   ]
  },
  {
   "cell_type": "code",
   "execution_count": null,
   "metadata": {
    "collapsed": false
   },
   "outputs": [],
   "source": [
    "lat_mod.best_model2_alignment(AlignedSent(['vir', 'mittit','florem'],['the','dog','sleeps']))"
   ]
  },
  {
   "cell_type": "code",
   "execution_count": null,
   "metadata": {
    "collapsed": true
   },
   "outputs": [],
   "source": [
    "ba = _"
   ]
  },
  {
   "cell_type": "code",
   "execution_count": null,
   "metadata": {
    "collapsed": false
   },
   "outputs": [],
   "source": [
    "ba.alignment"
   ]
  },
  {
   "cell_type": "code",
   "execution_count": null,
   "metadata": {
    "collapsed": true
   },
   "outputs": [],
   "source": [
    "ba.alignment = (0,0,1,2)ki"
   ]
  },
  {
   "cell_type": "code",
   "execution_count": null,
   "metadata": {
    "collapsed": false
   },
   "outputs": [],
   "source": [
    "lat_mod.prob_t_a_given_s(ba)"
   ]
  },
  {
   "cell_type": "code",
   "execution_count": null,
   "metadata": {
    "collapsed": false
   },
   "outputs": [],
   "source": [
    "len(bitext)"
   ]
  },
  {
   "cell_type": "code",
   "execution_count": null,
   "metadata": {
    "collapsed": true
   },
   "outputs": [],
   "source": [
    "a = Alignment([(0,0),(1,1),(2,2)])"
   ]
  },
  {
   "cell_type": "code",
   "execution_count": null,
   "metadata": {
    "collapsed": true
   },
   "outputs": [],
   "source": [
    "al = [AlignedSent(['puer','amat','puella'],['boy','loves','girl'])]"
   ]
  },
  {
   "cell_type": "code",
   "execution_count": null,
   "metadata": {
    "collapsed": true
   },
   "outputs": [],
   "source": []
  },
  {
   "cell_type": "code",
   "execution_count": null,
   "metadata": {
    "collapsed": false
   },
   "outputs": [],
   "source": [
    "water = eng_mod.translation_table['wonder']\n",
    "\n",
    "import operator\n",
    "\n",
    "sorted_x = sorted(water.items(), key=operator.itemgetter(1),reverse=True)\n",
    "\n",
    "sorted_x"
   ]
  },
  {
   "cell_type": "code",
   "execution_count": null,
   "metadata": {
    "collapsed": false
   },
   "outputs": [],
   "source": [
    "import dill as pickle"
   ]
  },
  {
   "cell_type": "code",
   "execution_count": null,
   "metadata": {
    "collapsed": true
   },
   "outputs": [],
   "source": [
    "import pickle"
   ]
  },
  {
   "cell_type": "code",
   "execution_count": null,
   "metadata": {
    "collapsed": true
   },
   "outputs": [],
   "source": [
    "with open('lat_ibm_model_2_1.pk', 'wb') as fout:\n",
    "    pickle.dump(lat_mod,fout)"
   ]
  },
  {
   "cell_type": "code",
   "execution_count": null,
   "metadata": {
    "collapsed": true
   },
   "outputs": [],
   "source": [
    "with open('eng_ibm_model_2_1.pk', 'wb') as fout:\n",
    "    pickle.dump(eng_mod,fout)"
   ]
  },
  {
   "cell_type": "code",
   "execution_count": null,
   "metadata": {
    "collapsed": false
   },
   "outputs": [],
   "source": [
    "with open('lat_ibm_model_2_bitext.pk', 'wb') as fout:\n",
    "    pickle.dump(bitext,fout)"
   ]
  },
  {
   "cell_type": "code",
   "execution_count": null,
   "metadata": {
    "collapsed": true
   },
   "outputs": [],
   "source": [
    "with open('eng_ibm_model_2_bitext.pk', 'wb') as fout:\n",
    "    pickle.dump(eng_bitext,fout)"
   ]
  },
  {
   "cell_type": "code",
   "execution_count": null,
   "metadata": {
    "collapsed": false
   },
   "outputs": [],
   "source": [
    "l.src_sentence"
   ]
  },
  {
   "cell_type": "code",
   "execution_count": null,
   "metadata": {
    "collapsed": false
   },
   "outputs": [],
   "source": [
    "l.trg_sentence"
   ]
  },
  {
   "cell_type": "code",
   "execution_count": null,
   "metadata": {
    "collapsed": false
   },
   "outputs": [],
   "source": [
    "bitext[3].alignment"
   ]
  },
  {
   "cell_type": "code",
   "execution_count": null,
   "metadata": {
    "collapsed": false
   },
   "outputs": [],
   "source": [
    "b = 1\n",
    "for a in bitext[b].alignment:\n",
    "    w = a[0]\n",
    "    m = a[1]\n",
    "    if w == None:\n",
    "        word = 'None'\n",
    "    else:\n",
    "        word = bitext[b].words[w]\n",
    "    if m == None:\n",
    "        mot = 'None'\n",
    "    else:\n",
    "        mot = bitext[b].mots[a[1]]\n",
    "        \n",
    "    print('{} : {}'.format(word,mot))"
   ]
  },
  {
   "cell_type": "code",
   "execution_count": null,
   "metadata": {
    "collapsed": false
   },
   "outputs": [],
   "source": [
    "bitext[-900].words"
   ]
  },
  {
   "cell_type": "code",
   "execution_count": null,
   "metadata": {
    "collapsed": false,
    "scrolled": true
   },
   "outputs": [],
   "source": [
    "for b in range(len(bitext)):\n",
    "    for a in bitext[b].alignment:\n",
    "        print('{} : {}'.format(bitext[b].words[a[0]],bitext[b].mots[a[1]]))"
   ]
  },
  {
   "cell_type": "code",
   "execution_count": null,
   "metadata": {
    "collapsed": false
   },
   "outputs": [],
   "source": [
    "bitext[3].words[8]"
   ]
  },
  {
   "cell_type": "code",
   "execution_count": null,
   "metadata": {
    "collapsed": false
   },
   "outputs": [],
   "source": [
    "bitext[3].mots[60]"
   ]
  },
  {
   "cell_type": "code",
   "execution_count": null,
   "metadata": {
    "collapsed": false
   },
   "outputs": [],
   "source": [
    "mod = IBMModel1.train(bitext)"
   ]
  },
  {
   "cell_type": "code",
   "execution_count": null,
   "metadata": {
    "collapsed": false
   },
   "outputs": [],
   "source": [
    "mod.translation_table['rex']['king']"
   ]
  },
  {
   "cell_type": "code",
   "execution_count": null,
   "metadata": {
    "collapsed": false
   },
   "outputs": [],
   "source": [
    "mod.translation_table['regina']['queen']"
   ]
  },
  {
   "cell_type": "code",
   "execution_count": null,
   "metadata": {
    "collapsed": false
   },
   "outputs": [],
   "source": [
    "mod.prob_of_alignments(['hic','puer','amat'],['this','boy','loves'],[(0, 0), (1, 1), (2, 2), (3, None), (4, 3)])"
   ]
  },
  {
   "cell_type": "code",
   "execution_count": null,
   "metadata": {
    "collapsed": false
   },
   "outputs": [],
   "source": [
    "mod.align(bitexts[0])"
   ]
  },
  {
   "cell_type": "code",
   "execution_count": null,
   "metadata": {
    "collapsed": false
   },
   "outputs": [],
   "source": [
    "al_s = AlignedSent(['puer','amat','puellam'],['the','boy','loves','the','girl'],a)"
   ]
  },
  {
   "cell_type": "code",
   "execution_count": null,
   "metadata": {
    "collapsed": false
   },
   "outputs": [],
   "source": [
    "a = Alignment([(0,1),(1,2),(2,4)])"
   ]
  },
  {
   "cell_type": "code",
   "execution_count": null,
   "metadata": {
    "collapsed": false
   },
   "outputs": [],
   "source": [
    "bitext[0].src_sentence"
   ]
  },
  {
   "cell_type": "code",
   "execution_count": null,
   "metadata": {
    "collapsed": true
   },
   "outputs": [],
   "source": []
  }
 ],
 "metadata": {
  "anaconda-cloud": {},
  "kernelspec": {
   "display_name": "Python [conda root]",
   "language": "python",
   "name": "conda-root-py"
  },
  "language_info": {
   "codemirror_mode": {
    "name": "ipython",
    "version": 3
   },
   "file_extension": ".py",
   "mimetype": "text/x-python",
   "name": "python",
   "nbconvert_exporter": "python",
   "pygments_lexer": "ipython3",
   "version": "3.5.2"
  }
 },
 "nbformat": 4,
 "nbformat_minor": 1
}
