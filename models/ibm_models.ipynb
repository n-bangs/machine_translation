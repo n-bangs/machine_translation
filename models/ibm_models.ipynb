{
 "cells": [
  {
   "cell_type": "code",
   "execution_count": 1,
   "metadata": {
    "collapsed": false
   },
   "outputs": [],
   "source": [
    "import json\n",
    "import os\n",
    "import re\n",
    "import string\n",
    "\n",
    "from cltk.tokenize.word import WordTokenizer\n",
    "from cltk.stem.lemma import LemmaReplacer\n",
    "from nltk.translate import AlignedSent, Alignment, IBMModel1, IBMModel2\n",
    "from nltk.tokenize import wordpunct_tokenize\n",
    "from nltk.translate.ibm_model import AlignmentInfo"
   ]
  },
  {
   "cell_type": "code",
   "execution_count": 3,
   "metadata": {
    "collapsed": false
   },
   "outputs": [
    {
     "ename": "MemoryError",
     "evalue": "",
     "output_type": "error",
     "traceback": [
      "\u001b[0;31m---------------------------------------------------------------------------\u001b[0m",
      "\u001b[0;31mMemoryError\u001b[0m                               Traceback (most recent call last)",
      "\u001b[0;32m<ipython-input-3-2c28e678912c>\u001b[0m in \u001b[0;36m<module>\u001b[0;34m()\u001b[0m\n\u001b[1;32m      1\u001b[0m \u001b[0mlat_tokenizer\u001b[0m \u001b[0;34m=\u001b[0m \u001b[0mWordTokenizer\u001b[0m\u001b[0;34m(\u001b[0m\u001b[0;34m'latin'\u001b[0m\u001b[0;34m)\u001b[0m\u001b[0;34m\u001b[0m\u001b[0m\n\u001b[1;32m      2\u001b[0m \u001b[0meng_tokenizer\u001b[0m \u001b[0;34m=\u001b[0m \u001b[0mwordpunct_tokenize\u001b[0m\u001b[0;34m\u001b[0m\u001b[0m\n\u001b[0;32m----> 3\u001b[0;31m \u001b[0mlem\u001b[0m \u001b[0;34m=\u001b[0m \u001b[0mLemmaReplacer\u001b[0m\u001b[0;34m(\u001b[0m\u001b[0;34m'latin'\u001b[0m\u001b[0;34m)\u001b[0m\u001b[0;34m\u001b[0m\u001b[0m\n\u001b[0m",
      "\u001b[0;32m/home/ubuntu/anaconda3/lib/python3.5/site-packages/cltk/stem/lemma.py\u001b[0m in \u001b[0;36m__init__\u001b[0;34m(self, language)\u001b[0m\n\u001b[1;32m     22\u001b[0m         \u001b[0;32massert\u001b[0m \u001b[0mself\u001b[0m\u001b[0;34m.\u001b[0m\u001b[0mlanguage\u001b[0m \u001b[0;32min\u001b[0m \u001b[0mAVAILABLE_LANGUAGES\u001b[0m\u001b[0;34m,\u001b[0m\u001b[0;31m \u001b[0m\u001b[0;31m\\\u001b[0m\u001b[0;34m\u001b[0m\u001b[0m\n\u001b[1;32m     23\u001b[0m             \u001b[0;34m\"Lemmatizer not available for language '{0}'.\"\u001b[0m\u001b[0;34m.\u001b[0m\u001b[0mformat\u001b[0m\u001b[0;34m(\u001b[0m\u001b[0mself\u001b[0m\u001b[0;34m.\u001b[0m\u001b[0mlanguage\u001b[0m\u001b[0;34m)\u001b[0m\u001b[0;34m\u001b[0m\u001b[0m\n\u001b[0;32m---> 24\u001b[0;31m         \u001b[0mself\u001b[0m\u001b[0;34m.\u001b[0m\u001b[0mlemmata\u001b[0m \u001b[0;34m=\u001b[0m \u001b[0mself\u001b[0m\u001b[0;34m.\u001b[0m\u001b[0m_load_replacement_patterns\u001b[0m\u001b[0;34m(\u001b[0m\u001b[0;34m)\u001b[0m\u001b[0;34m\u001b[0m\u001b[0m\n\u001b[0m\u001b[1;32m     25\u001b[0m \u001b[0;34m\u001b[0m\u001b[0m\n\u001b[1;32m     26\u001b[0m     \u001b[0;32mdef\u001b[0m \u001b[0m_load_replacement_patterns\u001b[0m\u001b[0;34m(\u001b[0m\u001b[0mself\u001b[0m\u001b[0;34m)\u001b[0m\u001b[0;34m:\u001b[0m\u001b[0;34m\u001b[0m\u001b[0m\n",
      "\u001b[0;32m/home/ubuntu/anaconda3/lib/python3.5/site-packages/cltk/stem/lemma.py\u001b[0m in \u001b[0;36m_load_replacement_patterns\u001b[0;34m(self)\u001b[0m\n\u001b[1;32m     43\u001b[0m             \u001b[0;31m#logger.info('Loading lemmata. This may take a minute.')\u001b[0m\u001b[0;34m\u001b[0m\u001b[0;34m\u001b[0m\u001b[0m\n\u001b[1;32m     44\u001b[0m             \u001b[0mloader\u001b[0m \u001b[0;34m=\u001b[0m \u001b[0mimportlib\u001b[0m\u001b[0;34m.\u001b[0m\u001b[0mmachinery\u001b[0m\u001b[0;34m.\u001b[0m\u001b[0mSourceFileLoader\u001b[0m\u001b[0;34m(\u001b[0m\u001b[0;34m'greek_lemmata_cltk'\u001b[0m\u001b[0;34m,\u001b[0m \u001b[0mpath\u001b[0m\u001b[0;34m)\u001b[0m\u001b[0;34m\u001b[0m\u001b[0m\n\u001b[0;32m---> 45\u001b[0;31m         \u001b[0mmodule\u001b[0m \u001b[0;34m=\u001b[0m \u001b[0mloader\u001b[0m\u001b[0;34m.\u001b[0m\u001b[0mload_module\u001b[0m\u001b[0;34m(\u001b[0m\u001b[0;34m)\u001b[0m\u001b[0;34m\u001b[0m\u001b[0m\n\u001b[0m\u001b[1;32m     46\u001b[0m         \u001b[0mlemmata\u001b[0m \u001b[0;34m=\u001b[0m \u001b[0mmodule\u001b[0m\u001b[0;34m.\u001b[0m\u001b[0mLEMMATA\u001b[0m\u001b[0;34m\u001b[0m\u001b[0m\n\u001b[1;32m     47\u001b[0m         \u001b[0;32mreturn\u001b[0m \u001b[0mlemmata\u001b[0m\u001b[0;34m\u001b[0m\u001b[0m\n",
      "\u001b[0;32m/home/ubuntu/anaconda3/lib/python3.5/importlib/_bootstrap_external.py\u001b[0m in \u001b[0;36m_check_name_wrapper\u001b[0;34m(self, name, *args, **kwargs)\u001b[0m\n",
      "\u001b[0;32m/home/ubuntu/anaconda3/lib/python3.5/importlib/_bootstrap_external.py\u001b[0m in \u001b[0;36mload_module\u001b[0;34m(self, fullname)\u001b[0m\n",
      "\u001b[0;32m/home/ubuntu/anaconda3/lib/python3.5/importlib/_bootstrap_external.py\u001b[0m in \u001b[0;36mload_module\u001b[0;34m(self, fullname)\u001b[0m\n",
      "\u001b[0;32m/home/ubuntu/anaconda3/lib/python3.5/importlib/_bootstrap.py\u001b[0m in \u001b[0;36m_load_module_shim\u001b[0;34m(self, fullname)\u001b[0m\n",
      "\u001b[0;32m/home/ubuntu/anaconda3/lib/python3.5/importlib/_bootstrap.py\u001b[0m in \u001b[0;36m_load\u001b[0;34m(spec)\u001b[0m\n",
      "\u001b[0;32m/home/ubuntu/anaconda3/lib/python3.5/importlib/_bootstrap.py\u001b[0m in \u001b[0;36m_load_unlocked\u001b[0;34m(spec)\u001b[0m\n",
      "\u001b[0;32m/home/ubuntu/anaconda3/lib/python3.5/importlib/_bootstrap_external.py\u001b[0m in \u001b[0;36mexec_module\u001b[0;34m(self, module)\u001b[0m\n",
      "\u001b[0;32m/home/ubuntu/anaconda3/lib/python3.5/importlib/_bootstrap_external.py\u001b[0m in \u001b[0;36mget_code\u001b[0;34m(self, fullname)\u001b[0m\n",
      "\u001b[0;32m/home/ubuntu/anaconda3/lib/python3.5/importlib/_bootstrap_external.py\u001b[0m in \u001b[0;36msource_to_code\u001b[0;34m(self, data, path, _optimize)\u001b[0m\n",
      "\u001b[0;32m/home/ubuntu/anaconda3/lib/python3.5/importlib/_bootstrap.py\u001b[0m in \u001b[0;36m_call_with_frames_removed\u001b[0;34m(f, *args, **kwds)\u001b[0m\n",
      "\u001b[0;31mMemoryError\u001b[0m: "
     ]
    }
   ],
   "source": [
    "lat_tokenizer = WordTokenizer('latin')\n",
    "eng_tokenizer = wordpunct_tokenize\n",
    "lem = LemmaReplacer('latin')"
   ]
  },
  {
   "cell_type": "code",
   "execution_count": 7,
   "metadata": {
    "collapsed": false
   },
   "outputs": [],
   "source": [
    "def get_sentence_pair(alignments):\n",
    "    for a in alignments:\n",
    "        for s in a:\n",
    "            #for s in p:\n",
    "            lat_sent = tokenize_sentences(s[0],lat_tokenizer.tokenize)\n",
    "            eng_sent = tokenize_sentences(s[1], eng_tokenizer)\n",
    "            yield [lat_sent,eng_sent]"
   ]
  },
  {
   "cell_type": "code",
   "execution_count": 8,
   "metadata": {
    "collapsed": true
   },
   "outputs": [],
   "source": [
    "def tokenize_sentences(sent,tok):\n",
    "    tokens = []\n",
    "    if type(sent) == list:\n",
    "        for s in sent:\n",
    "            s = re.sub(r'[{}]'.format(string.punctuation),'',s).lower()\n",
    "            s = re.sub(r'  *', ' ', s)\n",
    "            tokens += tok(s.lower())\n",
    "    else:\n",
    "        sent = re.sub(r'[{}]'.format(string.punctuation),'',sent).lower()\n",
    "        sent = re.sub(r'  *', ' ', sent)\n",
    "        tokens += tok(sent)\n",
    "        \n",
    "    return tokens"
   ]
  },
  {
   "cell_type": "code",
   "execution_count": 10,
   "metadata": {
    "collapsed": false
   },
   "outputs": [],
   "source": [
    "os.chdir('../aligned_sentences/')"
   ]
  },
  {
   "cell_type": "code",
   "execution_count": 15,
   "metadata": {
    "collapsed": true
   },
   "outputs": [],
   "source": [
    "bitext = []"
   ]
  },
  {
   "cell_type": "code",
   "execution_count": 16,
   "metadata": {
    "collapsed": false
   },
   "outputs": [],
   "source": [
    "for f in os.listdir()[2:]:\n",
    "    of = open(f)\n",
    "    aligned_sentences = json.loads(of.read())\n",
    "    of.close()\n",
    "\n",
    "    for a in aligned_sentences:\n",
    "        for s in a:\n",
    "            lat_sent = tokenize_sentences(s[0],lat_tokenizer.tokenize)\n",
    "            eng_sent = tokenize_sentences(s[1], eng_tokenizer)\n",
    "            if len(lat_sent) == 0 or len(eng_sent) == 0:\n",
    "                continue\n",
    "            bitext.append(AlignedSent(lat_sent,eng_sent))"
   ]
  },
  {
   "cell_type": "code",
   "execution_count": 33,
   "metadata": {
    "collapsed": false
   },
   "outputs": [],
   "source": [
    "of = open('amm_lat_sentences.json')\n",
    "aligned_sentences = json.loads(of.read())\n",
    "of.close()\n",
    "\n",
    "for a in aligned_sentences:\n",
    "    for p in a:\n",
    "        for s in p:\n",
    "            lat_sent = tokenize_sentences(s[0],lat_tokenizer.tokenize)\n",
    "            #while '' in lat_sent:\n",
    "            #    lat_sent.remove('')\n",
    "            #lat_sent = lem.lemmatize(lat_sent)\n",
    "            eng_sent = tokenize_sentences(s[1], eng_tokenizer)\n",
    "            if len(lat_sent) == 0 or len(eng_sent) == 0:\n",
    "                continue\n",
    "            bitext.append(AlignedSent(lat_sent,eng_sent))"
   ]
  },
  {
   "cell_type": "code",
   "execution_count": 35,
   "metadata": {
    "collapsed": false
   },
   "outputs": [],
   "source": [
    "lat_mod = IBMModel2(bitext,5)"
   ]
  },
  {
   "cell_type": "code",
   "execution_count": 103,
   "metadata": {
    "collapsed": false
   },
   "outputs": [
    {
     "data": {
      "text/plain": [
       "<nltk.translate.ibm_model.AlignmentInfo at 0x10e4372e8>"
      ]
     },
     "execution_count": 103,
     "metadata": {},
     "output_type": "execute_result"
    }
   ],
   "source": [
    "lat_mod.best_model2_alignment(AlignedSent(['vir', 'mittit','florem'],['the','dog','sleeps']))"
   ]
  },
  {
   "cell_type": "code",
   "execution_count": 104,
   "metadata": {
    "collapsed": true
   },
   "outputs": [],
   "source": [
    "ba = _"
   ]
  },
  {
   "cell_type": "code",
   "execution_count": 105,
   "metadata": {
    "collapsed": false
   },
   "outputs": [
    {
     "data": {
      "text/plain": [
       "(0, 3, 2, 2)"
      ]
     },
     "execution_count": 105,
     "metadata": {},
     "output_type": "execute_result"
    }
   ],
   "source": [
    "ba.alignment"
   ]
  },
  {
   "cell_type": "code",
   "execution_count": 82,
   "metadata": {
    "collapsed": true
   },
   "outputs": [],
   "source": [
    "ba.alignment = (0,0,1,2)"
   ]
  },
  {
   "cell_type": "code",
   "execution_count": 106,
   "metadata": {
    "collapsed": false
   },
   "outputs": [
    {
     "data": {
      "text/plain": [
       "1e-12"
      ]
     },
     "execution_count": 106,
     "metadata": {},
     "output_type": "execute_result"
    }
   ],
   "source": [
    "lat_mod.prob_t_a_given_s(ba)"
   ]
  },
  {
   "cell_type": "code",
   "execution_count": 34,
   "metadata": {
    "collapsed": false
   },
   "outputs": [
    {
     "data": {
      "text/plain": [
       "13842"
      ]
     },
     "execution_count": 34,
     "metadata": {},
     "output_type": "execute_result"
    }
   ],
   "source": [
    "len(bitext)"
   ]
  },
  {
   "cell_type": "code",
   "execution_count": 313,
   "metadata": {
    "collapsed": true
   },
   "outputs": [],
   "source": [
    "a = Alignment([(0,0),(1,1),(2,2)])"
   ]
  },
  {
   "cell_type": "code",
   "execution_count": 64,
   "metadata": {
    "collapsed": true
   },
   "outputs": [],
   "source": [
    "al = [AlignedSent(['puer','amat','puella'],['boy','loves','girl'])]"
   ]
  },
  {
   "cell_type": "code",
   "execution_count": null,
   "metadata": {
    "collapsed": true
   },
   "outputs": [],
   "source": []
  },
  {
   "cell_type": "code",
   "execution_count": 67,
   "metadata": {
    "collapsed": false
   },
   "outputs": [
    {
     "data": {
      "text/plain": [
       "[('boy', 0.2485569861740875),\n",
       " ('child', 0.20056384513451622),\n",
       " ('pleasantries', 0.16252012854239156),\n",
       " ('boyhood', 0.08702546596248617),\n",
       " ('warring', 0.07982650519977687),\n",
       " ('digestible', 0.07171616335142347),\n",
       " ('modesty', 0.058536794578169155),\n",
       " ('robust', 0.044002867102806376),\n",
       " ('falernian', 0.0414775950632067),\n",
       " ('palaestra', 0.03996733698371485),\n",
       " ('clots', 0.03868119997001731),\n",
       " ('prematurely', 0.038599964500483946),\n",
       " ('gymnasium', 0.037387518065823126),\n",
       " ('nurse', 0.036634707328906835),\n",
       " ('racecourse', 0.03599724632268186),\n",
       " ('seasonableness', 0.035335531260977694),\n",
       " ('walk', 0.03295568276563076),\n",
       " ('bunch', 0.032286580788085585),\n",
       " ('swineherd', 0.032286580788085585),\n",
       " ('subdivided', 0.032286580788085585),\n",
       " ('duellius', 0.031189742414642483),\n",
       " ('torchbearer', 0.029898735186094337),\n",
       " ('naval', 0.027300384240961262),\n",
       " ('unobsequied', 0.024999314504749702),\n",
       " ('adored', 0.024999314504749702),\n",
       " ('cecropian', 0.024999311801514695),\n",
       " ('pollio', 0.02166663936223283),\n",
       " ('rectum', 0.020231575598105872),\n",
       " ('vetches', 0.019529706375853172),\n",
       " ('ostentation', 0.015622264117474421),\n",
       " ('attus', 0.01368502420120627),\n",
       " ('cupbearer', 0.013591582206980231),\n",
       " ('olives', 0.008396828750807366),\n",
       " ('fluteplayer', 0.007596923251241314),\n",
       " ('moderate', 0.0036694987934553),\n",
       " ('metellus', 0.0013061743122032945),\n",
       " ('drunker', 0.0007596885333414578),\n",
       " ('sluggard', 0.0005537498856031472),\n",
       " ('vervains', 0.0002126067831157142),\n",
       " ('boned', 0.0002037469873625067),\n",
       " ('anoint', 4.7412387018887356e-05),\n",
       " ('twentytwo', 3.5134426314158874e-05),\n",
       " ('pustules', 1.9303739193717712e-05),\n",
       " ('girl', 1.868181138843222e-05),\n",
       " ('loves', 1.868181138843222e-05),\n",
       " ('ants', 1.5048215272422324e-05),\n",
       " ('crete', 8.01894406669085e-06),\n",
       " ('lad', 7.068789679006983e-06),\n",
       " ('postumia', 6.4215665082953135e-06),\n",
       " ('lutatius', 4.271269650947318e-06),\n",
       " ('grape', 2.9548807491293934e-06),\n",
       " ('slept', 1.202935898339353e-06),\n",
       " ('grains', 3.667989524541212e-07),\n",
       " ('cleopatra', 3.564769511764777e-07),\n",
       " ('soda', 2.8753657039911736e-07),\n",
       " ('pinthia', 6.61356027846458e-08),\n",
       " ('fimbria', 6.491736007861523e-08),\n",
       " ('reach', 5.843305069669407e-08),\n",
       " ('bids', 3.3210643904399406e-08),\n",
       " ('mix', 5.934307247347703e-09),\n",
       " ('clever', 4.973760640221714e-09),\n",
       " ('thefts', 2.574044210744696e-09),\n",
       " ('dining', 2.2772401566843038e-09),\n",
       " ('ought', 2.0090226693445014e-09),\n",
       " ('exconsul', 1.6521602507877418e-09),\n",
       " ('pontiff', 7.361266144527182e-10),\n",
       " ('recover', 5.931636076463692e-10),\n",
       " ('dust', 3.474323785645505e-10),\n",
       " ('phrygia', 2.041533442248827e-10),\n",
       " ('vigour', 1.5885368182018848e-10),\n",
       " ('enjoyed', 1.4823885907430387e-10),\n",
       " ('recall', 8.165706588216342e-11),\n",
       " ('judge', 3.885246883142321e-11),\n",
       " ('involved', 1.3390305605682764e-11),\n",
       " ('gruel', 9.446186620397039e-12),\n",
       " ('loletting', 7.294931481108439e-12),\n",
       " ('mouth', 6.0245485926471594e-12),\n",
       " ('vexed', 5.631255316629565e-12),\n",
       " ('talk', 5.313006658758388e-12),\n",
       " ('gaius', 1.877463795854771e-12),\n",
       " ('end', 1.614996917964044e-12),\n",
       " ('desist', 1.2819737613652255e-12),\n",
       " ('talent', 1.046455308554896e-12),\n",
       " ('done', 1e-12),\n",
       " ('much', 1e-12),\n",
       " ('atmosphere', 1e-12),\n",
       " ('shown', 1e-12),\n",
       " ('used', 1e-12),\n",
       " ('his', 1e-12),\n",
       " ('but', 1e-12),\n",
       " (None, 1e-12),\n",
       " ('unsound', 1e-12),\n",
       " ('became', 1e-12),\n",
       " ('win', 1e-12),\n",
       " ('king', 1e-12),\n",
       " ('addition', 1e-12),\n",
       " ('minor', 1e-12),\n",
       " ('diluted', 1e-12),\n",
       " ('downwards', 1e-12),\n",
       " ('oil', 1e-12),\n",
       " ('drink', 1e-12),\n",
       " ('while', 1e-12),\n",
       " ('assumed', 1e-12),\n",
       " ('moved', 1e-12),\n",
       " ('hunger', 1e-12),\n",
       " ('months', 1e-12),\n",
       " ('athens', 1e-12),\n",
       " ('in', 1e-12),\n",
       " ('had', 1e-12),\n",
       " ('four', 1e-12),\n",
       " ('and', 1e-12),\n",
       " ('for', 1e-12),\n",
       " ('laws', 1e-12),\n",
       " ('on', 1e-12),\n",
       " ('victory', 1e-12),\n",
       " ('too', 1e-12),\n",
       " ('roman', 1e-12),\n",
       " ('doing', 1e-12),\n",
       " ('medicament', 1e-12),\n",
       " ('most', 1e-12),\n",
       " ('second', 1e-12),\n",
       " ('citizen', 1e-12),\n",
       " ('famous', 1e-12),\n",
       " ('precedent', 1e-12),\n",
       " ('manner', 1e-12),\n",
       " ('until', 1e-12),\n",
       " ('of', 1e-12),\n",
       " ('described', 1e-12),\n",
       " ('knight', 1e-12),\n",
       " ('readily', 1e-12),\n",
       " ('accident', 1e-12),\n",
       " ('fasting', 1e-12),\n",
       " ('brother', 1e-12),\n",
       " ('herself', 1e-12),\n",
       " ('home', 1e-12),\n",
       " ('lentil', 1e-12),\n",
       " ('infant', 1e-12),\n",
       " ('begin', 1e-12),\n",
       " ('does', 1e-12),\n",
       " ('washed', 1e-12),\n",
       " ('sustained', 1e-12),\n",
       " ('moves', 1e-12),\n",
       " ('ordered', 1e-12),\n",
       " ('easy', 1e-12),\n",
       " ('invade', 1e-12),\n",
       " ('down', 1e-12),\n",
       " ('collected', 1e-12),\n",
       " ('necessary', 1e-12),\n",
       " ('pregnant', 1e-12),\n",
       " ('difficulty', 1e-12),\n",
       " ('throat', 1e-12),\n",
       " ('seated', 1e-12),\n",
       " ('size', 1e-12),\n",
       " ('pearlbarley', 1e-12),\n",
       " ('pour', 1e-12),\n",
       " ('may', 1e-12),\n",
       " ('believe', 1e-12),\n",
       " ('there', 1e-12),\n",
       " ('he', 1e-12),\n",
       " ('older', 1e-12),\n",
       " ('ages', 1e-12),\n",
       " ('first', 1e-12),\n",
       " ('case', 1e-12),\n",
       " ('pull', 1e-12),\n",
       " ('sober', 1e-12),\n",
       " ('sufferer', 1e-12),\n",
       " ('summer', 1e-12),\n",
       " ('pubes', 1e-12),\n",
       " ('drunken', 1e-12),\n",
       " ('found', 1e-12),\n",
       " ('both', 1e-12),\n",
       " ('food', 1e-12),\n",
       " ('some', 1e-12),\n",
       " ('consulship', 1e-12),\n",
       " ('great', 1e-12),\n",
       " ('irreproachable', 1e-12),\n",
       " ('than', 1e-12),\n",
       " ('arms', 1e-12),\n",
       " ('more', 1e-12),\n",
       " ('above', 1e-12),\n",
       " ('himself', 1e-12),\n",
       " ('rather', 1e-12),\n",
       " ('either', 1e-12),\n",
       " ('decoction', 1e-12),\n",
       " ('recorded', 1e-12),\n",
       " ('poured', 1e-12),\n",
       " ('over', 1e-12),\n",
       " ('knees', 1e-12),\n",
       " ('though', 1e-12),\n",
       " ('position', 1e-12),\n",
       " ('unfavourable', 1e-12),\n",
       " ('chief', 1e-12),\n",
       " ('uvula', 1e-12),\n",
       " ('same', 1e-12),\n",
       " ('life', 1e-12),\n",
       " ('palate', 1e-12),\n",
       " ('deceived', 1e-12),\n",
       " ('sound', 1e-12),\n",
       " ('urine', 1e-12),\n",
       " ('father', 1e-12),\n",
       " ('bland', 1e-12),\n",
       " ('next', 1e-12),\n",
       " ('been', 1e-12),\n",
       " ('distant', 1e-12),\n",
       " ('inexperienced', 1e-12),\n",
       " ('grapes', 1e-12),\n",
       " ('which', 1e-12),\n",
       " ('last', 1e-12),\n",
       " ('lest', 1e-12),\n",
       " ('put', 1e-12),\n",
       " ('time', 1e-12),\n",
       " ('however', 1e-12),\n",
       " ('go', 1e-12),\n",
       " ('instance', 1e-12),\n",
       " ('parts', 1e-12),\n",
       " ('were', 1e-12),\n",
       " ('light', 1e-12),\n",
       " ('enough', 1e-12),\n",
       " ('theseus', 1e-12),\n",
       " ('applied', 1e-12),\n",
       " ('walking', 1e-12),\n",
       " ('patient', 1e-12),\n",
       " ('fever', 1e-12),\n",
       " ('ulcers', 1e-12),\n",
       " ('breathing', 1e-12),\n",
       " ('lucius', 1e-12),\n",
       " ('thirst', 1e-12),\n",
       " ('warm', 1e-12),\n",
       " ('him', 1e-12),\n",
       " ('feast', 1e-12),\n",
       " ('saw', 1e-12),\n",
       " ('licence', 1e-12),\n",
       " ('operation', 1e-12),\n",
       " ('fat', 1e-12),\n",
       " ('youth', 1e-12),\n",
       " ('an', 1e-12),\n",
       " ('intolerant', 1e-12),\n",
       " ('forum', 1e-12),\n",
       " ('rest', 1e-12),\n",
       " ('encamped', 1e-12),\n",
       " ('whom', 1e-12),\n",
       " ('by', 1e-12),\n",
       " ('borne', 1e-12),\n",
       " ('room', 1e-12),\n",
       " ('gargle', 1e-12),\n",
       " ('the', 1e-12),\n",
       " ('your', 1e-12),\n",
       " ('bath', 1e-12),\n",
       " ('moreover', 1e-12),\n",
       " ('this', 1e-12),\n",
       " ('exercise', 1e-12),\n",
       " ('free', 1e-12),\n",
       " ('feverish', 1e-12),\n",
       " ('swells', 1e-12),\n",
       " ('degree', 1e-12),\n",
       " ('you', 1e-12),\n",
       " ('less', 1e-12),\n",
       " ('i', 1e-12),\n",
       " ('honey', 1e-12),\n",
       " ('single', 1e-12),\n",
       " ('behind', 1e-12),\n",
       " ('after', 1e-12),\n",
       " ('would', 1e-12),\n",
       " ('office', 1e-12),\n",
       " ('son', 1e-12),\n",
       " ('is', 1e-12),\n",
       " ('fingers', 1e-12),\n",
       " ('part', 1e-12),\n",
       " ('expelled', 1e-12),\n",
       " ('cases', 1e-12),\n",
       " ('sent', 1e-12),\n",
       " ('whole', 1e-12),\n",
       " ('without', 1e-12),\n",
       " ('carthaginians', 1e-12),\n",
       " ('midas', 1e-12),\n",
       " ('body', 1e-12),\n",
       " ('because', 1e-12),\n",
       " ('gums', 1e-12),\n",
       " ('divert', 1e-12),\n",
       " ('bladder', 1e-12),\n",
       " ('season', 1e-12),\n",
       " ('my', 1e-12),\n",
       " ('welltrained', 1e-12),\n",
       " ('skilled', 1e-12),\n",
       " ('again', 1e-12),\n",
       " ('not', 1e-12),\n",
       " ('easily', 1e-12),\n",
       " ('unborn', 1e-12),\n",
       " ('temperate', 1e-12),\n",
       " ('attended', 1e-12),\n",
       " ('returning', 1e-12),\n",
       " ('only', 1e-12),\n",
       " ('recognized', 1e-12),\n",
       " ('any', 1e-12),\n",
       " ('made', 1e-12),\n",
       " ('held', 1e-12),\n",
       " ('subsequently', 1e-12),\n",
       " ('possible', 1e-12),\n",
       " ('take', 1e-12),\n",
       " ('that', 1e-12),\n",
       " ('mostly', 1e-12),\n",
       " ('mans', 1e-12),\n",
       " ('even', 1e-12),\n",
       " ('strong', 1e-12),\n",
       " ('fourth', 1e-12),\n",
       " ('give', 1e-12),\n",
       " ('can', 1e-12),\n",
       " ('kingdom', 1e-12),\n",
       " ('hands', 1e-12),\n",
       " ('woman', 1e-12),\n",
       " ('influence', 1e-12),\n",
       " ('was', 1e-12),\n",
       " ('are', 1e-12),\n",
       " ('such', 1e-12),\n",
       " ('be', 1e-12),\n",
       " ('whenever', 1e-12),\n",
       " ('has', 1e-12),\n",
       " ('three', 1e-12),\n",
       " ('legs', 1e-12),\n",
       " ('whether', 1e-12),\n",
       " ('birds', 1e-12),\n",
       " ('following', 1e-12),\n",
       " ('stool', 1e-12),\n",
       " ('takes', 1e-12),\n",
       " ('day', 1e-12),\n",
       " ('drawn', 1e-12),\n",
       " ('seen', 1e-12),\n",
       " ('necessity', 1e-12),\n",
       " ('bloodletting', 1e-12),\n",
       " ('then', 1e-12),\n",
       " ('character', 1e-12),\n",
       " ('carried', 1e-12),\n",
       " ('venery', 1e-12),\n",
       " ('orders', 1e-12),\n",
       " ('preferred', 1e-12),\n",
       " ('no', 1e-12),\n",
       " ('boys', 1e-12),\n",
       " ('mistress', 1e-12),\n",
       " ('strength', 1e-12),\n",
       " ('marvellous', 1e-12),\n",
       " ('far', 1e-12),\n",
       " ('have', 1e-12),\n",
       " ('usually', 1e-12),\n",
       " ('it', 1e-12),\n",
       " ('therefore', 1e-12),\n",
       " ('sister', 1e-12),\n",
       " ('hear', 1e-12),\n",
       " ('strait', 1e-12),\n",
       " ('about', 1e-12),\n",
       " ('work', 1e-12),\n",
       " ('draws', 1e-12),\n",
       " ('habit', 1e-12),\n",
       " ('small', 1e-12),\n",
       " ('need', 1e-12),\n",
       " ('thin', 1e-12),\n",
       " ('young', 1e-12),\n",
       " ('they', 1e-12),\n",
       " ('added', 1e-12),\n",
       " ('these', 1e-12),\n",
       " ('pungent', 1e-12),\n",
       " ('bowels', 1e-12),\n",
       " ('keeps', 1e-12),\n",
       " ('seizes', 1e-12),\n",
       " ('pass', 1e-12),\n",
       " ('so', 1e-12),\n",
       " ('she', 1e-12),\n",
       " ('hurry', 1e-12),\n",
       " ('speech', 1e-12),\n",
       " ('will', 1e-12),\n",
       " ('upon', 1e-12),\n",
       " ('often', 1e-12),\n",
       " ('who', 1e-12),\n",
       " ('practitioner', 1e-12),\n",
       " ('against', 1e-12),\n",
       " ('filled', 1e-12),\n",
       " ('sacred', 1e-12),\n",
       " ('a', 1e-12),\n",
       " ('forces', 1e-12),\n",
       " ('leave', 1e-12),\n",
       " ('gently', 1e-12),\n",
       " ('tell', 1e-12),\n",
       " ('thus', 1e-12),\n",
       " ('wheat', 1e-12),\n",
       " ('addicted', 1e-12),\n",
       " ('winter', 1e-12),\n",
       " ('clot', 1e-12),\n",
       " ('adult', 1e-12),\n",
       " ('clyster', 1e-12),\n",
       " ('or', 1e-12),\n",
       " ('constitution', 1e-12),\n",
       " ('little', 1e-12),\n",
       " ('army', 1e-12),\n",
       " ('previous', 1e-12),\n",
       " ('buttocks', 1e-12),\n",
       " ('important', 1e-12),\n",
       " ('from', 1e-12),\n",
       " ('kept', 1e-12),\n",
       " ('accustomed', 1e-12),\n",
       " ('escape', 1e-12),\n",
       " ('wine', 1e-12),\n",
       " ('friends', 1e-12),\n",
       " ('we', 1e-12),\n",
       " ('man', 1e-12),\n",
       " ('here', 1e-12),\n",
       " ('her', 1e-12),\n",
       " ('to', 1e-12),\n",
       " ('private', 1e-12),\n",
       " ('marcus', 1e-12),\n",
       " ('ills', 1e-12),\n",
       " ('out', 1e-12),\n",
       " ('all', 1e-12),\n",
       " ('breasts', 1e-12),\n",
       " ('loss', 1e-12),\n",
       " ('sedentary', 1e-12),\n",
       " ('also', 1e-12),\n",
       " ('hot', 1e-12),\n",
       " ('one', 1e-12),\n",
       " ('at', 1e-12),\n",
       " ('into', 1e-12),\n",
       " ('wound', 1e-12),\n",
       " ('willingly', 1e-12),\n",
       " ('remember', 1e-12),\n",
       " ('merely', 1e-12),\n",
       " ('as', 1e-12),\n",
       " ('midday', 1e-12),\n",
       " ('childhood', 1e-12),\n",
       " ('passed', 1e-12),\n",
       " ('still', 1e-12),\n",
       " ('see', 1e-12),\n",
       " ('old', 1e-12),\n",
       " ('—', 1e-12),\n",
       " ('walls', 1e-12),\n",
       " ('them', 1e-12),\n",
       " ('dense', 1e-12),\n",
       " ('cups', 1e-12),\n",
       " ('when', 1e-12),\n",
       " ('active', 1e-12),\n",
       " ('delight', 1e-12),\n",
       " ('sustain', 1e-12),\n",
       " ('glory', 1e-12),\n",
       " ('assured', 1e-12),\n",
       " ('should', 1e-12),\n",
       " ('corpses', 1e-12),\n",
       " ('feel', 1e-12),\n",
       " ('weak', 1e-12),\n",
       " ('up', 1e-12),\n",
       " ('goes', 1e-12),\n",
       " ('meal', 1e-12),\n",
       " ('backwards', 1e-12),\n",
       " ('me', 1e-12),\n",
       " ('ptolemy', 1e-12),\n",
       " ('sleep', 1e-12),\n",
       " ('years', 1e-12),\n",
       " ('generally', 1e-12),\n",
       " ('sweat', 1e-12),\n",
       " ('high', 1e-12),\n",
       " ('if', 1e-12),\n",
       " ('poverty', 1e-12),\n",
       " ('break', 1e-12),\n",
       " ('region', 1e-12),\n",
       " ('yield', 1e-12),\n",
       " ('mode', 1e-12),\n",
       " ('days', 1e-12),\n",
       " ('with', 1e-12),\n",
       " ('did', 1e-12),\n",
       " ('heals', 1e-12),\n",
       " ('stroked', 1e-12),\n",
       " ('water', 1e-12),\n",
       " ('blood', 1e-12),\n",
       " ('age', 1e-12),\n",
       " ('being', 1e-12),\n",
       " ('introduced', 1e-12),\n",
       " ('assistance', 1e-12),\n",
       " ('before', 1e-12)]"
      ]
     },
     "execution_count": 67,
     "metadata": {},
     "output_type": "execute_result"
    }
   ],
   "source": [
    "water = lat_mod.translation_table['puer']\n",
    "\n",
    "import operator\n",
    "\n",
    "sorted_x = sorted(water.items(), key=operator.itemgetter(1),reverse=True)\n",
    "\n",
    "sorted_x"
   ]
  },
  {
   "cell_type": "code",
   "execution_count": 265,
   "metadata": {
    "collapsed": false
   },
   "outputs": [
    {
     "data": {
      "text/plain": [
       "(0, 1, 0, 2)"
      ]
     },
     "execution_count": 265,
     "metadata": {},
     "output_type": "execute_result"
    }
   ],
   "source": [
    "l.alignment"
   ]
  },
  {
   "cell_type": "code",
   "execution_count": 217,
   "metadata": {
    "collapsed": false
   },
   "outputs": [
    {
     "data": {
      "text/plain": [
       "(None, 'boy', 'loves', 'girl')"
      ]
     },
     "execution_count": 217,
     "metadata": {},
     "output_type": "execute_result"
    }
   ],
   "source": [
    "l.src_sentence"
   ]
  },
  {
   "cell_type": "code",
   "execution_count": 218,
   "metadata": {
    "collapsed": false
   },
   "outputs": [
    {
     "data": {
      "text/plain": [
       "('UNUSED', 'puer', 'amat', 'puellam')"
      ]
     },
     "execution_count": 218,
     "metadata": {},
     "output_type": "execute_result"
    }
   ],
   "source": [
    "l.trg_sentence"
   ]
  },
  {
   "cell_type": "code",
   "execution_count": 71,
   "metadata": {
    "collapsed": false
   },
   "outputs": [
    {
     "data": {
      "text/plain": [
       "Alignment([(0, 3), (1, 63), (2, 5), (3, 50), (4, 50), (5, 6), (6, 12), (7, 3), (8, 21), (9, 24), (10, 23), (11, 19), (12, 20), (13, 63), (14, 50), (15, 30), (16, 6), (17, 72), (18, 3), (19, 6), (20, 36), (21, 55), (22, 3), (23, 41), (24, 54), (25, 63), (26, 74), (27, 3), (28, 35), (29, 6), (30, 46), (31, 54), (32, 3), (33, 47), (34, 50), (35, 50), (36, 62), (37, 3), (38, 66), (39, 78), (40, 20), (41, 67), (42, 77), (43, 79), (44, 64), (45, 3)])"
      ]
     },
     "execution_count": 71,
     "metadata": {},
     "output_type": "execute_result"
    }
   ],
   "source": [
    "bitext[3].alignment"
   ]
  },
  {
   "cell_type": "code",
   "execution_count": 150,
   "metadata": {
    "collapsed": false
   },
   "outputs": [
    {
     "data": {
      "image/svg+xml": [
       "<?xml version=\"1.0\" encoding=\"UTF-8\" standalone=\"no\"?>\n",
       "<!DOCTYPE svg PUBLIC \"-//W3C//DTD SVG 1.1//EN\"\n",
       " \"http://www.w3.org/Graphics/SVG/1.1/DTD/svg11.dtd\">\n",
       "<!-- Generated by graphviz version 2.38.0 (20140413.2041)\n",
       " -->\n",
       "<!-- Title: align Pages: 1 -->\n",
       "<svg width=\"2061pt\" height=\"151pt\"\n",
       " viewBox=\"0.00 0.00 2061.00 150.77\" xmlns=\"http://www.w3.org/2000/svg\" xmlns:xlink=\"http://www.w3.org/1999/xlink\">\n",
       "<g id=\"graph0\" class=\"graph\" transform=\"scale(1 1) rotate(0) translate(4 146.771)\">\n",
       "<title>align</title>\n",
       "<polygon fill=\"white\" stroke=\"none\" points=\"-4,4 -4,-146.771 2057,-146.771 2057,4 -4,4\"/>\n",
       "<!-- hic_source -->\n",
       "<g id=\"node1\" class=\"node\"><title>hic_source</title>\n",
       "<text text-anchor=\"middle\" x=\"129\" y=\"-85.8\" font-family=\"Times,serif\" font-size=\"14.00\">hic</text>\n",
       "</g>\n",
       "<!-- habeo_source -->\n",
       "<g id=\"node2\" class=\"node\"><title>habeo_source</title>\n",
       "<text text-anchor=\"middle\" x=\"269\" y=\"-85.8\" font-family=\"Times,serif\" font-size=\"14.00\">habeo</text>\n",
       "</g>\n",
       "<!-- hic_source&#45;&#45;habeo_source -->\n",
       "<!-- this_target -->\n",
       "<g id=\"node22\" class=\"node\"><title>this_target</title>\n",
       "<text text-anchor=\"middle\" x=\"27\" y=\"-13.8\" font-family=\"Times,serif\" font-size=\"14.00\">this</text>\n",
       "</g>\n",
       "<!-- hic_source&#45;&#45;this_target -->\n",
       "<g id=\"edge11\" class=\"edge\"><title>hic_source&#45;&#45;this_target</title>\n",
       "<path fill=\"none\" stroke=\"black\" d=\"M104.048,-71.8761C88.2418,-61.0287 67.8726,-47.0498 52.0479,-36.1898\"/>\n",
       "</g>\n",
       "<!-- de_source -->\n",
       "<g id=\"node3\" class=\"node\"><title>de_source</title>\n",
       "<text text-anchor=\"middle\" x=\"341\" y=\"-85.8\" font-family=\"Times,serif\" font-size=\"14.00\">de</text>\n",
       "</g>\n",
       "<!-- habeo_source&#45;&#45;de_source -->\n",
       "<!-- esteem_target -->\n",
       "<g id=\"node37\" class=\"node\"><title>esteem_target</title>\n",
       "<text text-anchor=\"middle\" x=\"603\" y=\"-13.8\" font-family=\"Times,serif\" font-size=\"14.00\">esteem</text>\n",
       "</g>\n",
       "<!-- habeo_source&#45;&#45;esteem_target -->\n",
       "<g id=\"edge3\" class=\"edge\"><title>habeo_source&#45;&#45;esteem_target</title>\n",
       "<path fill=\"none\" stroke=\"black\" d=\"M296.177,-75.1163C299.108,-73.9371 302.085,-72.8663 305,-72 417.669,-38.5175 454.331,-69.4825 567,-36 569.783,-35.1731 572.621,-34.1599 575.423,-33.0438\"/>\n",
       "</g>\n",
       "<!-- amicitia_source -->\n",
       "<g id=\"node4\" class=\"node\"><title>amicitia_source</title>\n",
       "<text text-anchor=\"middle\" x=\"417\" y=\"-85.8\" font-family=\"Times,serif\" font-size=\"14.00\">amicitia</text>\n",
       "</g>\n",
       "<!-- de_source&#45;&#45;amicitia_source -->\n",
       "<!-- about_target -->\n",
       "<g id=\"node30\" class=\"node\"><title>about_target</title>\n",
       "<text text-anchor=\"middle\" x=\"1428\" y=\"-13.8\" font-family=\"Times,serif\" font-size=\"14.00\">about</text>\n",
       "</g>\n",
       "<!-- de_source&#45;&#45;about_target -->\n",
       "<g id=\"edge2\" class=\"edge\"><title>de_source&#45;&#45;about_target</title>\n",
       "<path fill=\"none\" stroke=\"black\" d=\"M368.095,-74.811C371.042,-73.6913 374.045,-72.7179 377,-72 815.637,34.5593 953.363,-142.559 1392,-36 1394.96,-35.2821 1397.96,-34.3087 1400.9,-33.189\"/>\n",
       "</g>\n",
       "<!-- qui1_source -->\n",
       "<g id=\"node5\" class=\"node\"><title>qui1_source</title>\n",
       "<text text-anchor=\"middle\" x=\"565\" y=\"-85.8\" font-family=\"Times,serif\" font-size=\"14.00\">qui1</text>\n",
       "</g>\n",
       "<!-- amicitia_source&#45;&#45;qui1_source -->\n",
       "<!-- edo1_source -->\n",
       "<g id=\"node15\" class=\"node\"><title>edo1_source</title>\n",
       "<text text-anchor=\"middle\" x=\"493\" y=\"-85.8\" font-family=\"Times,serif\" font-size=\"14.00\">edo1</text>\n",
       "</g>\n",
       "<!-- amicitia_source&#45;&#45;edo1_source -->\n",
       "<!-- praestabilis_source -->\n",
       "<g id=\"node20\" class=\"node\"><title>praestabilis_source</title>\n",
       "<text text-anchor=\"middle\" x=\"650\" y=\"-85.8\" font-family=\"Times,serif\" font-size=\"14.00\">praestabilis</text>\n",
       "</g>\n",
       "<!-- amicitia_source&#45;&#45;praestabilis_source -->\n",
       "<!-- friendship_target -->\n",
       "<g id=\"node31\" class=\"node\"><title>friendship_target</title>\n",
       "<text text-anchor=\"middle\" x=\"1801\" y=\"-13.8\" font-family=\"Times,serif\" font-size=\"14.00\">friendship</text>\n",
       "</g>\n",
       "<!-- amicitia_source&#45;&#45;friendship_target -->\n",
       "<g id=\"edge12\" class=\"edge\"><title>amicitia_source&#45;&#45;friendship_target</title>\n",
       "<path fill=\"none\" stroke=\"black\" d=\"M439.414,-71.9099C721.858,-10.5291 1454.8,-91.7738 1738,-36 1746.6,-34.3056 1755.72,-31.1412 1764.72,-27.9978\"/>\n",
       "</g>\n",
       "<!-- amicitia_source&#45;&#45;friendship_target -->\n",
       "<g id=\"edge14\" class=\"edge\"><title>amicitia_source&#45;&#45;friendship_target</title>\n",
       "<path fill=\"none\" stroke=\"black\" d=\"M447.632,-74.6386C450.747,-73.5869 453.904,-72.6755 457,-72 739.142,-10.4497 1472.67,-91.801 1756,-36 1758.79,-35.4513 1761.63,-34.7485 1764.46,-33.9422\"/>\n",
       "</g>\n",
       "<!-- amicitia_source&#45;&#45;friendship_target -->\n",
       "<g id=\"edge22\" class=\"edge\"><title>amicitia_source&#45;&#45;friendship_target</title>\n",
       "<path fill=\"none\" stroke=\"black\" d=\"M447.993,-81.1603C457.123,-77.6579 466.301,-73.8978 475,-72 757.004,-10.4798 1489.95,-91.7216 1773.58,-36.0816\"/>\n",
       "</g>\n",
       "<!-- qui1_source&#45;&#45;amicitia_source -->\n",
       "<!-- dico2_source -->\n",
       "<g id=\"node6\" class=\"node\"><title>dico2_source</title>\n",
       "<text text-anchor=\"middle\" x=\"807\" y=\"-85.8\" font-family=\"Times,serif\" font-size=\"14.00\">dico2</text>\n",
       "</g>\n",
       "<!-- qui1_source&#45;&#45;dico2_source -->\n",
       "<!-- to_target -->\n",
       "<g id=\"node28\" class=\"node\"><title>to_target</title>\n",
       "<text text-anchor=\"middle\" x=\"459\" y=\"-13.8\" font-family=\"Times,serif\" font-size=\"14.00\">to</text>\n",
       "</g>\n",
       "<!-- qui1_source&#45;&#45;to_target -->\n",
       "<g id=\"edge18\" class=\"edge\"><title>qui1_source&#45;&#45;to_target</title>\n",
       "<path fill=\"none\" stroke=\"black\" d=\"M539.069,-71.8761C522.643,-61.0287 501.475,-47.0498 485.03,-36.1898\"/>\n",
       "</g>\n",
       "<!-- than_target -->\n",
       "<g id=\"node49\" class=\"node\"><title>than_target</title>\n",
       "<text text-anchor=\"middle\" x=\"1284\" y=\"-13.8\" font-family=\"Times,serif\" font-size=\"14.00\">than</text>\n",
       "</g>\n",
       "<!-- qui1_source&#45;&#45;than_target -->\n",
       "<g id=\"edge6\" class=\"edge\"><title>qui1_source&#45;&#45;than_target</title>\n",
       "<path fill=\"none\" stroke=\"black\" d=\"M592.11,-74.8721C595.054,-73.7405 598.052,-72.7476 601,-72 880.162,-1.19922 968.838,-106.801 1248,-36 1250.95,-35.2524 1253.95,-34.2595 1256.89,-33.1279\"/>\n",
       "</g>\n",
       "<!-- tu_source -->\n",
       "<g id=\"node7\" class=\"node\"><title>tu_source</title>\n",
       "<text text-anchor=\"middle\" x=\"879\" y=\"-85.8\" font-family=\"Times,serif\" font-size=\"14.00\">tu</text>\n",
       "</g>\n",
       "<!-- dico2_source&#45;&#45;tu_source -->\n",
       "<!-- say_target -->\n",
       "<g id=\"node29\" class=\"node\"><title>say_target</title>\n",
       "<text text-anchor=\"middle\" x=\"1356\" y=\"-13.8\" font-family=\"Times,serif\" font-size=\"14.00\">say</text>\n",
       "</g>\n",
       "<!-- dico2_source&#45;&#45;say_target -->\n",
       "<g id=\"edge21\" class=\"edge\"><title>dico2_source&#45;&#45;say_target</title>\n",
       "<path fill=\"none\" stroke=\"black\" d=\"M834.126,-74.9319C837.067,-73.7886 840.06,-72.7767 843,-72 1048.55,-17.7027 1114.45,-90.2973 1320,-36 1322.94,-35.2233 1325.93,-34.2114 1328.87,-33.0681\"/>\n",
       "</g>\n",
       "<!-- autem_source -->\n",
       "<g id=\"node8\" class=\"node\"><title>autem_source</title>\n",
       "<text text-anchor=\"middle\" x=\"951\" y=\"-85.8\" font-family=\"Times,serif\" font-size=\"14.00\">autem</text>\n",
       "</g>\n",
       "<!-- tu_source&#45;&#45;autem_source -->\n",
       "<!-- you_target -->\n",
       "<g id=\"node34\" class=\"node\"><title>you_target</title>\n",
       "<text text-anchor=\"middle\" x=\"836\" y=\"-13.8\" font-family=\"Times,serif\" font-size=\"14.00\">you</text>\n",
       "</g>\n",
       "<!-- tu_source&#45;&#45;you_target -->\n",
       "<g id=\"edge25\" class=\"edge\"><title>tu_source&#45;&#45;you_target</title>\n",
       "<path fill=\"none\" stroke=\"black\" d=\"M868.371,-71.6966C861.706,-60.8463 853.149,-46.9167 846.507,-36.1043\"/>\n",
       "</g>\n",
       "<!-- horto_source -->\n",
       "<g id=\"node9\" class=\"node\"><title>horto_source</title>\n",
       "<text text-anchor=\"middle\" x=\"1023\" y=\"-85.8\" font-family=\"Times,serif\" font-size=\"14.00\">horto</text>\n",
       "</g>\n",
       "<!-- autem_source&#45;&#45;horto_source -->\n",
       "<!-- i_target -->\n",
       "<g id=\"node26\" class=\"node\"><title>i_target</title>\n",
       "<text text-anchor=\"middle\" x=\"315\" y=\"-13.8\" font-family=\"Times,serif\" font-size=\"14.00\">i</text>\n",
       "</g>\n",
       "<!-- autem_source&#45;&#45;i_target -->\n",
       "<g id=\"edge5\" class=\"edge\"><title>autem_source&#45;&#45;i_target</title>\n",
       "<path fill=\"none\" stroke=\"black\" d=\"M923.883,-74.8969C920.941,-73.7604 917.945,-72.7597 915,-72 671.785,-9.25903 594.215,-98.741 351,-36 348.055,-35.2403 345.059,-34.2396 342.117,-33.1031\"/>\n",
       "</g>\n",
       "<!-- ut_source -->\n",
       "<g id=\"node10\" class=\"node\"><title>ut_source</title>\n",
       "<text text-anchor=\"middle\" x=\"1243\" y=\"-85.8\" font-family=\"Times,serif\" font-size=\"14.00\">ut</text>\n",
       "</g>\n",
       "<!-- horto_source&#45;&#45;ut_source -->\n",
       "<!-- exhort_target -->\n",
       "<g id=\"node33\" class=\"node\"><title>exhort_target</title>\n",
       "<text text-anchor=\"middle\" x=\"531\" y=\"-13.8\" font-family=\"Times,serif\" font-size=\"14.00\">exhort</text>\n",
       "</g>\n",
       "<!-- horto_source&#45;&#45;exhort_target -->\n",
       "<g id=\"edge19\" class=\"edge\"><title>horto_source&#45;&#45;exhort_target</title>\n",
       "<path fill=\"none\" stroke=\"black\" d=\"M995.866,-74.9627C992.927,-73.8134 989.936,-72.7917 987,-72 806.108,-23.2308 747.892,-84.7692 567,-36 564.064,-35.2083 561.073,-34.1866 558.134,-33.0373\"/>\n",
       "</g>\n",
       "<!-- eo1_source -->\n",
       "<g id=\"node11\" class=\"node\"><title>eo1_source</title>\n",
       "<text text-anchor=\"middle\" x=\"1315\" y=\"-85.8\" font-family=\"Times,serif\" font-size=\"14.00\">eo1</text>\n",
       "</g>\n",
       "<!-- ut_source&#45;&#45;eo1_source -->\n",
       "<!-- ut_source&#45;&#45;eo1_source -->\n",
       "<!-- that_target -->\n",
       "<g id=\"node25\" class=\"node\"><title>that_target</title>\n",
       "<text text-anchor=\"middle\" x=\"243\" y=\"-13.8\" font-family=\"Times,serif\" font-size=\"14.00\">that</text>\n",
       "</g>\n",
       "<!-- ut_source&#45;&#45;that_target -->\n",
       "<g id=\"edge13\" class=\"edge\"><title>ut_source&#45;&#45;that_target</title>\n",
       "<path fill=\"none\" stroke=\"black\" d=\"M1215.9,-74.8211C1212.96,-73.6994 1209.95,-72.7228 1207,-72 806.073,26.1035 679.927,-134.103 279,-36 276.046,-35.2772 273.044,-34.3006 270.098,-33.1789\"/>\n",
       "</g>\n",
       "<!-- so_target -->\n",
       "<g id=\"node36\" class=\"node\"><title>so_target</title>\n",
       "<text text-anchor=\"middle\" x=\"1572\" y=\"-13.8\" font-family=\"Times,serif\" font-size=\"14.00\">so</text>\n",
       "</g>\n",
       "<!-- ut_source&#45;&#45;so_target -->\n",
       "<g id=\"edge7\" class=\"edge\"><title>ut_source&#45;&#45;so_target</title>\n",
       "<path fill=\"none\" stroke=\"black\" d=\"M1270.18,-75.1242C1273.11,-73.9434 1276.09,-72.8702 1279,-72 1389.52,-38.9996 1425.48,-69.0004 1536,-36 1538.91,-35.1298 1541.89,-34.0566 1544.82,-32.8758\"/>\n",
       "</g>\n",
       "<!-- virtus_source -->\n",
       "<g id=\"node12\" class=\"node\"><title>virtus_source</title>\n",
       "<text text-anchor=\"middle\" x=\"1463\" y=\"-85.8\" font-family=\"Times,serif\" font-size=\"14.00\">virtus</text>\n",
       "</g>\n",
       "<!-- eo1_source&#45;&#45;virtus_source -->\n",
       "<!-- excipio_source -->\n",
       "<g id=\"node18\" class=\"node\"><title>excipio_source</title>\n",
       "<text text-anchor=\"middle\" x=\"1389\" y=\"-85.8\" font-family=\"Times,serif\" font-size=\"14.00\">excipio</text>\n",
       "</g>\n",
       "<!-- eo1_source&#45;&#45;excipio_source -->\n",
       "<!-- eo1_source&#45;&#45;that_target -->\n",
       "<g id=\"edge20\" class=\"edge\"><title>eo1_source&#45;&#45;that_target</title>\n",
       "<path fill=\"none\" stroke=\"black\" d=\"M1287.9,-74.8126C1284.96,-73.6926 1281.96,-72.7187 1279,-72 846.865,33.1014 711.135,-141.101 279,-36 276.045,-35.2813 273.042,-34.3074 270.095,-33.1874\"/>\n",
       "</g>\n",
       "<!-- eo1_source&#45;&#45;so_target -->\n",
       "<g id=\"edge4\" class=\"edge\"><title>eo1_source&#45;&#45;so_target</title>\n",
       "<path fill=\"none\" stroke=\"black\" d=\"M1342.23,-75.2825C1345.15,-74.0708 1348.11,-72.9471 1351,-72 1430.6,-45.9141 1456.4,-62.0859 1536,-36 1538.89,-35.0529 1541.85,-33.9292 1544.77,-32.7175\"/>\n",
       "</g>\n",
       "<!-- loco_source -->\n",
       "<g id=\"node13\" class=\"node\"><title>loco_source</title>\n",
       "<text text-anchor=\"middle\" x=\"1535\" y=\"-85.8\" font-family=\"Times,serif\" font-size=\"14.00\">loco</text>\n",
       "</g>\n",
       "<!-- virtus_source&#45;&#45;loco_source -->\n",
       "<!-- virtue_target -->\n",
       "<g id=\"node38\" class=\"node\"><title>virtue_target</title>\n",
       "<text text-anchor=\"middle\" x=\"764\" y=\"-13.8\" font-family=\"Times,serif\" font-size=\"14.00\">virtue</text>\n",
       "</g>\n",
       "<!-- virtus_source&#45;&#45;virtue_target -->\n",
       "<g id=\"edge9\" class=\"edge\"><title>virtus_source&#45;&#45;virtue_target</title>\n",
       "<path fill=\"none\" stroke=\"black\" d=\"M1435.89,-74.8775C1432.94,-73.7448 1429.95,-72.7502 1427,-72 1156.5,-3.14164 1070.5,-104.858 800,-36 797.053,-35.2498 794.055,-34.2552 791.112,-33.1225\"/>\n",
       "</g>\n",
       "<!-- sino_source -->\n",
       "<g id=\"node14\" class=\"node\"><title>sino_source</title>\n",
       "<text text-anchor=\"middle\" x=\"1679\" y=\"-85.8\" font-family=\"Times,serif\" font-size=\"14.00\">sino</text>\n",
       "</g>\n",
       "<!-- loco_source&#45;&#45;sino_source -->\n",
       "<!-- loco_source&#45;&#45;esteem_target -->\n",
       "<g id=\"edge8\" class=\"edge\"><title>loco_source&#45;&#45;esteem_target</title>\n",
       "<path fill=\"none\" stroke=\"black\" d=\"M1507.9,-74.8305C1504.95,-73.707 1501.95,-72.7274 1499,-72 1127.98,19.3978 1011.5,-125.451 640,-36 636.839,-35.2388 633.619,-34.2022 630.463,-33.0138\"/>\n",
       "</g>\n",
       "<!-- sino_source&#45;&#45;qui1_source -->\n",
       "<!-- without_target -->\n",
       "<g id=\"node39\" class=\"node\"><title>without_target</title>\n",
       "<text text-anchor=\"middle\" x=\"1646\" y=\"-13.8\" font-family=\"Times,serif\" font-size=\"14.00\">without</text>\n",
       "</g>\n",
       "<!-- sino_source&#45;&#45;without_target -->\n",
       "<g id=\"edge16\" class=\"edge\"><title>sino_source&#45;&#45;without_target</title>\n",
       "<path fill=\"none\" stroke=\"black\" d=\"M1670.84,-71.6966C1665.73,-60.8463 1659.16,-46.9167 1654.06,-36.1043\"/>\n",
       "</g>\n",
       "<!-- non_source -->\n",
       "<g id=\"node16\" class=\"node\"><title>non_source</title>\n",
       "<text text-anchor=\"middle\" x=\"1095\" y=\"-85.8\" font-family=\"Times,serif\" font-size=\"14.00\">non</text>\n",
       "</g>\n",
       "<!-- edo1_source&#45;&#45;non_source -->\n",
       "<!-- is_target -->\n",
       "<g id=\"node23\" class=\"node\"><title>is_target</title>\n",
       "<text text-anchor=\"middle\" x=\"99\" y=\"-13.8\" font-family=\"Times,serif\" font-size=\"14.00\">is</text>\n",
       "</g>\n",
       "<!-- edo1_source&#45;&#45;is_target -->\n",
       "<g id=\"edge23\" class=\"edge\"><title>edo1_source&#45;&#45;is_target</title>\n",
       "<path fill=\"none\" stroke=\"black\" d=\"M465.844,-75.0406C462.909,-73.8761 459.926,-72.8295 457,-72 318.457,-32.722 273.543,-75.278 135,-36 132.074,-35.1705 129.091,-34.1239 126.156,-32.9594\"/>\n",
       "</g>\n",
       "<!-- possum_source -->\n",
       "<g id=\"node17\" class=\"node\"><title>possum_source</title>\n",
       "<text text-anchor=\"middle\" x=\"1169\" y=\"-85.8\" font-family=\"Times,serif\" font-size=\"14.00\">possum</text>\n",
       "</g>\n",
       "<!-- non_source&#45;&#45;possum_source -->\n",
       "<!-- cannot_target -->\n",
       "<g id=\"node41\" class=\"node\"><title>cannot_target</title>\n",
       "<text text-anchor=\"middle\" x=\"1954\" y=\"-13.8\" font-family=\"Times,serif\" font-size=\"14.00\">cannot</text>\n",
       "</g>\n",
       "<!-- non_source&#45;&#45;cannot_target -->\n",
       "<g id=\"edge15\" class=\"edge\"><title>non_source&#45;&#45;cannot_target</title>\n",
       "<path fill=\"none\" stroke=\"black\" d=\"M1122.1,-74.8422C1125.05,-73.7164 1128.05,-72.7331 1131,-72 1470.82,12.4014 1578.18,-120.401 1918,-36 1920.95,-35.2669 1923.95,-34.2836 1926.9,-33.1578\"/>\n",
       "</g>\n",
       "<!-- possum_source&#45;&#45;ut_source -->\n",
       "<!-- possum_source&#45;&#45;cannot_target -->\n",
       "<g id=\"edge1\" class=\"edge\"><title>possum_source&#45;&#45;cannot_target</title>\n",
       "<path fill=\"none\" stroke=\"black\" d=\"M1198.5,-74.5568C1201.33,-73.5539 1204.19,-72.6749 1207,-72 1514.66,1.86541 1611.11,-113.017 1918,-36 1920.95,-35.2597 1923.95,-34.2717 1926.89,-33.143\"/>\n",
       "</g>\n",
       "<!-- nihil_source -->\n",
       "<g id=\"node19\" class=\"node\"><title>nihil_source</title>\n",
       "<text text-anchor=\"middle\" x=\"1607\" y=\"-85.8\" font-family=\"Times,serif\" font-size=\"14.00\">nihil</text>\n",
       "</g>\n",
       "<!-- excipio_source&#45;&#45;nihil_source -->\n",
       "<!-- excepting_target -->\n",
       "<g id=\"node43\" class=\"node\"><title>excepting_target</title>\n",
       "<text text-anchor=\"middle\" x=\"684\" y=\"-13.8\" font-family=\"Times,serif\" font-size=\"14.00\">excepting</text>\n",
       "</g>\n",
       "<!-- excipio_source&#45;&#45;excepting_target -->\n",
       "<g id=\"edge17\" class=\"edge\"><title>excipio_source&#45;&#45;excepting_target</title>\n",
       "<path fill=\"none\" stroke=\"black\" d=\"M1360.34,-74.884C1357.24,-73.75 1354.09,-72.7534 1351,-72 1081.55,-6.29068 999.071,-94.6865 728,-36 725.119,-35.3762 722.178,-34.5916 719.25,-33.7039\"/>\n",
       "</g>\n",
       "<!-- nihil_source&#45;&#45;amicitia_source -->\n",
       "<!-- nothing_target -->\n",
       "<g id=\"node46\" class=\"node\"><title>nothing_target</title>\n",
       "<text text-anchor=\"middle\" x=\"1054\" y=\"-13.8\" font-family=\"Times,serif\" font-size=\"14.00\">nothing</text>\n",
       "</g>\n",
       "<!-- nihil_source&#45;&#45;nothing_target -->\n",
       "<g id=\"edge26\" class=\"edge\"><title>nihil_source&#45;&#45;nothing_target</title>\n",
       "<path fill=\"none\" stroke=\"black\" d=\"M1579.87,-74.931C1576.93,-73.7878 1573.94,-72.7762 1571,-72 1364.58,-17.5087 1298.97,-88.3711 1092,-36 1089.2,-35.2908 1086.34,-34.3882 1083.52,-33.37\"/>\n",
       "</g>\n",
       "<!-- puto_source -->\n",
       "<g id=\"node21\" class=\"node\"><title>puto_source</title>\n",
       "<text text-anchor=\"middle\" x=\"735\" y=\"-85.8\" font-family=\"Times,serif\" font-size=\"14.00\">puto</text>\n",
       "</g>\n",
       "<!-- praestabilis_source&#45;&#45;puto_source -->\n",
       "<!-- praestabilis_source&#45;&#45;excepting_target -->\n",
       "<g id=\"edge24\" class=\"edge\"><title>praestabilis_source&#45;&#45;excepting_target</title>\n",
       "<path fill=\"none\" stroke=\"black\" d=\"M658.404,-71.6966C663.675,-60.8463 670.44,-46.9167 675.692,-36.1043\"/>\n",
       "</g>\n",
       "<!-- think_target -->\n",
       "<g id=\"node45\" class=\"node\"><title>think_target</title>\n",
       "<text text-anchor=\"middle\" x=\"980\" y=\"-13.8\" font-family=\"Times,serif\" font-size=\"14.00\">think</text>\n",
       "</g>\n",
       "<!-- puto_source&#45;&#45;think_target -->\n",
       "<g id=\"edge10\" class=\"edge\"><title>puto_source&#45;&#45;think_target</title>\n",
       "<path fill=\"none\" stroke=\"black\" d=\"M762.242,-75.321C765.16,-74.1018 768.116,-72.9658 771,-72 845.47,-47.0589 869.53,-60.9411 944,-36 946.884,-35.0342 949.84,-33.8982 952.758,-32.679\"/>\n",
       "</g>\n",
       "<!-- this_target&#45;&#45;is_target -->\n",
       "<!-- all_target -->\n",
       "<g id=\"node24\" class=\"node\"><title>all_target</title>\n",
       "<text text-anchor=\"middle\" x=\"171\" y=\"-13.8\" font-family=\"Times,serif\" font-size=\"14.00\">all</text>\n",
       "</g>\n",
       "<!-- is_target&#45;&#45;all_target -->\n",
       "<!-- all_target&#45;&#45;that_target -->\n",
       "<!-- that_target&#45;&#45;i_target -->\n",
       "<!-- that_target&#45;&#45;excepting_target -->\n",
       "<!-- had_target -->\n",
       "<g id=\"node27\" class=\"node\"><title>had_target</title>\n",
       "<text text-anchor=\"middle\" x=\"387\" y=\"-13.8\" font-family=\"Times,serif\" font-size=\"14.00\">had</text>\n",
       "</g>\n",
       "<!-- i_target&#45;&#45;had_target -->\n",
       "<!-- i_target&#45;&#45;exhort_target -->\n",
       "<!-- had_target&#45;&#45;to_target -->\n",
       "<!-- to_target&#45;&#45;say_target -->\n",
       "<!-- to_target&#45;&#45;esteem_target -->\n",
       "<!-- say_target&#45;&#45;about_target -->\n",
       "<!-- about_target&#45;&#45;friendship_target -->\n",
       "<!-- but_target -->\n",
       "<g id=\"node32\" class=\"node\"><title>but_target</title>\n",
       "<text text-anchor=\"middle\" x=\"1882\" y=\"-13.8\" font-family=\"Times,serif\" font-size=\"14.00\">but</text>\n",
       "</g>\n",
       "<!-- friendship_target&#45;&#45;but_target -->\n",
       "<!-- friendship_target&#45;&#45;cannot_target -->\n",
       "<!-- but_target&#45;&#45;i_target -->\n",
       "<!-- exhort_target&#45;&#45;you_target -->\n",
       "<!-- both_target -->\n",
       "<g id=\"node35\" class=\"node\"><title>both_target</title>\n",
       "<text text-anchor=\"middle\" x=\"1500\" y=\"-13.8\" font-family=\"Times,serif\" font-size=\"14.00\">both</text>\n",
       "</g>\n",
       "<!-- you_target&#45;&#45;both_target -->\n",
       "<!-- will_target -->\n",
       "<g id=\"node44\" class=\"node\"><title>will_target</title>\n",
       "<text text-anchor=\"middle\" x=\"908\" y=\"-13.8\" font-family=\"Times,serif\" font-size=\"14.00\">will</text>\n",
       "</g>\n",
       "<!-- you_target&#45;&#45;will_target -->\n",
       "<!-- both_target&#45;&#45;so_target -->\n",
       "<!-- so_target&#45;&#45;to_target -->\n",
       "<!-- esteem_target&#45;&#45;virtue_target -->\n",
       "<!-- virtue_target&#45;&#45;you_target -->\n",
       "<!-- virtue_target&#45;&#45;without_target -->\n",
       "<!-- which_target -->\n",
       "<g id=\"node40\" class=\"node\"><title>which_target</title>\n",
       "<text text-anchor=\"middle\" x=\"1720\" y=\"-13.8\" font-family=\"Times,serif\" font-size=\"14.00\">which</text>\n",
       "</g>\n",
       "<!-- without_target&#45;&#45;which_target -->\n",
       "<!-- which_target&#45;&#45;friendship_target -->\n",
       "<!-- exist_target -->\n",
       "<g id=\"node42\" class=\"node\"><title>exist_target</title>\n",
       "<text text-anchor=\"middle\" x=\"2026\" y=\"-13.8\" font-family=\"Times,serif\" font-size=\"14.00\">exist</text>\n",
       "</g>\n",
       "<!-- cannot_target&#45;&#45;exist_target -->\n",
       "<!-- exist_target&#45;&#45;that_target -->\n",
       "<!-- excepting_target&#45;&#45;virtue_target -->\n",
       "<!-- will_target&#45;&#45;think_target -->\n",
       "<!-- think_target&#45;&#45;nothing_target -->\n",
       "<!-- more_target -->\n",
       "<g id=\"node47\" class=\"node\"><title>more_target</title>\n",
       "<text text-anchor=\"middle\" x=\"1128\" y=\"-13.8\" font-family=\"Times,serif\" font-size=\"14.00\">more</text>\n",
       "</g>\n",
       "<!-- nothing_target&#45;&#45;more_target -->\n",
       "<!-- excellent_target -->\n",
       "<g id=\"node48\" class=\"node\"><title>excellent_target</title>\n",
       "<text text-anchor=\"middle\" x=\"1206\" y=\"-13.8\" font-family=\"Times,serif\" font-size=\"14.00\">excellent</text>\n",
       "</g>\n",
       "<!-- more_target&#45;&#45;excellent_target -->\n",
       "<!-- excellent_target&#45;&#45;than_target -->\n",
       "<!-- than_target&#45;&#45;friendship_target -->\n",
       "</g>\n",
       "</svg>\n"
      ],
      "text/plain": [
       "AlignedSent(['hic', 'habeo', 'de', 'amicitia', 'qui1', 'dico2', 'tu', 'autem', 'horto', 'ut', 'eo1', 'virtus', 'loco', 'sino', 'qui1', 'amicitia', 'edo1', 'non', 'possum', 'ut', 'eo1', 'excipio', 'nihil', 'amicitia', 'praestabilis', 'puto'], ['this', 'is', 'all', 'that', 'i', 'had', 'to', 'say', 'about', 'friendship', 'but', 'i', 'exhort', 'you', 'both', 'so', 'to', 'esteem', 'virtue', 'without', 'which', 'friendship', 'cannot', 'exist', 'that', 'excepting', 'virtue', 'you', 'will', 'think', 'nothing', 'more', 'excellent', 'than', 'friendship'], Alignment([(0, 0), (1, 17), (2, 8), (3, 9), (4, 33), (5, 7), (6, 27), (7, 11), (8, 12), (9, 15), (10, 15), (11, 18), (12, 17), (13, 19), (14, 16), (15, 21), (16, 1), (17, 22), (18, 22), (19, 24), (20, 24), (21, 25), (22, 30), (23, 34), (24, 25), (25, 29)]))"
      ]
     },
     "execution_count": 150,
     "metadata": {},
     "output_type": "execute_result"
    }
   ],
   "source": [
    "bitext[-1]"
   ]
  },
  {
   "cell_type": "code",
   "execution_count": 167,
   "metadata": {
    "collapsed": false
   },
   "outputs": [
    {
     "name": "stdout",
     "output_type": "stream",
     "text": [
      "quisque : created\n",
      "rex : king\n",
      "hic : them\n",
      "constituo : created\n",
      "liberalis1 : liberally\n",
      "domus : subduing\n",
      "consilium : subduing\n",
      "polliceo : promising\n",
      "edo1 : be\n",
      "supero : subduing\n",
      "cum : with\n",
      "auctoritas : influence\n",
      "qui1 : whom\n",
      "et : and\n",
      "eo1 : those\n",
      "ibi : there\n",
      "qui1 : whom\n",
      "virtus : courage\n",
      "et : and\n",
      "-que : and\n",
      "mitto : sends\n",
      "atrebatibus : subduing\n",
      "suo : own\n",
      "in : in\n",
      "qui1 : whom\n",
      "ut : that\n",
      "qui1 : whom\n",
      "horto : exhorting\n",
      "magnus : created\n",
      "ipse : own\n",
      "habeo : esteemed\n",
      "permaneo : continue\n",
      "audio : audience\n",
      "fidelis : faithful\n",
      "commis : commius\n",
      "et : and\n",
      "sententia : subduing\n",
      "remitto : back\n",
      "unus : audience\n",
      "arbitror : audience\n",
      "eo1 : those\n",
      "et : and\n",
      "eo1 : those\n",
      "regius : country\n",
      "in : in\n",
      "probo : subduing\n"
     ]
    }
   ],
   "source": [
    "b = -6000\n",
    "for a in bitext[b].alignment:\n",
    "    w = a[0]\n",
    "    m = a[1]\n",
    "    if w == None:\n",
    "        word = 'None'\n",
    "    else:\n",
    "        word = bitext[b].words[w]\n",
    "    if m == None:\n",
    "        mot = 'None'\n",
    "    else:\n",
    "        mot = bitext[b].mots[a[1]]\n",
    "        \n",
    "    print('{} : {}'.format(word,mot))"
   ]
  },
  {
   "cell_type": "code",
   "execution_count": 165,
   "metadata": {
    "collapsed": false
   },
   "outputs": [
    {
     "data": {
      "text/plain": [
       "['quidam',\n",
       " 'cataplasmo',\n",
       " 'calfacientibus',\n",
       " 'uto',\n",
       " 'eo1',\n",
       " 'multus',\n",
       " 'pondus',\n",
       " 'noceo',\n",
       " 'quis1',\n",
       " 'vesica',\n",
       " 'urgeo',\n",
       " 'vulnus',\n",
       " 'irrito1',\n",
       " 'qui1',\n",
       " 'calor1',\n",
       " 'proficio']"
      ]
     },
     "execution_count": 165,
     "metadata": {},
     "output_type": "execute_result"
    }
   ],
   "source": [
    "bitext[-900].words"
   ]
  },
  {
   "cell_type": "code",
   "execution_count": 70,
   "metadata": {
    "collapsed": false,
    "scrolled": true
   },
   "outputs": [
    {
     "name": "stdout",
     "output_type": "stream",
     "text": [
      "per : by\n",
      "iuvant : incursion\n",
      "ordinatus : reconnoitring\n",
      "bellis : involved\n",
      "eum : him\n",
      "moventem : incursion\n",
      "dederit : makes\n",
      "mesopotamiam : mesopotamia\n",
      "nostra : territories\n",
      "quadam : policy\n",
      "ferocissimas : stage\n",
      "isauriam : incursion\n",
      "arma : frontiers\n"
     ]
    },
    {
     "ename": "TypeError",
     "evalue": "list indices must be integers or slices, not NoneType",
     "output_type": "error",
     "traceback": [
      "\u001b[0;31m---------------------------------------------------------------------------\u001b[0m",
      "\u001b[0;31mTypeError\u001b[0m                                 Traceback (most recent call last)",
      "\u001b[0;32m<ipython-input-70-966aef9a21b8>\u001b[0m in \u001b[0;36m<module>\u001b[0;34m()\u001b[0m\n\u001b[1;32m      1\u001b[0m \u001b[0;32mfor\u001b[0m \u001b[0mb\u001b[0m \u001b[0;32min\u001b[0m \u001b[0mrange\u001b[0m\u001b[0;34m(\u001b[0m\u001b[0mlen\u001b[0m\u001b[0;34m(\u001b[0m\u001b[0mbitext\u001b[0m\u001b[0;34m)\u001b[0m\u001b[0;34m)\u001b[0m\u001b[0;34m:\u001b[0m\u001b[0;34m\u001b[0m\u001b[0m\n\u001b[1;32m      2\u001b[0m     \u001b[0;32mfor\u001b[0m \u001b[0ma\u001b[0m \u001b[0;32min\u001b[0m \u001b[0mbitext\u001b[0m\u001b[0;34m[\u001b[0m\u001b[0mb\u001b[0m\u001b[0;34m]\u001b[0m\u001b[0;34m.\u001b[0m\u001b[0malignment\u001b[0m\u001b[0;34m:\u001b[0m\u001b[0;34m\u001b[0m\u001b[0m\n\u001b[0;32m----> 3\u001b[0;31m         \u001b[0mprint\u001b[0m\u001b[0;34m(\u001b[0m\u001b[0;34m'{} : {}'\u001b[0m\u001b[0;34m.\u001b[0m\u001b[0mformat\u001b[0m\u001b[0;34m(\u001b[0m\u001b[0mbitext\u001b[0m\u001b[0;34m[\u001b[0m\u001b[0mb\u001b[0m\u001b[0;34m]\u001b[0m\u001b[0;34m.\u001b[0m\u001b[0mwords\u001b[0m\u001b[0;34m[\u001b[0m\u001b[0ma\u001b[0m\u001b[0;34m[\u001b[0m\u001b[0;36m0\u001b[0m\u001b[0;34m]\u001b[0m\u001b[0;34m]\u001b[0m\u001b[0;34m,\u001b[0m\u001b[0mbitext\u001b[0m\u001b[0;34m[\u001b[0m\u001b[0mb\u001b[0m\u001b[0;34m]\u001b[0m\u001b[0;34m.\u001b[0m\u001b[0mmots\u001b[0m\u001b[0;34m[\u001b[0m\u001b[0ma\u001b[0m\u001b[0;34m[\u001b[0m\u001b[0;36m1\u001b[0m\u001b[0;34m]\u001b[0m\u001b[0;34m]\u001b[0m\u001b[0;34m)\u001b[0m\u001b[0;34m)\u001b[0m\u001b[0;34m\u001b[0m\u001b[0m\n\u001b[0m",
      "\u001b[0;31mTypeError\u001b[0m: list indices must be integers or slices, not NoneType"
     ]
    }
   ],
   "source": [
    "for b in range(len(bitext)):\n",
    "    for a in bitext[b].alignment:\n",
    "        print('{} : {}'.format(bitext[b].words[a[0]],bitext[b].mots[a[1]]))"
   ]
  },
  {
   "cell_type": "code",
   "execution_count": 58,
   "metadata": {
    "collapsed": false
   },
   "outputs": [
    {
     "data": {
      "text/plain": [
       "'ab'"
      ]
     },
     "execution_count": 58,
     "metadata": {},
     "output_type": "execute_result"
    }
   ],
   "source": [
    "bitext[3].words[8]"
   ]
  },
  {
   "cell_type": "code",
   "execution_count": 59,
   "metadata": {
    "collapsed": false
   },
   "outputs": [
    {
     "data": {
      "text/plain": [
       "'from'"
      ]
     },
     "execution_count": 59,
     "metadata": {},
     "output_type": "execute_result"
    }
   ],
   "source": [
    "bitext[3].mots[60]"
   ]
  },
  {
   "cell_type": "code",
   "execution_count": 23,
   "metadata": {
    "collapsed": false
   },
   "outputs": [
    {
     "ename": "TypeError",
     "evalue": "train() missing 1 required positional argument: 'parallel_corpus'",
     "output_type": "error",
     "traceback": [
      "\u001b[0;31m---------------------------------------------------------------------------\u001b[0m",
      "\u001b[0;31mTypeError\u001b[0m                                 Traceback (most recent call last)",
      "\u001b[0;32m<ipython-input-23-5f578abbc518>\u001b[0m in \u001b[0;36m<module>\u001b[0;34m()\u001b[0m\n\u001b[0;32m----> 1\u001b[0;31m \u001b[0mmod\u001b[0m \u001b[0;34m=\u001b[0m \u001b[0mIBMModel1\u001b[0m\u001b[0;34m.\u001b[0m\u001b[0mtrain\u001b[0m\u001b[0;34m(\u001b[0m\u001b[0mbitext\u001b[0m\u001b[0;34m)\u001b[0m\u001b[0;34m\u001b[0m\u001b[0m\n\u001b[0m",
      "\u001b[0;31mTypeError\u001b[0m: train() missing 1 required positional argument: 'parallel_corpus'"
     ]
    }
   ],
   "source": [
    "mod = IBMModel1.train(bitext)"
   ]
  },
  {
   "cell_type": "code",
   "execution_count": 16,
   "metadata": {
    "collapsed": false
   },
   "outputs": [
    {
     "data": {
      "text/plain": [
       "0.5675554043221417"
      ]
     },
     "execution_count": 16,
     "metadata": {},
     "output_type": "execute_result"
    }
   ],
   "source": [
    "mod.translation_table['rex']['king']"
   ]
  },
  {
   "cell_type": "code",
   "execution_count": 287,
   "metadata": {
    "collapsed": false
   },
   "outputs": [
    {
     "data": {
      "text/plain": [
       "0.6156239752345138"
      ]
     },
     "execution_count": 287,
     "metadata": {},
     "output_type": "execute_result"
    }
   ],
   "source": [
    "mod.translation_table['regina']['queen']"
   ]
  },
  {
   "cell_type": "code",
   "execution_count": 279,
   "metadata": {
    "collapsed": false
   },
   "outputs": [
    {
     "ename": "TypeError",
     "evalue": "prob_of_alignments() takes 2 positional arguments but 4 were given",
     "output_type": "error",
     "traceback": [
      "\u001b[0;31m---------------------------------------------------------------------------\u001b[0m",
      "\u001b[0;31mTypeError\u001b[0m                                 Traceback (most recent call last)",
      "\u001b[0;32m<ipython-input-279-65cba98fb8ac>\u001b[0m in \u001b[0;36m<module>\u001b[0;34m()\u001b[0m\n\u001b[0;32m----> 1\u001b[0;31m \u001b[0mmod\u001b[0m\u001b[0;34m.\u001b[0m\u001b[0mprob_of_alignments\u001b[0m\u001b[0;34m(\u001b[0m\u001b[0;34m[\u001b[0m\u001b[0;34m'hic'\u001b[0m\u001b[0;34m,\u001b[0m\u001b[0;34m'puer'\u001b[0m\u001b[0;34m,\u001b[0m\u001b[0;34m'amat'\u001b[0m\u001b[0;34m]\u001b[0m\u001b[0;34m,\u001b[0m\u001b[0;34m[\u001b[0m\u001b[0;34m'this'\u001b[0m\u001b[0;34m,\u001b[0m\u001b[0;34m'boy'\u001b[0m\u001b[0;34m,\u001b[0m\u001b[0;34m'loves'\u001b[0m\u001b[0;34m]\u001b[0m\u001b[0;34m,\u001b[0m\u001b[0;34m[\u001b[0m\u001b[0;34m(\u001b[0m\u001b[0;36m0\u001b[0m\u001b[0;34m,\u001b[0m \u001b[0;36m0\u001b[0m\u001b[0;34m)\u001b[0m\u001b[0;34m,\u001b[0m \u001b[0;34m(\u001b[0m\u001b[0;36m1\u001b[0m\u001b[0;34m,\u001b[0m \u001b[0;36m1\u001b[0m\u001b[0;34m)\u001b[0m\u001b[0;34m,\u001b[0m \u001b[0;34m(\u001b[0m\u001b[0;36m2\u001b[0m\u001b[0;34m,\u001b[0m \u001b[0;36m2\u001b[0m\u001b[0;34m)\u001b[0m\u001b[0;34m,\u001b[0m \u001b[0;34m(\u001b[0m\u001b[0;36m3\u001b[0m\u001b[0;34m,\u001b[0m \u001b[0;32mNone\u001b[0m\u001b[0;34m)\u001b[0m\u001b[0;34m,\u001b[0m \u001b[0;34m(\u001b[0m\u001b[0;36m4\u001b[0m\u001b[0;34m,\u001b[0m \u001b[0;36m3\u001b[0m\u001b[0;34m)\u001b[0m\u001b[0;34m]\u001b[0m\u001b[0;34m)\u001b[0m\u001b[0;34m\u001b[0m\u001b[0m\n\u001b[0m",
      "\u001b[0;31mTypeError\u001b[0m: prob_of_alignments() takes 2 positional arguments but 4 were given"
     ]
    }
   ],
   "source": [
    "mod.prob_of_alignments(['hic','puer','amat'],['this','boy','loves'],[(0, 0), (1, 1), (2, 2), (3, None), (4, 3)])"
   ]
  },
  {
   "cell_type": "code",
   "execution_count": 297,
   "metadata": {
    "collapsed": false
   },
   "outputs": [
    {
     "ename": "AttributeError",
     "evalue": "'IBMModel2' object has no attribute 'align'",
     "output_type": "error",
     "traceback": [
      "\u001b[0;31m---------------------------------------------------------------------------\u001b[0m",
      "\u001b[0;31mAttributeError\u001b[0m                            Traceback (most recent call last)",
      "\u001b[0;32m<ipython-input-297-16bdceaa2369>\u001b[0m in \u001b[0;36m<module>\u001b[0;34m()\u001b[0m\n\u001b[0;32m----> 1\u001b[0;31m \u001b[0mmod\u001b[0m\u001b[0;34m.\u001b[0m\u001b[0malign\u001b[0m\u001b[0;34m(\u001b[0m\u001b[0mbitexts\u001b[0m\u001b[0;34m[\u001b[0m\u001b[0;36m0\u001b[0m\u001b[0;34m]\u001b[0m\u001b[0;34m)\u001b[0m\u001b[0;34m\u001b[0m\u001b[0m\n\u001b[0m",
      "\u001b[0;31mAttributeError\u001b[0m: 'IBMModel2' object has no attribute 'align'"
     ]
    }
   ],
   "source": [
    "mod.align(bitexts[0])"
   ]
  },
  {
   "cell_type": "code",
   "execution_count": 295,
   "metadata": {
    "collapsed": false
   },
   "outputs": [],
   "source": [
    "al_s = AlignedSent(['puer','amat','puellam'],['the','boy','loves','the','girl'],a)"
   ]
  },
  {
   "cell_type": "code",
   "execution_count": 293,
   "metadata": {
    "collapsed": false
   },
   "outputs": [],
   "source": [
    "a = Alignment([(0,1),(1,2),(2,4)])"
   ]
  },
  {
   "cell_type": "code",
   "execution_count": 298,
   "metadata": {
    "collapsed": false
   },
   "outputs": [
    {
     "ename": "AttributeError",
     "evalue": "'AlignedSent' object has no attribute 'src_sentence'",
     "output_type": "error",
     "traceback": [
      "\u001b[0;31m---------------------------------------------------------------------------\u001b[0m",
      "\u001b[0;31mAttributeError\u001b[0m                            Traceback (most recent call last)",
      "\u001b[0;32m<ipython-input-298-86a132f98993>\u001b[0m in \u001b[0;36m<module>\u001b[0;34m()\u001b[0m\n\u001b[0;32m----> 1\u001b[0;31m \u001b[0mbitext\u001b[0m\u001b[0;34m[\u001b[0m\u001b[0;36m0\u001b[0m\u001b[0;34m]\u001b[0m\u001b[0;34m.\u001b[0m\u001b[0msrc_sentence\u001b[0m\u001b[0;34m\u001b[0m\u001b[0m\n\u001b[0m",
      "\u001b[0;31mAttributeError\u001b[0m: 'AlignedSent' object has no attribute 'src_sentence'"
     ]
    }
   ],
   "source": [
    "bitext[0].src_sentence"
   ]
  },
  {
   "cell_type": "code",
   "execution_count": null,
   "metadata": {
    "collapsed": true
   },
   "outputs": [],
   "source": []
  }
 ],
 "metadata": {
  "anaconda-cloud": {},
  "kernelspec": {
   "display_name": "Python [conda root]",
   "language": "python",
   "name": "conda-root-py"
  },
  "language_info": {
   "codemirror_mode": {
    "name": "ipython",
    "version": 3
   },
   "file_extension": ".py",
   "mimetype": "text/x-python",
   "name": "python",
   "nbconvert_exporter": "python",
   "pygments_lexer": "ipython3",
   "version": "3.5.2"
  }
 },
 "nbformat": 4,
 "nbformat_minor": 1
}
