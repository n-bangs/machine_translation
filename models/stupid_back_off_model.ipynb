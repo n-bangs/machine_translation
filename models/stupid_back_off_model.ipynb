{
 "cells": [
  {
   "cell_type": "code",
   "execution_count": 1,
   "metadata": {
    "collapsed": true
   },
   "outputs": [],
   "source": [
    "from cltk.tokenize.word import WordTokenizer\n",
    "from cltk.stop.latin.stops import STOPS_LIST\n",
    "from cltk.stem.latin.j_v import JVReplacer\n",
    "from cltk.stem.lemma import LemmaReplacer\n",
    "from cltk.tokenize.sentence import TokenizeSentence\n",
    "from collections import defaultdict\n",
    "import re\n",
    "import string\n",
    "\n",
    "import os\n",
    "\n",
    "tok = TokenizeSentence('latin').tokenize\n",
    "stop = STOPS_LIST\n",
    "wt = WordTokenizer('latin')\n",
    "j = JVReplacer()\n",
    "lemmatizer = LemmaReplacer('latin')\n",
    "\n",
    "f = open('./latin_text_latin_library/albertofaix/hist1.txt')\n",
    "\n",
    "text = f.read()\n",
    "\n",
    "t = text.splitlines()"
   ]
  },
  {
   "cell_type": "code",
   "execution_count": 30,
   "metadata": {
    "collapsed": false
   },
   "outputs": [
    {
     "data": {
      "text/plain": [
       "'\\t The Classics Page'"
      ]
     },
     "execution_count": 30,
     "metadata": {},
     "output_type": "execute_result"
    }
   ],
   "source": [
    "t[-1]"
   ]
  },
  {
   "cell_type": "code",
   "execution_count": 9,
   "metadata": {
    "collapsed": true
   },
   "outputs": [],
   "source": [
    "f.close()"
   ]
  },
  {
   "cell_type": "code",
   "execution_count": 23,
   "metadata": {
    "collapsed": false
   },
   "outputs": [],
   "source": [
    "text = text[578:]"
   ]
  },
  {
   "cell_type": "code",
   "execution_count": 46,
   "metadata": {
    "collapsed": false
   },
   "outputs": [],
   "source": [
    "text = text.replace('\\n',' ')\n",
    "text = j.replace(text.lower())\n",
    "text = re.sub(r'[0-9]', '', text)\n",
    "sent_tokens = tok(text.strip())"
   ]
  },
  {
   "cell_type": "code",
   "execution_count": 47,
   "metadata": {
    "collapsed": false
   },
   "outputs": [],
   "source": [
    "sent_tokens = sent_tokens[:-1]"
   ]
  },
  {
   "cell_type": "code",
   "execution_count": 146,
   "metadata": {
    "collapsed": false
   },
   "outputs": [],
   "source": [
    "class Stupid_Back_Off:\n",
    "    \n",
    "    \n",
    "    def __init__(self,sentence_iterable):\n",
    "        \n",
    "        self.bi_gram = defaultdict(lambda: [0,defaultdict(int)])\n",
    "        self.uni_gram = defaultdict(lambda: [0,defaultdict(int)])\n",
    "        self.no_gram = [0,defaultdict(int)]\n",
    "        self.grams = [self.no_gram,self.uni_gram,self.bi_gram]\n",
    "        \n",
    "        for sentence in sentence_iterable:\n",
    "            sent = ['**','**']+sentence+['**STOP**']\n",
    "            self._update_bigram(sent)\n",
    "            self._update_unigram(sent)\n",
    "            self._update_nogram(sent)\n",
    "            \n",
    " \n",
    "    def _update_nogram(self,sent):\n",
    "        for i in range(len(sent)):\n",
    "            self.no_gram[1][(sent[i])] += 1\n",
    "            self.no_gram[0] += 1\n",
    "\n",
    "    def _update_unigram(self,sent):\n",
    "        for i in range(len(sent)-1):\n",
    "            self.uni_gram[(sent[i])][1][sent[i+1]] += 1\n",
    "            self.uni_gram[(sent[i])][0] += 1\n",
    "            \n",
    "    def _update_bigram(self,sent):\n",
    "        for i in range(len(sent)-2):\n",
    "            self.bi_gram[(sent[i],sent[i+1])][1][sent[i+2]] += 1\n",
    "            self.bi_gram[(sent[i],sent[i+1])][0] += 1\n",
    "            \n",
    "            \n",
    "    def word_proba(self,word,prev=(None),n=2):\n",
    "        if n == 1 or n == 2:\n",
    "            return self.grams[n][prev][1][word] / self.grams[n][prev][0]\n",
    "        else:\n",
    "            return self.grams[0][1][word] / self.grams[0][0]\n",
    "        \n",
    "    def S(self,word,prev_words,i=2):\n",
    "        \"\"\"\n",
    "        Stupid Back-Off model for trigrams.\n",
    "        P(word | prev_words)\n",
    "        \"\"\"\n",
    "        if i == 0:\n",
    "            return self.grams[0][1][word] / self.grams[0][0]\n",
    "\n",
    "        if self.grams[i][prev_words][1][word] > 0:\n",
    "            return self.grams[i][prev_words][1][word] / self.grams[i][prev_words][0]\n",
    "        else:\n",
    "            return .4*self.S(word,prev_words[1:],i-1)"
   ]
  },
  {
   "cell_type": "code",
   "execution_count": 144,
   "metadata": {
    "collapsed": true
   },
   "outputs": [],
   "source": [
    "sentences = []"
   ]
  },
  {
   "cell_type": "code",
   "execution_count": 145,
   "metadata": {
    "collapsed": true
   },
   "outputs": [],
   "source": [
    "for sent in sent_tokens:\n",
    "    sentences.append(wt.tokenize(re.sub(r'[{}]'.format(string.punctuation),'',sent)))"
   ]
  },
  {
   "cell_type": "code",
   "execution_count": 147,
   "metadata": {
    "collapsed": false
   },
   "outputs": [],
   "source": [
    "sb = Stupid_Back_Off(sentences)"
   ]
  },
  {
   "cell_type": "code",
   "execution_count": 153,
   "metadata": {
    "collapsed": false
   },
   "outputs": [
    {
     "data": {
      "text/plain": [
       "0.00021057521096229777"
      ]
     },
     "execution_count": 153,
     "metadata": {},
     "output_type": "execute_result"
    }
   ],
   "source": [
    "sb.S('quis',('**','si'))"
   ]
  },
  {
   "cell_type": "code",
   "execution_count": 83,
   "metadata": {
    "collapsed": false
   },
   "outputs": [
    {
     "data": {
      "text/plain": [
       "'non cinnae, non sullae longa dominatio; et pompei crassique potentia cito in caesarem, lepidi atque antonii arma in augustum cessere, qui cuncta discordiis ciuilibus fessa nomine principis sub imperium accepit.'"
      ]
     },
     "execution_count": 83,
     "metadata": {},
     "output_type": "execute_result"
    }
   ],
   "source": [
    "sent_tokens[2]"
   ]
  },
  {
   "cell_type": "code",
   "execution_count": null,
   "metadata": {
    "collapsed": true
   },
   "outputs": [],
   "source": []
  }
 ],
 "metadata": {
  "anaconda-cloud": {},
  "kernelspec": {
   "display_name": "Python [conda root]",
   "language": "python",
   "name": "conda-root-py"
  },
  "language_info": {
   "codemirror_mode": {
    "name": "ipython",
    "version": 3
   },
   "file_extension": ".py",
   "mimetype": "text/x-python",
   "name": "python",
   "nbconvert_exporter": "python",
   "pygments_lexer": "ipython3",
   "version": "3.5.2"
  }
 },
 "nbformat": 4,
 "nbformat_minor": 1
}
