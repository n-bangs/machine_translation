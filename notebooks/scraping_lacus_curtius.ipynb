{
 "cells": [
  {
   "cell_type": "code",
   "execution_count": 1,
   "metadata": {
    "collapsed": true
   },
   "outputs": [],
   "source": [
    "from bs4 import BeautifulSoup\n",
    "import requests\n",
    "import re\n",
    "from time import sleep"
   ]
  },
  {
   "cell_type": "code",
   "execution_count": 2,
   "metadata": {
    "collapsed": false
   },
   "outputs": [],
   "source": [
    "def get_lat(lat_url,psplit):\n",
    "\n",
    "    resp = requests.get(lat_url)\n",
    "    soup = BeautifulSoup(resp.text,'lxml')\n",
    "\n",
    "    lat_text = []\n",
    "    l = []\n",
    "\n",
    "    for i,p in enumerate(soup.findAll('table')[2].findAll('p')):\n",
    "        if psplit in p['class'][0]:\n",
    "            lat_text.append(l)\n",
    "            l = []\n",
    "    \n",
    "        for c in p.children:\n",
    "            if '<' not in str(c):\n",
    "                if str(c).strip() != '':\n",
    "                    string = re.sub(r'[^A-Za-z \\.!:?,]', ' ',str(c))\n",
    "                    l.append(string.strip())\n",
    "      \n",
    "    lat_text.append(l)\n",
    "    return lat_text\n",
    "\n",
    "\n",
    "\n",
    "def get_eng(eng_url):\n",
    "\n",
    "    resp = requests.get(eng_url)\n",
    "    soup = BeautifulSoup(resp.text,'lxml')\n",
    "    eng_text = []\n",
    "\n",
    "    for c in soup.find('div', {'class':'spacious'}).children:\n",
    "        l = []\n",
    "        if c.name == 'p':\n",
    "            if 'justify' in c['class']:\n",
    "                for child in c.children:\n",
    "                    if '<' not in str(child):\n",
    "                        if str(child).strip() != '':\n",
    "                            string = re.sub(r'[^A-Za-z \\.!:?,]', ' ',str(child))\n",
    "                            l.append(string.strip())\n",
    "                eng_text.append(l)\n",
    "        if c.name == 'hr':\n",
    "            if c['class'] == ['endnotes']:\n",
    "                break\n",
    "                \n",
    "    return eng_text"
   ]
  },
  {
   "cell_type": "code",
   "execution_count": 792,
   "metadata": {
    "collapsed": true
   },
   "outputs": [],
   "source": [
    "url = 'http://penelope.uchicago.edu/Thayer/E/Roman/Texts/Frontinus/Strategemata/home.html'"
   ]
  },
  {
   "cell_type": "code",
   "execution_count": 793,
   "metadata": {
    "collapsed": true
   },
   "outputs": [],
   "source": [
    "resp = requests.get(url)\n",
    "soup = BeautifulSoup(resp.text,'lxml')\n",
    "\n",
    "t = soup.find('table', {'class':'start'})\n",
    "\n",
    "latin_urls = []\n",
    "english_urls = []\n",
    "\n",
    "for tr in t.findAll('tr')[2:]:\n",
    "    for a in tr.findAll('td')[1].findAll('a'):\n",
    "        latin_urls.append(a['href'].strip())\n",
    "    for a in tr.findAll('td')[3].findAll('a'):\n",
    "        english_urls.append(a['href'].strip())"
   ]
  },
  {
   "cell_type": "code",
   "execution_count": 842,
   "metadata": {
    "collapsed": true
   },
   "outputs": [],
   "source": [
    "urls = 'http://penelope.uchicago.edu/Thayer/{}/Roman/Texts/Florus/Epitome/{}*.html'       "
   ]
  },
  {
   "cell_type": "code",
   "execution_count": 848,
   "metadata": {
    "collapsed": false,
    "scrolled": true
   },
   "outputs": [
    {
     "name": "stdout",
     "output_type": "stream",
     "text": [
      "14\n",
      "14\n",
      "5\n",
      "5\n",
      "8\n",
      "8\n",
      "11\n",
      "11\n",
      "11\n",
      "11\n",
      "4\n",
      "4\n",
      "14\n",
      "14\n",
      "8\n",
      "8\n",
      "9\n",
      "9\n",
      "8\n",
      "8\n",
      "4\n",
      "4\n",
      "4\n",
      "4\n",
      "7\n",
      "7\n",
      "5\n",
      "5\n",
      "6\n",
      "6\n",
      "5\n",
      "5\n",
      "3\n",
      "3\n",
      "13\n",
      "13\n",
      "7\n",
      "7\n",
      "5\n",
      "5\n",
      "13\n",
      "13\n",
      "3\n",
      "3\n"
     ]
    }
   ],
   "source": [
    "for i in range(2):\n",
    "    for m in alpha[i]:\n",
    "    \n",
    "        eng_url = urls.format('E',str((i+1))+m)\n",
    "        lat_url = urls.format('L',str((i+1))+m)\n",
    "\n",
    "        ltext = get_eng(lat_url)\n",
    "        etext = get_eng(eng_url)\n",
    "\n",
    "        for k,p in enumerate(etext):\n",
    "            for j,s in enumerate(p):\n",
    "                etext[k][j] = re.sub(r' +', ' ',s)\n",
    "\n",
    "        for k,p in enumerate(ltext):\n",
    "            for j,s in enumerate(p):\n",
    "                ltext[k][j] = re.sub(r' +', ' ',s)\n",
    "\n",
    "        full_lat_text = [' '.join(p) for p in ltext]\n",
    "        full_eng_text = [' '.join(p) for p in etext]\n",
    "        #full_lat_text = full_lat_text[1:]\n",
    "        print(len(full_eng_text))\n",
    "        print(len(full_lat_text))\n",
    "\n",
    "        f = open('florus_epitome_{}_lat.txt'.format(str((i+1))+m),'w')\n",
    "\n",
    "        for p in full_lat_text:\n",
    "            f.write(p+'\\n')\n",
    "\n",
    "        f.close()\n",
    "\n",
    "        f = open('florus_epitome_{}_eng.txt'.format(str((i+1))+m),'w')\n",
    "\n",
    "        for s in full_eng_text:\n",
    "            f.write(s+'\\n')\n",
    "\n",
    "        f.close()"
   ]
  },
  {
   "cell_type": "code",
   "execution_count": null,
   "metadata": {
    "collapsed": true
   },
   "outputs": [],
   "source": [
    "'2A' - '2I'\n",
    "'1A' - '1M'\n",
    "'http://penelope.uchicago.edu/Thayer/L/Roman/Texts/Florus/Epitome/{}*.html'"
   ]
  },
  {
   "cell_type": "code",
   "execution_count": 844,
   "metadata": {
    "collapsed": false
   },
   "outputs": [],
   "source": [
    "alpha = [list('ABCDEFGHIJKLM'), list('ABCDEFGHI')]"
   ]
  },
  {
   "cell_type": "code",
   "execution_count": 845,
   "metadata": {
    "collapsed": false
   },
   "outputs": [
    {
     "data": {
      "text/plain": [
       "['A', 'B', 'C', 'D', 'E', 'F', 'G', 'H', 'I', 'J', 'K', 'L', 'M']"
      ]
     },
     "execution_count": 845,
     "metadata": {},
     "output_type": "execute_result"
    }
   ],
   "source": [
    "alpha[0]"
   ]
  },
  {
   "cell_type": "code",
   "execution_count": 3,
   "metadata": {
    "collapsed": true
   },
   "outputs": [],
   "source": [
    "url = 'http://penelope.uchicago.edu/Thayer/E/Roman/Texts/Florus/poems/omnia*.html'"
   ]
  },
  {
   "cell_type": "code",
   "execution_count": 4,
   "metadata": {
    "collapsed": true
   },
   "outputs": [],
   "source": [
    "resp = requests.get(url)"
   ]
  },
  {
   "cell_type": "code",
   "execution_count": 5,
   "metadata": {
    "collapsed": true
   },
   "outputs": [],
   "source": [
    "soup = BeautifulSoup(resp.text,'lxml')"
   ]
  },
  {
   "cell_type": "code",
   "execution_count": 11,
   "metadata": {
    "collapsed": false
   },
   "outputs": [
    {
     "data": {
      "text/plain": [
       "\"\\nI've no mind to be a Caesar,\\n\\t\\t\\t\""
      ]
     },
     "execution_count": 11,
     "metadata": {},
     "output_type": "execute_result"
    }
   ],
   "source": [
    "soup.findAll('div', {'align':'center'})[2].findAll('p')[0].text"
   ]
  },
  {
   "cell_type": "code",
   "execution_count": null,
   "metadata": {
    "collapsed": true
   },
   "outputs": [],
   "source": []
  }
 ],
 "metadata": {
  "anaconda-cloud": {},
  "kernelspec": {
   "display_name": "Python [conda root]",
   "language": "python",
   "name": "conda-root-py"
  },
  "language_info": {
   "codemirror_mode": {
    "name": "ipython",
    "version": 3
   },
   "file_extension": ".py",
   "mimetype": "text/x-python",
   "name": "python",
   "nbconvert_exporter": "python",
   "pygments_lexer": "ipython3",
   "version": "3.5.2"
  }
 },
 "nbformat": 4,
 "nbformat_minor": 1
}
