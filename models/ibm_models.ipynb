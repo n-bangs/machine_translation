{
 "cells": [
  {
   "cell_type": "code",
   "execution_count": 1,
   "metadata": {
    "collapsed": false
   },
   "outputs": [],
   "source": [
    "import json\n",
    "import os\n",
    "import re\n",
    "import string\n",
    "\n",
    "from cltk.tokenize.word import WordTokenizer\n",
    "from cltk.stem.lemma import LemmaReplacer\n",
    "from nltk.translate import AlignedSent, Alignment, IBMModel1, IBMModel2\n",
    "from nltk.tokenize import wordpunct_tokenize\n",
    "from nltk.translate.ibm_model import AlignmentInfo"
   ]
  },
  {
   "cell_type": "code",
   "execution_count": 2,
   "metadata": {
    "collapsed": false
   },
   "outputs": [],
   "source": [
    "lat_tokenizer = WordTokenizer('latin')\n",
    "eng_tokenizer = wordpunct_tokenize\n",
    "lem = LemmaReplacer('latin')"
   ]
  },
  {
   "cell_type": "code",
   "execution_count": 3,
   "metadata": {
    "collapsed": false
   },
   "outputs": [],
   "source": [
    "def get_sentence_pair(alignments):\n",
    "    for a in alignments:\n",
    "        for s in a:\n",
    "            #for s in p:\n",
    "            lat_sent = tokenize_sentences(s[0],lat_tokenizer.tokenize)\n",
    "            eng_sent = tokenize_sentences(s[1], eng_tokenizer)\n",
    "            yield [lat_sent,eng_sent]"
   ]
  },
  {
   "cell_type": "code",
   "execution_count": 3,
   "metadata": {
    "collapsed": true
   },
   "outputs": [],
   "source": [
    "def tokenize_sentences(sent,tok):\n",
    "    tokens = []\n",
    "    if type(sent) == list:\n",
    "        for s in sent:\n",
    "            s = re.sub(r'[{}]'.format(string.punctuation),'',s).lower()\n",
    "            s = re.sub(r'  *', ' ', s)\n",
    "            tokens += tok(s.lower())\n",
    "    else:\n",
    "        sent = re.sub(r'[{}]'.format(string.punctuation),'',sent).lower()\n",
    "        sent = re.sub(r'  *', ' ', sent)\n",
    "        tokens += tok(sent)\n",
    "        \n",
    "    return tokens"
   ]
  },
  {
   "cell_type": "code",
   "execution_count": 4,
   "metadata": {
    "collapsed": true
   },
   "outputs": [],
   "source": [
    "os.chdir('../aligned_sentences/')"
   ]
  },
  {
   "cell_type": "code",
   "execution_count": 5,
   "metadata": {
    "collapsed": false
   },
   "outputs": [
    {
     "data": {
      "text/plain": [
       "['caes_bc_sentences.json',\n",
       " 'cicero_lael_friendship_sentences.json',\n",
       " 'catullus.json',\n",
       " 'cicero_div_sentences.json',\n",
       " 'celsus_sentences.json',\n",
       " 'amm_lat_sentences.json',\n",
       " 'cicero_off_sentences.json',\n",
       " 'caes_bg_sentences_03457.json',\n",
       " 'cicero_sen_falc_sentences.json']"
      ]
     },
     "execution_count": 5,
     "metadata": {},
     "output_type": "execute_result"
    }
   ],
   "source": [
    "os.listdir()"
   ]
  },
  {
   "cell_type": "code",
   "execution_count": 6,
   "metadata": {
    "collapsed": false
   },
   "outputs": [],
   "source": [
    "bitext = []\n",
    "\n",
    "for f in os.listdir():\n",
    "    if f == 'amm_lat_sentences.json':\n",
    "        continue\n",
    "    of = open(f)\n",
    "    aligned_sentences = json.loads(of.read())\n",
    "    of.close()\n",
    "\n",
    "    for a in aligned_sentences:\n",
    "        for s in a:\n",
    "            lat_sent = tokenize_sentences(s[0],lat_tokenizer.tokenize)\n",
    "            eng_sent = tokenize_sentences(s[1], eng_tokenizer)\n",
    "            if len(lat_sent) == 0 or len(eng_sent) == 0:\n",
    "                continue\n",
    "            bitext.append(AlignedSent(lat_sent,eng_sent))\n",
    "\n",
    "of = open('amm_lat_sentences.json')\n",
    "aligned_sentences = json.loads(of.read())\n",
    "of.close()\n",
    "\n",
    "for a in aligned_sentences:\n",
    "    for p in a:\n",
    "        for s in p:\n",
    "            lat_sent = tokenize_sentences(s[0],lat_tokenizer.tokenize)\n",
    "            #while '' in lat_sent:\n",
    "            #    lat_sent.remove('')\n",
    "            #lat_sent = lem.lemmatize(lat_sent)\n",
    "            eng_sent = tokenize_sentences(s[1], eng_tokenizer)\n",
    "            if len(lat_sent) == 0 or len(eng_sent) == 0:\n",
    "                continue\n",
    "            bitext.append(AlignedSent(lat_sent,eng_sent))"
   ]
  },
  {
   "cell_type": "code",
   "execution_count": 7,
   "metadata": {
    "collapsed": false
   },
   "outputs": [
    {
     "data": {
      "text/plain": [
       "13842"
      ]
     },
     "execution_count": 7,
     "metadata": {},
     "output_type": "execute_result"
    }
   ],
   "source": [
    "len(bitext)"
   ]
  },
  {
   "cell_type": "code",
   "execution_count": 8,
   "metadata": {
    "collapsed": false
   },
   "outputs": [],
   "source": [
    "lat_mod = IBMModel2(bitext,5)"
   ]
  },
  {
   "cell_type": "code",
   "execution_count": 9,
   "metadata": {
    "collapsed": false
   },
   "outputs": [],
   "source": [
    "eng_bitext = []\n",
    "\n",
    "for f in os.listdir():\n",
    "    if f == 'amm_lat_sentences.json':\n",
    "        continue\n",
    "    of = open(f)\n",
    "    aligned_sentences = json.loads(of.read())\n",
    "    of.close()\n",
    "\n",
    "    for a in aligned_sentences:\n",
    "        for s in a:\n",
    "            lat_sent = tokenize_sentences(s[0],lat_tokenizer.tokenize)\n",
    "            eng_sent = tokenize_sentences(s[1], eng_tokenizer)\n",
    "            if len(lat_sent) == 0 or len(eng_sent) == 0:\n",
    "                continue\n",
    "            eng_bitext.append(AlignedSent(eng_sent, lat_sent))\n",
    "\n",
    "of = open('amm_lat_sentences.json')\n",
    "aligned_sentences = json.loads(of.read())\n",
    "of.close()\n",
    "\n",
    "for a in aligned_sentences:\n",
    "    for p in a:\n",
    "        for s in p:\n",
    "            lat_sent = tokenize_sentences(s[0],lat_tokenizer.tokenize)\n",
    "            #while '' in lat_sent:\n",
    "            #    lat_sent.remove('')\n",
    "            #lat_sent = lem.lemmatize(lat_sent)\n",
    "            eng_sent = tokenize_sentences(s[1], eng_tokenizer)\n",
    "            if len(lat_sent) == 0 or len(eng_sent) == 0:\n",
    "                continue\n",
    "            eng_bitext.append(AlignedSent(eng_sent,lat_sent))"
   ]
  },
  {
   "cell_type": "code",
   "execution_count": 13,
   "metadata": {
    "collapsed": false
   },
   "outputs": [
    {
     "name": "stdout",
     "output_type": "stream",
     "text": [
      "<AlignedSent: 'while these things p...' -> 'dum haec in hispania...'>\n"
     ]
    }
   ],
   "source": [
    "print(eng_bitext[0])"
   ]
  },
  {
   "cell_type": "code",
   "execution_count": 10,
   "metadata": {
    "collapsed": false
   },
   "outputs": [],
   "source": [
    "eng_mod = IBMModel2(eng_bitext,5)"
   ]
  },
  {
   "cell_type": "code",
   "execution_count": 16,
   "metadata": {
    "collapsed": false
   },
   "outputs": [
    {
     "name": "stdout",
     "output_type": "stream",
     "text": [
      "Done\n"
     ]
    }
   ],
   "source": [
    "print('Done')"
   ]
  },
  {
   "cell_type": "code",
   "execution_count": 103,
   "metadata": {
    "collapsed": false
   },
   "outputs": [
    {
     "data": {
      "text/plain": [
       "<nltk.translate.ibm_model.AlignmentInfo at 0x10e4372e8>"
      ]
     },
     "execution_count": 103,
     "metadata": {},
     "output_type": "execute_result"
    }
   ],
   "source": [
    "lat_mod.best_model2_alignment(AlignedSent(['vir', 'mittit','florem'],['the','dog','sleeps']))"
   ]
  },
  {
   "cell_type": "code",
   "execution_count": 104,
   "metadata": {
    "collapsed": true
   },
   "outputs": [],
   "source": [
    "ba = _"
   ]
  },
  {
   "cell_type": "code",
   "execution_count": 105,
   "metadata": {
    "collapsed": false
   },
   "outputs": [
    {
     "data": {
      "text/plain": [
       "(0, 3, 2, 2)"
      ]
     },
     "execution_count": 105,
     "metadata": {},
     "output_type": "execute_result"
    }
   ],
   "source": [
    "ba.alignment"
   ]
  },
  {
   "cell_type": "code",
   "execution_count": 82,
   "metadata": {
    "collapsed": true
   },
   "outputs": [],
   "source": [
    "ba.alignment = (0,0,1,2)"
   ]
  },
  {
   "cell_type": "code",
   "execution_count": 106,
   "metadata": {
    "collapsed": false
   },
   "outputs": [
    {
     "data": {
      "text/plain": [
       "1e-12"
      ]
     },
     "execution_count": 106,
     "metadata": {},
     "output_type": "execute_result"
    }
   ],
   "source": [
    "lat_mod.prob_t_a_given_s(ba)"
   ]
  },
  {
   "cell_type": "code",
   "execution_count": 34,
   "metadata": {
    "collapsed": false
   },
   "outputs": [
    {
     "data": {
      "text/plain": [
       "13842"
      ]
     },
     "execution_count": 34,
     "metadata": {},
     "output_type": "execute_result"
    }
   ],
   "source": [
    "len(bitext)"
   ]
  },
  {
   "cell_type": "code",
   "execution_count": 313,
   "metadata": {
    "collapsed": true
   },
   "outputs": [],
   "source": [
    "a = Alignment([(0,0),(1,1),(2,2)])"
   ]
  },
  {
   "cell_type": "code",
   "execution_count": 64,
   "metadata": {
    "collapsed": true
   },
   "outputs": [],
   "source": [
    "al = [AlignedSent(['puer','amat','puella'],['boy','loves','girl'])]"
   ]
  },
  {
   "cell_type": "code",
   "execution_count": null,
   "metadata": {
    "collapsed": true
   },
   "outputs": [],
   "source": []
  },
  {
   "cell_type": "code",
   "execution_count": 34,
   "metadata": {
    "collapsed": false
   },
   "outputs": [
    {
     "data": {
      "text/plain": [
       "[('mirari', 0.39738726744809927),\n",
       " ('mirum', 0.290788864574761),\n",
       " ('meditantur', 0.22387139799136865),\n",
       " ('ambigere', 0.1826862623044445),\n",
       " ('admirari', 0.179655016247271),\n",
       " ('edidisset', 0.1705839395142952),\n",
       " ('serpentem', 0.1625525042587961),\n",
       " ('pallium', 0.15841327057590487),\n",
       " ('importunitate', 0.11716463336651324),\n",
       " ('mirabilis', 0.11193191876965876),\n",
       " ('gratuitam', 0.09733852417391137),\n",
       " ('conliniet', 0.09020256829106647),\n",
       " ('invisum', 0.0874431166264658),\n",
       " ('effudisse', 0.08679655992940684),\n",
       " ('mirandum', 0.08567665253373072),\n",
       " ('excitaverunt', 0.08218588582184007),\n",
       " ('seiungam', 0.07639166228945823),\n",
       " ('accommodatur', 0.07639166228945823),\n",
       " ('limatur', 0.07639166228945823),\n",
       " ('subtilitas', 0.07639166228945823),\n",
       " ('superbia', 0.07613365438661937),\n",
       " ('usitatis', 0.05921774222614373),\n",
       " ('attribuito', 0.056862817054392875),\n",
       " ('admirantis', 0.056862817054392875),\n",
       " ('cius', 0.056862817054392875),\n",
       " ('perstudiosum', 0.056862817054392875),\n",
       " ('tribuimus', 0.056862817054392875),\n",
       " ('aristo', 0.056862817054392875),\n",
       " ('eruditius', 0.056862817054392875),\n",
       " ('tithono', 0.056862817054392875),\n",
       " ('concoquitis', 0.0508760464011584),\n",
       " ('piscium', 0.04987291075210985),\n",
       " ('fundis', 0.04695423846827377),\n",
       " ('iaculans', 0.045782063711920645),\n",
       " ('exoptatus', 0.04179633551253586),\n",
       " ('miraberis', 0.04179633551253586),\n",
       " ('observantem', 0.04179633551253586),\n",
       " ('suscipieris', 0.04179633551253586),\n",
       " ('introieris', 0.04179633551253586),\n",
       " ('summatem', 0.04179633551253586),\n",
       " ('salutatum', 0.04179633551253586),\n",
       " ('adfligant', 0.04067465261142605),\n",
       " ('significat', 0.04066993852776141),\n",
       " ('liberalitatis', 0.035875457248672755),\n",
       " ('noscentibus', 0.03483785738412469),\n",
       " ('exsanguis', 0.034761058408726495),\n",
       " ('mirabitur', 0.03412587498360343),\n",
       " ('dixisti', 0.03099343797060938),\n",
       " ('claviculis', 0.023949115039409625),\n",
       " ('tenuitas', 0.01801921412057962),\n",
       " ('timetis', 0.016719901990116123),\n",
       " ('abscessu', 0.012467076337629808),\n",
       " ('iucunda', 0.011294429955765333),\n",
       " ('scribendi', 0.008441592662211495),\n",
       " ('rarae', 0.008210649548515851),\n",
       " ('labefactes', 0.007097316480797626),\n",
       " ('mirationem', 0.0060897160724090686),\n",
       " ('nacta', 0.005790009464485368),\n",
       " ('silvescat', 0.005518076187007274),\n",
       " ('erratico', 0.005240369843401983),\n",
       " ('amputans', 0.0047388854875730375),\n",
       " ('fundatur', 0.004409658793749402),\n",
       " ('impetraverim', 0.0030082280673225975),\n",
       " ('potuerit', 0.002242867549298911),\n",
       " ('supposuisse', 0.002203043350372086),\n",
       " ('legendi', 0.0021343040244236047),\n",
       " ('pulchre', 0.0012292661816534919),\n",
       " ('perluciduli', 0.0008087193049451969),\n",
       " ('ponere', 0.000731101574367928),\n",
       " ('erigat', 0.0001167381660157853),\n",
       " ('eluentur', 5.4804595718290214e-05),\n",
       " ('miramur', 4.623008565012045e-05),\n",
       " ('mirentur', 3.547133354495531e-05),\n",
       " ('miror', 2.009587000216767e-05),\n",
       " ('perspicere', 1.905189559209094e-05),\n",
       " ('laelio', 1.6366111536353913e-05),\n",
       " ('exempla', 5.831072949263776e-06),\n",
       " ('libros', 4.630731247426481e-06),\n",
       " ('mortiferum', 2.273150910928929e-06),\n",
       " ('implevit', 1.8935495803893067e-06),\n",
       " ('mussitare', 1.8014047072400706e-06),\n",
       " ('rufe', 1.6388972359047554e-06),\n",
       " ('explicavit', 7.722260865407956e-07),\n",
       " ('formiana', 5.471315279527656e-07),\n",
       " ('memorabile', 5.447392505768301e-07),\n",
       " ('agricolarum', 4.6860066523864034e-07),\n",
       " ('bestia', 4.3343757795180186e-07),\n",
       " ('meruerim', 4.1383835459084504e-07),\n",
       " ('rideret', 3.3231425830410783e-07),\n",
       " ('discipulo', 2.714324091751614e-07),\n",
       " ('ignoratio', 2.292872041519081e-07),\n",
       " ('pugnabatur', 1.9325643798505582e-07),\n",
       " ('noli', 1.9007360740310715e-07),\n",
       " ('vilem', 1.339565178700356e-07),\n",
       " ('propterea', 1.1912347022791817e-07),\n",
       " ('ruinas', 1.105709898931209e-07),\n",
       " ('mensarum', 9.345048760531895e-08),\n",
       " ('complectitur', 4.4126718059588455e-08),\n",
       " ('posidonio', 2.126720756765179e-08),\n",
       " ('scriptum', 8.364026998965897e-09),\n",
       " ('cinaedis', 3.73108213091763e-09),\n",
       " ('tumentem', 3.325313374212073e-09),\n",
       " ('statuam', 2.2636656797637565e-09),\n",
       " ('vixisse', 1.918236784093245e-09),\n",
       " ('valetis', 1.23184807027912e-09),\n",
       " ('potuisset', 1.2118331266404484e-09),\n",
       " ('deliciis', 1.1861842392986977e-09),\n",
       " ('haruspex', 9.401899237187829e-10),\n",
       " ('veneni', 8.308455305851469e-10),\n",
       " ('cubet', 8.185529028555743e-10),\n",
       " ('gemelli', 6.839646746854952e-10),\n",
       " ('vestis', 1.8966609402456216e-10),\n",
       " ('urbana', 1.0159988067978651e-10),\n",
       " ('sagittis', 8.568462532569434e-11),\n",
       " ('lapsu', 7.249924513580183e-11),\n",
       " ('brevem', 4.993286090194076e-11),\n",
       " ('panaetium', 3.9609103308439364e-11),\n",
       " ('admiranda', 3.661666350154496e-11),\n",
       " ('femina', 2.498534473968455e-11),\n",
       " ('valeat', 1.2686219425723699e-11),\n",
       " ('stans', 1.1144961405836749e-11),\n",
       " ('valde', 1.0376204106602142e-11),\n",
       " ('nummatum', 1.0038751138019941e-11),\n",
       " ('molesta', 6.600700693286941e-12),\n",
       " ('honestus', 6.546207498848165e-12),\n",
       " ('digressurus', 2.9401447286661803e-12),\n",
       " ('vitis', 2.8473414033245425e-12),\n",
       " ('caduca', 2.464202421399208e-12),\n",
       " ('coercet', 2.214747127676292e-12),\n",
       " ('sarmentis', 1.6910405054856366e-12),\n",
       " ('haruspicem', 1.659212156022223e-12),\n",
       " ('plerisque', 1.3797122743682538e-12),\n",
       " ('animadversa', 1.2763680826718177e-12),\n",
       " ('triginta', 1.1945615482490216e-12),\n",
       " ('infirmi', 1.0497837892460817e-12),\n",
       " ('geruntur', 1e-12),\n",
       " ('incendia', 1e-12),\n",
       " ('pace', 1e-12),\n",
       " ('alios', 1e-12),\n",
       " ('fieri', 1e-12),\n",
       " ('ferro', 1e-12),\n",
       " ('quidquid', 1e-12),\n",
       " ('iustus', 1e-12),\n",
       " ('eam', 1e-12),\n",
       " ('bene', 1e-12),\n",
       " ('coit', 1e-12),\n",
       " ('utrimque', 1e-12),\n",
       " ('illos', 1e-12),\n",
       " ('animi', 1e-12),\n",
       " ('improbis', 1e-12),\n",
       " ('-que', 1e-12),\n",
       " ('antea', 1e-12),\n",
       " ('omnes', 1e-12),\n",
       " ('superstitiosa', 1e-12),\n",
       " ('ita', 1e-12),\n",
       " ('convenit', 1e-12),\n",
       " ('corpora', 1e-12),\n",
       " ('disputare', 1e-12),\n",
       " ('is', 1e-12),\n",
       " ('studium', 1e-12),\n",
       " (None, 1e-12),\n",
       " ('utrisque', 1e-12),\n",
       " ('interdum', 1e-12),\n",
       " ('multo', 1e-12),\n",
       " ('divinatione', 1e-12),\n",
       " ('quo', 1e-12),\n",
       " ('medicis', 1e-12),\n",
       " ('idem', 1e-12),\n",
       " ('sive', 1e-12),\n",
       " ('scipionem', 1e-12),\n",
       " ('impressae', 1e-12),\n",
       " ('te', 1e-12),\n",
       " ('contigerit', 1e-12),\n",
       " ('tanta', 1e-12),\n",
       " ('ipse', 1e-12),\n",
       " ('opinionem', 1e-12),\n",
       " ('nusquam', 1e-12),\n",
       " ('quibusdam', 1e-12),\n",
       " ('ante', 1e-12),\n",
       " ('aliquis', 1e-12),\n",
       " ('mala', 1e-12),\n",
       " ('tueantur', 1e-12),\n",
       " ('alia', 1e-12),\n",
       " ('procinctus', 1e-12),\n",
       " ('sint', 1e-12),\n",
       " ('puellularum', 1e-12),\n",
       " ('graves', 1e-12),\n",
       " ('totum', 1e-12),\n",
       " ('posse', 1e-12),\n",
       " ('deinde', 1e-12),\n",
       " ('fabula', 1e-12),\n",
       " ('altera', 1e-12),\n",
       " ('existimo', 1e-12),\n",
       " ('omnem', 1e-12),\n",
       " ('facit', 1e-12),\n",
       " ('vilitates', 1e-12),\n",
       " ('tantum', 1e-12),\n",
       " ('ferat', 1e-12),\n",
       " ('munere', 1e-12),\n",
       " ('cur', 1e-12),\n",
       " ('vereor', 1e-12),\n",
       " ('gravius', 1e-12),\n",
       " ('non', 1e-12),\n",
       " ('socii', 1e-12),\n",
       " ('litteris', 1e-12),\n",
       " ('quem', 1e-12),\n",
       " ('quid', 1e-12),\n",
       " ('aqua', 1e-12),\n",
       " ('m', 1e-12),\n",
       " ('inter', 1e-12),\n",
       " ('rem', 1e-12),\n",
       " ('libri', 1e-12),\n",
       " ('multitudo', 1e-12),\n",
       " ('nisi', 1e-12),\n",
       " ('erat', 1e-12),\n",
       " ('suis', 1e-12),\n",
       " ('virtutem', 1e-12),\n",
       " ('maiorem', 1e-12),\n",
       " ('autem', 1e-12),\n",
       " ('bestiarum', 1e-12),\n",
       " ('inquit', 1e-12),\n",
       " ('aliquando', 1e-12),\n",
       " ('tabernas', 1e-12),\n",
       " ('simul', 1e-12),\n",
       " ('constat', 1e-12),\n",
       " ('factum', 1e-12),\n",
       " ('virtutes', 1e-12),\n",
       " ('admiratus', 1e-12),\n",
       " ('apud', 1e-12),\n",
       " ('disputatum', 1e-12),\n",
       " ('recte', 1e-12),\n",
       " ('hoste', 1e-12),\n",
       " ('genera', 1e-12),\n",
       " ('quam', 1e-12),\n",
       " ('cotidie', 1e-12),\n",
       " ('num', 1e-12),\n",
       " ('catoni', 1e-12),\n",
       " ('vero', 1e-12),\n",
       " ('terram', 1e-12),\n",
       " ('quoniam', 1e-12),\n",
       " ('cutem', 1e-12),\n",
       " ('adulescentes', 1e-12),\n",
       " ('similis', 1e-12),\n",
       " ('operae', 1e-12),\n",
       " ('multa', 1e-12),\n",
       " ('etiam', 1e-12),\n",
       " ('sponte', 1e-12),\n",
       " ('veritate', 1e-12),\n",
       " ('praecipua', 1e-12),\n",
       " ('periculorum', 1e-12),\n",
       " ('mox', 1e-12),\n",
       " ('nune', 1e-12),\n",
       " ('nec', 1e-12),\n",
       " ('laelium', 1e-12),\n",
       " ('id', 1e-12),\n",
       " ('quomodo', 1e-12),\n",
       " ('interrogatus', 1e-12),\n",
       " ('scipio', 1e-12),\n",
       " ('nulla', 1e-12),\n",
       " ('certior', 1e-12),\n",
       " ('utrique', 1e-12),\n",
       " ('licet', 1e-12),\n",
       " ('videantur', 1e-12),\n",
       " ('morbosi', 1e-12),\n",
       " ('velit', 1e-12),\n",
       " ('tenuem', 1e-12),\n",
       " ('uno', 1e-12),\n",
       " ('nomen', 1e-12),\n",
       " ('sermonem', 1e-12),\n",
       " ('causas', 1e-12),\n",
       " ('praeter', 1e-12),\n",
       " ('complures', 1e-12),\n",
       " ('cibum', 1e-12),\n",
       " ('erudituli', 1e-12),\n",
       " ('sed', 1e-12),\n",
       " ('visus', 1e-12),\n",
       " ('a', 1e-12),\n",
       " ('est', 1e-12),\n",
       " ('vulnera', 1e-12),\n",
       " ('effugere', 1e-12),\n",
       " ('pariter', 1e-12),\n",
       " ('qui', 1e-12),\n",
       " ('victus', 1e-12),\n",
       " ('alias', 1e-12),\n",
       " ('varios', 1e-12),\n",
       " ('diem', 1e-12),\n",
       " ('perstringam', 1e-12),\n",
       " ('morsus', 1e-12),\n",
       " ('disputatione', 1e-12),\n",
       " ('eius', 1e-12),\n",
       " ('omni', 1e-12),\n",
       " ('quare', 1e-12),\n",
       " ('casus', 1e-12),\n",
       " ('multos', 1e-12),\n",
       " ('turpius', 1e-12),\n",
       " ('vidimus', 1e-12),\n",
       " ('vidisset', 1e-12),\n",
       " ('nullam', 1e-12),\n",
       " ('aiebat', 1e-12),\n",
       " ('esset', 1e-12),\n",
       " ('multiplici', 1e-12),\n",
       " ('telis', 1e-12),\n",
       " ('sit', 1e-12),\n",
       " ('lecticulo', 1e-12),\n",
       " ('tam', 1e-12),\n",
       " ('facta', 1e-12),\n",
       " ('haberet', 1e-12),\n",
       " ('puella', 1e-12),\n",
       " ('bonitatem', 1e-12),\n",
       " ('dispicere', 1e-12),\n",
       " ('ea', 1e-12),\n",
       " ('levis', 1e-12),\n",
       " ('omnis', 1e-12),\n",
       " ('posteaquam', 1e-12),\n",
       " ('factus', 1e-12),\n",
       " ('visebatur', 1e-12),\n",
       " ('re', 1e-12),\n",
       " ('romae', 1e-12),\n",
       " ('eo', 1e-12),\n",
       " ('more', 1e-12),\n",
       " ('rebus', 1e-12),\n",
       " ('posui', 1e-12),\n",
       " ('se', 1e-12),\n",
       " ('maculae', 1e-12),\n",
       " ('ut', 1e-12),\n",
       " ('tamquam', 1e-12),\n",
       " ('paeniteat', 1e-12),\n",
       " ('senectus', 1e-12),\n",
       " ('parte', 1e-12),\n",
       " ('auctoritatis', 1e-12),\n",
       " ('eadem', 1e-12),\n",
       " ('facimus', 1e-12),\n",
       " ('veritas', 1e-12),\n",
       " ('vulnere', 1e-12),\n",
       " ('vim', 1e-12),\n",
       " ('senibus', 1e-12),\n",
       " ('respondentem', 1e-12),\n",
       " ('diligamus', 1e-12),\n",
       " ('femur', 1e-12),\n",
       " ('hic', 1e-12),\n",
       " ('bona', 1e-12),\n",
       " ('virum', 1e-12),\n",
       " ('at', 1e-12),\n",
       " ('furta', 1e-12),\n",
       " ('quamquam', 1e-12),\n",
       " ('reversuri', 1e-12),\n",
       " ('si', 1e-12),\n",
       " ('haec', 1e-12),\n",
       " ('aut', 1e-12),\n",
       " ('deflexerit', 1e-12),\n",
       " ('vel', 1e-12),\n",
       " ('quia', 1e-12),\n",
       " ('impia', 1e-12),\n",
       " ('partis', 1e-12),\n",
       " ('hoc', 1e-12),\n",
       " ('vetus', 1e-12),\n",
       " ('radicum', 1e-12),\n",
       " ('libris', 1e-12),\n",
       " ('forsitan', 1e-12),\n",
       " ('senectutem', 1e-12),\n",
       " ('corporis', 1e-12),\n",
       " ('potuit', 1e-12),\n",
       " ('oratio', 1e-12),\n",
       " ('unam', 1e-12),\n",
       " ('ob', 1e-12),\n",
       " ('ne', 1e-12),\n",
       " ('ista', 1e-12),\n",
       " ('videbitur', 1e-12),\n",
       " ('puris', 1e-12),\n",
       " ('possunt', 1e-12),\n",
       " ('tenerum', 1e-12),\n",
       " ('quibus', 1e-12),\n",
       " ('propria', 1e-12),\n",
       " ('possit', 1e-12),\n",
       " ('maius', 1e-12),\n",
       " ('manibus', 1e-12),\n",
       " ('amicum', 1e-12),\n",
       " ('me', 1e-12),\n",
       " ('saepe', 1e-12),\n",
       " ('nihil', 1e-12),\n",
       " ('catonis', 1e-12),\n",
       " ('per', 1e-12),\n",
       " ('dolos', 1e-12),\n",
       " ('frustra', 1e-12),\n",
       " ('multum', 1e-12),\n",
       " ('vidisse', 1e-12),\n",
       " ('atque', 1e-12),\n",
       " ('verum', 1e-12),\n",
       " ('quasi', 1e-12),\n",
       " ('philosophiae', 1e-12),\n",
       " ('causarum', 1e-12),\n",
       " ('cuius', 1e-12),\n",
       " ('fructus', 1e-12),\n",
       " ('tamen', 1e-12),\n",
       " ('annis', 1e-12),\n",
       " ('reliquis', 1e-12),\n",
       " ('contra', 1e-12),\n",
       " ('quod', 1e-12),\n",
       " ('neque', 1e-12),\n",
       " ('censet', 1e-12),\n",
       " ('mihi', 1e-12),\n",
       " ('romam', 1e-12),\n",
       " ('quorum', 1e-12),\n",
       " ('probatus', 1e-12),\n",
       " ('aeque', 1e-12),\n",
       " ('sequitur', 1e-12),\n",
       " ('natura', 1e-12),\n",
       " ('oculorum', 1e-12),\n",
       " ('his', 1e-12),\n",
       " ('malo', 1e-12),\n",
       " ('sumere', 1e-12),\n",
       " ('hominum', 1e-12),\n",
       " ('admodum', 1e-12),\n",
       " ('habere', 1e-12),\n",
       " ('quemquam', 1e-12),\n",
       " ('aliquem', 1e-12),\n",
       " ('eorum', 1e-12),\n",
       " ('summatim', 1e-12),\n",
       " ('viris', 1e-12),\n",
       " ('nimia', 1e-12),\n",
       " ('ac', 1e-12),\n",
       " ('auctoritatem', 1e-12),\n",
       " ('herbarum', 1e-12),\n",
       " ('ad', 1e-12),\n",
       " ('facile', 1e-12),\n",
       " ('numquam', 1e-12),\n",
       " ('communem', 1e-12),\n",
       " ('naturam', 1e-12),\n",
       " ('bella', 1e-12),\n",
       " ('in', 1e-12),\n",
       " ('lecturos', 1e-12),\n",
       " ('modo', 1e-12),\n",
       " ('quae', 1e-12),\n",
       " ('eum', 1e-12),\n",
       " ('enim', 1e-12),\n",
       " ('lapidis', 1e-12),\n",
       " ('ipsa', 1e-12),\n",
       " ('quisquam', 1e-12),\n",
       " ('peregrinos', 1e-12),\n",
       " ('quidem', 1e-12),\n",
       " ('fulta', 1e-12),\n",
       " ('magis', 1e-12),\n",
       " ('velut', 1e-12),\n",
       " ('fuisse', 1e-12),\n",
       " ('nam', 1e-12),\n",
       " ('sic', 1e-12),\n",
       " ('iure', 1e-12),\n",
       " ('pares', 1e-12),\n",
       " ('probitatis', 1e-12),\n",
       " ('nunc', 1e-12),\n",
       " ('rivales', 1e-12),\n",
       " ('eminus', 1e-12),\n",
       " ('concipiant', 1e-12),\n",
       " ('-ne', 1e-12),\n",
       " ('namque', 1e-12),\n",
       " ('omnia', 1e-12),\n",
       " ('quosdam', 1e-12),\n",
       " ('sani', 1e-12),\n",
       " ('nova', 1e-12),\n",
       " ('sunt', 1e-12),\n",
       " ('constet', 1e-12),\n",
       " ('seditiones', 1e-12),\n",
       " ('quos', 1e-12),\n",
       " ('cum', 1e-12),\n",
       " ('imbecilli', 1e-12),\n",
       " ('fertur', 1e-12),\n",
       " ('enixius', 1e-12),\n",
       " ('aliqua', 1e-12),\n",
       " ('solum', 1e-12),\n",
       " ('ipso', 1e-12),\n",
       " ('esse', 1e-12),\n",
       " ('prudens', 1e-12),\n",
       " ('habent', 1e-12),\n",
       " ('quarum', 1e-12),\n",
       " ('bonos', 1e-12),\n",
       " ('harum', 1e-12),\n",
       " ('quaedam', 1e-12),\n",
       " ('igitur', 1e-12),\n",
       " ('res', 1e-12),\n",
       " ('illa', 1e-12),\n",
       " ('tibi', 1e-12),\n",
       " ('illam', 1e-12),\n",
       " ('maior', 1e-12),\n",
       " ('ostenta', 1e-12),\n",
       " ('videtur', 1e-12),\n",
       " ('ars', 1e-12),\n",
       " ('resident', 1e-12),\n",
       " ('bonis', 1e-12),\n",
       " ('coniuncti', 1e-12),\n",
       " ('narrator', 1e-12),\n",
       " ('solere', 1e-12),\n",
       " ('pauca', 1e-12),\n",
       " ('illud', 1e-12),\n",
       " ('mentiri', 1e-12),\n",
       " ('quis', 1e-12),\n",
       " ('scitum', 1e-12),\n",
       " ('seni', 1e-12),\n",
       " ('ideo', 1e-12),\n",
       " ('ratio', 1e-12),\n",
       " ('temporis', 1e-12),\n",
       " ('vorax', 1e-12),\n",
       " ('coactus', 1e-12),\n",
       " ('usu', 1e-12),\n",
       " ('morbos', 1e-12),\n",
       " ('nostri', 1e-12),\n",
       " ('nostra', 1e-12),\n",
       " ('decennium', 1e-12),\n",
       " ('militiae', 1e-12),\n",
       " ('ille', 1e-12),\n",
       " ('ambo', 1e-12),\n",
       " ('auspiciis', 1e-12),\n",
       " ('omne', 1e-12),\n",
       " ('primitus', 1e-12),\n",
       " ('consuevit', 1e-12),\n",
       " ('inventor', 1e-12),\n",
       " ('utilitate', 1e-12),\n",
       " ('moveantur', 1e-12),\n",
       " ('fit', 1e-12),\n",
       " ('parum', 1e-12),\n",
       " ('graecis', 1e-12),\n",
       " ('et', 1e-12),\n",
       " ('advena', 1e-12),\n",
       " ('adulter', 1e-12),\n",
       " ('magno', 1e-12),\n",
       " ('vis', 1e-12),\n",
       " ('monstranda', 1e-12),\n",
       " ('possint', 1e-12),\n",
       " ('senectute', 1e-12),\n",
       " ('philosophos', 1e-12),\n",
       " ('eis', 1e-12)]"
      ]
     },
     "execution_count": 34,
     "metadata": {},
     "output_type": "execute_result"
    }
   ],
   "source": [
    "water = eng_mod.translation_table['wonder']\n",
    "\n",
    "import operator\n",
    "\n",
    "sorted_x = sorted(water.items(), key=operator.itemgetter(1),reverse=True)\n",
    "\n",
    "sorted_x"
   ]
  },
  {
   "cell_type": "code",
   "execution_count": 73,
   "metadata": {
    "collapsed": false
   },
   "outputs": [],
   "source": [
    "import dill as pickle"
   ]
  },
  {
   "cell_type": "code",
   "execution_count": 36,
   "metadata": {
    "collapsed": true
   },
   "outputs": [],
   "source": [
    "import pickle"
   ]
  },
  {
   "cell_type": "code",
   "execution_count": 74,
   "metadata": {
    "collapsed": true
   },
   "outputs": [],
   "source": [
    "with open('lat_ibm_model_2_1.pk', 'wb') as fout:\n",
    "    pickle.dump(lat_mod,fout)"
   ]
  },
  {
   "cell_type": "code",
   "execution_count": 77,
   "metadata": {
    "collapsed": true
   },
   "outputs": [],
   "source": [
    "with open('eng_ibm_model_2_1.pk', 'wb') as fout:\n",
    "    pickle.dump(eng_mod,fout)"
   ]
  },
  {
   "cell_type": "code",
   "execution_count": 37,
   "metadata": {
    "collapsed": false
   },
   "outputs": [],
   "source": [
    "with open('lat_ibm_model_2_bitext.pk', 'wb') as fout:\n",
    "    pickle.dump(bitext,fout)"
   ]
  },
  {
   "cell_type": "code",
   "execution_count": 38,
   "metadata": {
    "collapsed": true
   },
   "outputs": [],
   "source": [
    "with open('eng_ibm_model_2_bitext.pk', 'wb') as fout:\n",
    "    pickle.dump(eng_bitext,fout)"
   ]
  },
  {
   "cell_type": "code",
   "execution_count": 217,
   "metadata": {
    "collapsed": false
   },
   "outputs": [
    {
     "data": {
      "text/plain": [
       "(None, 'boy', 'loves', 'girl')"
      ]
     },
     "execution_count": 217,
     "metadata": {},
     "output_type": "execute_result"
    }
   ],
   "source": [
    "l.src_sentence"
   ]
  },
  {
   "cell_type": "code",
   "execution_count": 218,
   "metadata": {
    "collapsed": false
   },
   "outputs": [
    {
     "data": {
      "text/plain": [
       "('UNUSED', 'puer', 'amat', 'puellam')"
      ]
     },
     "execution_count": 218,
     "metadata": {},
     "output_type": "execute_result"
    }
   ],
   "source": [
    "l.trg_sentence"
   ]
  },
  {
   "cell_type": "code",
   "execution_count": 71,
   "metadata": {
    "collapsed": false
   },
   "outputs": [
    {
     "data": {
      "text/plain": [
       "Alignment([(0, 3), (1, 63), (2, 5), (3, 50), (4, 50), (5, 6), (6, 12), (7, 3), (8, 21), (9, 24), (10, 23), (11, 19), (12, 20), (13, 63), (14, 50), (15, 30), (16, 6), (17, 72), (18, 3), (19, 6), (20, 36), (21, 55), (22, 3), (23, 41), (24, 54), (25, 63), (26, 74), (27, 3), (28, 35), (29, 6), (30, 46), (31, 54), (32, 3), (33, 47), (34, 50), (35, 50), (36, 62), (37, 3), (38, 66), (39, 78), (40, 20), (41, 67), (42, 77), (43, 79), (44, 64), (45, 3)])"
      ]
     },
     "execution_count": 71,
     "metadata": {},
     "output_type": "execute_result"
    }
   ],
   "source": [
    "bitext[3].alignment"
   ]
  },
  {
   "cell_type": "code",
   "execution_count": 126,
   "metadata": {
    "collapsed": false
   },
   "outputs": [
    {
     "name": "stdout",
     "output_type": "stream",
     "text": [
      "hispania : spain\n",
      "quod : which\n",
      "adiacet : empties\n",
      "qua : rhone\n",
      "-que : the\n",
      "ad : the\n",
      "ostium : empties\n",
      "altera : side\n",
      "portu : port\n",
      "portam : empties\n",
      "gallia : gaul\n",
      "atque : and\n",
      "una : one\n",
      "mare : sea\n",
      "est : None\n",
      "erat : was\n",
      "proxima : attacks\n",
      "navalibus : empties\n",
      "ad : towards\n",
      "aditus : empties\n",
      "ad : the\n",
      "id : the\n",
      "rhodani : rhone\n",
      "ex : of\n"
     ]
    }
   ],
   "source": [
    "b = 1\n",
    "for a in bitext[b].alignment:\n",
    "    w = a[0]\n",
    "    m = a[1]\n",
    "    if w == None:\n",
    "        word = 'None'\n",
    "    else:\n",
    "        word = bitext[b].words[w]\n",
    "    if m == None:\n",
    "        mot = 'None'\n",
    "    else:\n",
    "        mot = bitext[b].mots[a[1]]\n",
    "        \n",
    "    print('{} : {}'.format(word,mot))"
   ]
  },
  {
   "cell_type": "code",
   "execution_count": 165,
   "metadata": {
    "collapsed": false
   },
   "outputs": [
    {
     "data": {
      "text/plain": [
       "['quidam',\n",
       " 'cataplasmo',\n",
       " 'calfacientibus',\n",
       " 'uto',\n",
       " 'eo1',\n",
       " 'multus',\n",
       " 'pondus',\n",
       " 'noceo',\n",
       " 'quis1',\n",
       " 'vesica',\n",
       " 'urgeo',\n",
       " 'vulnus',\n",
       " 'irrito1',\n",
       " 'qui1',\n",
       " 'calor1',\n",
       " 'proficio']"
      ]
     },
     "execution_count": 165,
     "metadata": {},
     "output_type": "execute_result"
    }
   ],
   "source": [
    "bitext[-900].words"
   ]
  },
  {
   "cell_type": "code",
   "execution_count": 70,
   "metadata": {
    "collapsed": false,
    "scrolled": true
   },
   "outputs": [
    {
     "name": "stdout",
     "output_type": "stream",
     "text": [
      "per : by\n",
      "iuvant : incursion\n",
      "ordinatus : reconnoitring\n",
      "bellis : involved\n",
      "eum : him\n",
      "moventem : incursion\n",
      "dederit : makes\n",
      "mesopotamiam : mesopotamia\n",
      "nostra : territories\n",
      "quadam : policy\n",
      "ferocissimas : stage\n",
      "isauriam : incursion\n",
      "arma : frontiers\n"
     ]
    },
    {
     "ename": "TypeError",
     "evalue": "list indices must be integers or slices, not NoneType",
     "output_type": "error",
     "traceback": [
      "\u001b[0;31m---------------------------------------------------------------------------\u001b[0m",
      "\u001b[0;31mTypeError\u001b[0m                                 Traceback (most recent call last)",
      "\u001b[0;32m<ipython-input-70-966aef9a21b8>\u001b[0m in \u001b[0;36m<module>\u001b[0;34m()\u001b[0m\n\u001b[1;32m      1\u001b[0m \u001b[0;32mfor\u001b[0m \u001b[0mb\u001b[0m \u001b[0;32min\u001b[0m \u001b[0mrange\u001b[0m\u001b[0;34m(\u001b[0m\u001b[0mlen\u001b[0m\u001b[0;34m(\u001b[0m\u001b[0mbitext\u001b[0m\u001b[0;34m)\u001b[0m\u001b[0;34m)\u001b[0m\u001b[0;34m:\u001b[0m\u001b[0;34m\u001b[0m\u001b[0m\n\u001b[1;32m      2\u001b[0m     \u001b[0;32mfor\u001b[0m \u001b[0ma\u001b[0m \u001b[0;32min\u001b[0m \u001b[0mbitext\u001b[0m\u001b[0;34m[\u001b[0m\u001b[0mb\u001b[0m\u001b[0;34m]\u001b[0m\u001b[0;34m.\u001b[0m\u001b[0malignment\u001b[0m\u001b[0;34m:\u001b[0m\u001b[0;34m\u001b[0m\u001b[0m\n\u001b[0;32m----> 3\u001b[0;31m         \u001b[0mprint\u001b[0m\u001b[0;34m(\u001b[0m\u001b[0;34m'{} : {}'\u001b[0m\u001b[0;34m.\u001b[0m\u001b[0mformat\u001b[0m\u001b[0;34m(\u001b[0m\u001b[0mbitext\u001b[0m\u001b[0;34m[\u001b[0m\u001b[0mb\u001b[0m\u001b[0;34m]\u001b[0m\u001b[0;34m.\u001b[0m\u001b[0mwords\u001b[0m\u001b[0;34m[\u001b[0m\u001b[0ma\u001b[0m\u001b[0;34m[\u001b[0m\u001b[0;36m0\u001b[0m\u001b[0;34m]\u001b[0m\u001b[0;34m]\u001b[0m\u001b[0;34m,\u001b[0m\u001b[0mbitext\u001b[0m\u001b[0;34m[\u001b[0m\u001b[0mb\u001b[0m\u001b[0;34m]\u001b[0m\u001b[0;34m.\u001b[0m\u001b[0mmots\u001b[0m\u001b[0;34m[\u001b[0m\u001b[0ma\u001b[0m\u001b[0;34m[\u001b[0m\u001b[0;36m1\u001b[0m\u001b[0;34m]\u001b[0m\u001b[0;34m]\u001b[0m\u001b[0;34m)\u001b[0m\u001b[0;34m)\u001b[0m\u001b[0;34m\u001b[0m\u001b[0m\n\u001b[0m",
      "\u001b[0;31mTypeError\u001b[0m: list indices must be integers or slices, not NoneType"
     ]
    }
   ],
   "source": [
    "for b in range(len(bitext)):\n",
    "    for a in bitext[b].alignment:\n",
    "        print('{} : {}'.format(bitext[b].words[a[0]],bitext[b].mots[a[1]]))"
   ]
  },
  {
   "cell_type": "code",
   "execution_count": 58,
   "metadata": {
    "collapsed": false
   },
   "outputs": [
    {
     "data": {
      "text/plain": [
       "'ab'"
      ]
     },
     "execution_count": 58,
     "metadata": {},
     "output_type": "execute_result"
    }
   ],
   "source": [
    "bitext[3].words[8]"
   ]
  },
  {
   "cell_type": "code",
   "execution_count": 59,
   "metadata": {
    "collapsed": false
   },
   "outputs": [
    {
     "data": {
      "text/plain": [
       "'from'"
      ]
     },
     "execution_count": 59,
     "metadata": {},
     "output_type": "execute_result"
    }
   ],
   "source": [
    "bitext[3].mots[60]"
   ]
  },
  {
   "cell_type": "code",
   "execution_count": 23,
   "metadata": {
    "collapsed": false
   },
   "outputs": [
    {
     "ename": "TypeError",
     "evalue": "train() missing 1 required positional argument: 'parallel_corpus'",
     "output_type": "error",
     "traceback": [
      "\u001b[0;31m---------------------------------------------------------------------------\u001b[0m",
      "\u001b[0;31mTypeError\u001b[0m                                 Traceback (most recent call last)",
      "\u001b[0;32m<ipython-input-23-5f578abbc518>\u001b[0m in \u001b[0;36m<module>\u001b[0;34m()\u001b[0m\n\u001b[0;32m----> 1\u001b[0;31m \u001b[0mmod\u001b[0m \u001b[0;34m=\u001b[0m \u001b[0mIBMModel1\u001b[0m\u001b[0;34m.\u001b[0m\u001b[0mtrain\u001b[0m\u001b[0;34m(\u001b[0m\u001b[0mbitext\u001b[0m\u001b[0;34m)\u001b[0m\u001b[0;34m\u001b[0m\u001b[0m\n\u001b[0m",
      "\u001b[0;31mTypeError\u001b[0m: train() missing 1 required positional argument: 'parallel_corpus'"
     ]
    }
   ],
   "source": [
    "mod = IBMModel1.train(bitext)"
   ]
  },
  {
   "cell_type": "code",
   "execution_count": 16,
   "metadata": {
    "collapsed": false
   },
   "outputs": [
    {
     "data": {
      "text/plain": [
       "0.5675554043221417"
      ]
     },
     "execution_count": 16,
     "metadata": {},
     "output_type": "execute_result"
    }
   ],
   "source": [
    "mod.translation_table['rex']['king']"
   ]
  },
  {
   "cell_type": "code",
   "execution_count": 287,
   "metadata": {
    "collapsed": false
   },
   "outputs": [
    {
     "data": {
      "text/plain": [
       "0.6156239752345138"
      ]
     },
     "execution_count": 287,
     "metadata": {},
     "output_type": "execute_result"
    }
   ],
   "source": [
    "mod.translation_table['regina']['queen']"
   ]
  },
  {
   "cell_type": "code",
   "execution_count": 279,
   "metadata": {
    "collapsed": false
   },
   "outputs": [
    {
     "ename": "TypeError",
     "evalue": "prob_of_alignments() takes 2 positional arguments but 4 were given",
     "output_type": "error",
     "traceback": [
      "\u001b[0;31m---------------------------------------------------------------------------\u001b[0m",
      "\u001b[0;31mTypeError\u001b[0m                                 Traceback (most recent call last)",
      "\u001b[0;32m<ipython-input-279-65cba98fb8ac>\u001b[0m in \u001b[0;36m<module>\u001b[0;34m()\u001b[0m\n\u001b[0;32m----> 1\u001b[0;31m \u001b[0mmod\u001b[0m\u001b[0;34m.\u001b[0m\u001b[0mprob_of_alignments\u001b[0m\u001b[0;34m(\u001b[0m\u001b[0;34m[\u001b[0m\u001b[0;34m'hic'\u001b[0m\u001b[0;34m,\u001b[0m\u001b[0;34m'puer'\u001b[0m\u001b[0;34m,\u001b[0m\u001b[0;34m'amat'\u001b[0m\u001b[0;34m]\u001b[0m\u001b[0;34m,\u001b[0m\u001b[0;34m[\u001b[0m\u001b[0;34m'this'\u001b[0m\u001b[0;34m,\u001b[0m\u001b[0;34m'boy'\u001b[0m\u001b[0;34m,\u001b[0m\u001b[0;34m'loves'\u001b[0m\u001b[0;34m]\u001b[0m\u001b[0;34m,\u001b[0m\u001b[0;34m[\u001b[0m\u001b[0;34m(\u001b[0m\u001b[0;36m0\u001b[0m\u001b[0;34m,\u001b[0m \u001b[0;36m0\u001b[0m\u001b[0;34m)\u001b[0m\u001b[0;34m,\u001b[0m \u001b[0;34m(\u001b[0m\u001b[0;36m1\u001b[0m\u001b[0;34m,\u001b[0m \u001b[0;36m1\u001b[0m\u001b[0;34m)\u001b[0m\u001b[0;34m,\u001b[0m \u001b[0;34m(\u001b[0m\u001b[0;36m2\u001b[0m\u001b[0;34m,\u001b[0m \u001b[0;36m2\u001b[0m\u001b[0;34m)\u001b[0m\u001b[0;34m,\u001b[0m \u001b[0;34m(\u001b[0m\u001b[0;36m3\u001b[0m\u001b[0;34m,\u001b[0m \u001b[0;32mNone\u001b[0m\u001b[0;34m)\u001b[0m\u001b[0;34m,\u001b[0m \u001b[0;34m(\u001b[0m\u001b[0;36m4\u001b[0m\u001b[0;34m,\u001b[0m \u001b[0;36m3\u001b[0m\u001b[0;34m)\u001b[0m\u001b[0;34m]\u001b[0m\u001b[0;34m)\u001b[0m\u001b[0;34m\u001b[0m\u001b[0m\n\u001b[0m",
      "\u001b[0;31mTypeError\u001b[0m: prob_of_alignments() takes 2 positional arguments but 4 were given"
     ]
    }
   ],
   "source": [
    "mod.prob_of_alignments(['hic','puer','amat'],['this','boy','loves'],[(0, 0), (1, 1), (2, 2), (3, None), (4, 3)])"
   ]
  },
  {
   "cell_type": "code",
   "execution_count": 297,
   "metadata": {
    "collapsed": false
   },
   "outputs": [
    {
     "ename": "AttributeError",
     "evalue": "'IBMModel2' object has no attribute 'align'",
     "output_type": "error",
     "traceback": [
      "\u001b[0;31m---------------------------------------------------------------------------\u001b[0m",
      "\u001b[0;31mAttributeError\u001b[0m                            Traceback (most recent call last)",
      "\u001b[0;32m<ipython-input-297-16bdceaa2369>\u001b[0m in \u001b[0;36m<module>\u001b[0;34m()\u001b[0m\n\u001b[0;32m----> 1\u001b[0;31m \u001b[0mmod\u001b[0m\u001b[0;34m.\u001b[0m\u001b[0malign\u001b[0m\u001b[0;34m(\u001b[0m\u001b[0mbitexts\u001b[0m\u001b[0;34m[\u001b[0m\u001b[0;36m0\u001b[0m\u001b[0;34m]\u001b[0m\u001b[0;34m)\u001b[0m\u001b[0;34m\u001b[0m\u001b[0m\n\u001b[0m",
      "\u001b[0;31mAttributeError\u001b[0m: 'IBMModel2' object has no attribute 'align'"
     ]
    }
   ],
   "source": [
    "mod.align(bitexts[0])"
   ]
  },
  {
   "cell_type": "code",
   "execution_count": 295,
   "metadata": {
    "collapsed": false
   },
   "outputs": [],
   "source": [
    "al_s = AlignedSent(['puer','amat','puellam'],['the','boy','loves','the','girl'],a)"
   ]
  },
  {
   "cell_type": "code",
   "execution_count": 293,
   "metadata": {
    "collapsed": false
   },
   "outputs": [],
   "source": [
    "a = Alignment([(0,1),(1,2),(2,4)])"
   ]
  },
  {
   "cell_type": "code",
   "execution_count": 298,
   "metadata": {
    "collapsed": false
   },
   "outputs": [
    {
     "ename": "AttributeError",
     "evalue": "'AlignedSent' object has no attribute 'src_sentence'",
     "output_type": "error",
     "traceback": [
      "\u001b[0;31m---------------------------------------------------------------------------\u001b[0m",
      "\u001b[0;31mAttributeError\u001b[0m                            Traceback (most recent call last)",
      "\u001b[0;32m<ipython-input-298-86a132f98993>\u001b[0m in \u001b[0;36m<module>\u001b[0;34m()\u001b[0m\n\u001b[0;32m----> 1\u001b[0;31m \u001b[0mbitext\u001b[0m\u001b[0;34m[\u001b[0m\u001b[0;36m0\u001b[0m\u001b[0;34m]\u001b[0m\u001b[0;34m.\u001b[0m\u001b[0msrc_sentence\u001b[0m\u001b[0;34m\u001b[0m\u001b[0m\n\u001b[0m",
      "\u001b[0;31mAttributeError\u001b[0m: 'AlignedSent' object has no attribute 'src_sentence'"
     ]
    }
   ],
   "source": [
    "bitext[0].src_sentence"
   ]
  },
  {
   "cell_type": "code",
   "execution_count": null,
   "metadata": {
    "collapsed": true
   },
   "outputs": [],
   "source": []
  }
 ],
 "metadata": {
  "anaconda-cloud": {},
  "kernelspec": {
   "display_name": "Python [conda root]",
   "language": "python",
   "name": "conda-root-py"
  },
  "language_info": {
   "codemirror_mode": {
    "name": "ipython",
    "version": 3
   },
   "file_extension": ".py",
   "mimetype": "text/x-python",
   "name": "python",
   "nbconvert_exporter": "python",
   "pygments_lexer": "ipython3",
   "version": "3.5.2"
  }
 },
 "nbformat": 4,
 "nbformat_minor": 1
}
