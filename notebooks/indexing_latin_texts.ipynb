{
 "cells": [
  {
   "cell_type": "code",
   "execution_count": 1,
   "metadata": {
    "collapsed": true
   },
   "outputs": [],
   "source": [
    "from bs4 import BeautifulSoup\n",
    "from collections import defaultdict\n",
    "import os\n",
    "import pandas as pd\n",
    "\n"
   ]
  },
  {
   "cell_type": "code",
   "execution_count": 2,
   "metadata": {
    "collapsed": false
   },
   "outputs": [],
   "source": [
    "os.chdir('Latin')"
   ]
  },
  {
   "cell_type": "code",
   "execution_count": 6,
   "metadata": {
    "collapsed": false
   },
   "outputs": [],
   "source": [
    "text_dict = defaultdict(list)\n",
    "for d in os.listdir()[2:]:\n",
    "    for f in os.listdir(d + '/opensource'):\n",
    "        if '_lat.xml' in f:\n",
    "            text = f.split('_lat.xml')[0]\n",
    "            for of in os.listdir(d + '/opensource'):\n",
    "                if '_eng.xml' in of:\n",
    "                    engtext = of.split('_eng.xml')[0]\n",
    "                    if engtext == text:\n",
    "                        lat_soup = BeautifulSoup(open(d+'/opensource/'+f).read(),'lxml')\n",
    "                        eng_soup = BeautifulSoup(open(d+'/opensource/'+of).read(),'lxml')\n",
    "                        author = lat_soup.find('author').text\n",
    "                        eng_title = eng_soup.find('title').text\n",
    "                        lat_title = lat_soup.find('title').text\n",
    "                        text_dict[author].append([of,f])"
   ]
  },
  {
   "cell_type": "markdown",
   "metadata": {},
   "source": [
    "Also need pliny the elder and Suetonius in this list"
   ]
  },
  {
   "cell_type": "code",
   "execution_count": 7,
   "metadata": {
    "collapsed": false
   },
   "outputs": [
    {
     "name": "stdout",
     "output_type": "stream",
     "text": [
      "Aulus Gellius\n",
      "\tgel_eng.xml , gel_lat.xml\n",
      "Quintilian\n",
      "\tquint.butler1-3_eng.xml , quint.butler1-3_lat.xml\n",
      "\tquint.butler10-12_eng.xml , quint.butler10-12_lat.xml\n",
      "\tquint.butler4-6_eng.xml , quint.butler4-6_lat.xml\n",
      "\tquint.butler7-9_eng.xml , quint.butler7-9_lat.xml\n",
      "Celsus\n",
      "\tcels_eng.xml , cels_lat.xml\n",
      "Ammianus Marcellinus\n",
      "\tamm_eng.xml , amm_lat.xml\n",
      "M. Annaeus Lucanus\n",
      "\tpharsalia_eng.xml , pharsalia_lat.xml\n",
      "Q. Horatius Flaccus (Horace)\n",
      "\thor.ap_eng.xml , hor.ap_lat.xml\n",
      "\thor.sat_eng.xml , hor.sat_lat.xml\n",
      "M. Tullius Cicero\n",
      "\tcic.amic_falc_eng.xml , cic.amic_falc_lat.xml\n",
      "\tcic.div_falc_eng.xml , cic.div_falc_lat.xml\n",
      "\tcic.off_eng.xml , cic.off_lat.xml\n",
      "\tcic.sen_falc_eng.xml , cic.sen_falc_lat.xml\n",
      "Seneca\n",
      "\tsen.apoc_eng.xml , sen.apoc_lat.xml\n",
      "P. Vergilius Maro\n",
      "\tverg.ecl_eng.xml , verg.ecl_lat.xml\n",
      "\tverg.g_eng.xml , verg.g_lat.xml\n",
      "Vitruvius Pollio\n",
      "\tvitruv_eng.xml , vitruv_lat.xml\n",
      "Sallust\n",
      "\tsallust.catil_eng.xml , sallust.catil_lat.xml\n",
      "\tsallust.jugur_eng.xml , sallust.jugur_lat.xml\n",
      "T. Maccius Plautus\n",
      "\tpl.am_eng.xml , pl.am_lat.xml\n",
      "\tpl.as_eng.xml , pl.as_lat.xml\n",
      "\tpl.aul_eng.xml , pl.aul_lat.xml\n",
      "\tpl.bac_eng.xml , pl.bac_lat.xml\n",
      "\tpl.capt_eng.xml , pl.capt_lat.xml\n",
      "\tpl.cas_eng.xml , pl.cas_lat.xml\n",
      "\tpl.cist_eng.xml , pl.cist_lat.xml\n",
      "\tpl.cur_eng.xml , pl.cur_lat.xml\n",
      "\tpl.epid_eng.xml , pl.epid_lat.xml\n",
      "\tpl.men_eng.xml , pl.men_lat.xml\n",
      "\tpl.mer_eng.xml , pl.mer_lat.xml\n",
      "\tpl.mil_eng.xml , pl.mil_lat.xml\n",
      "\tpl.mos_eng.xml , pl.mos_lat.xml\n",
      "\tpl.per_eng.xml , pl.per_lat.xml\n",
      "\tpl.poen_eng.xml , pl.poen_lat.xml\n",
      "\tpl.ps_eng.xml , pl.ps_lat.xml\n",
      "\tpl.rud_eng.xml , pl.rud_lat.xml\n",
      "\tpl.st_eng.xml , pl.st_lat.xml\n",
      "\tpl.trin_eng.xml , pl.trin_lat.xml\n",
      "\tpl.truc_eng.xml , pl.truc_lat.xml\n",
      "Lucretius\n",
      "\tlucretius_eng.xml , lucretius_lat.xml\n",
      "P. Terentius Afer (Terence)\n",
      "\tad_eng.xml , ad_lat.xml\n",
      "\tan_eng.xml , an_lat.xml\n",
      "\teu_eng.xml , eu_lat.xml\n",
      "\thau_eng.xml , hau_lat.xml\n",
      "\thec_eng.xml , hec_lat.xml\n",
      "\tph_eng.xml , ph_lat.xml\n",
      "Petronius\n",
      "\tpetr_eng.xml , petr_lat.xml\n",
      "C. Julius Caesar\n",
      "\tcaes.bc_eng.xml , caes.bc_lat.xml\n",
      "\tcaes.bg_eng.xml , caes.bg_lat.xml\n",
      "P. Ovidius Naso\n",
      "\tovid.am_eng.xml , ovid.am_lat.xml\n",
      "\tovid.met_eng.xml , ovid.met_lat.xml\n"
     ]
    }
   ],
   "source": [
    "for k in text_dict.keys():\n",
    "    print(k)\n",
    "    for v in text_dict[k]:\n",
    "        print('\\t' + v[0] + ' , ' + v[1])"
   ]
  },
  {
   "cell_type": "code",
   "execution_count": 18,
   "metadata": {
    "collapsed": false
   },
   "outputs": [
    {
     "name": "stdout",
     "output_type": "stream",
     "text": [
      "Ammianus Marcellinus\n",
      "Petronius\n",
      "Q. Horatius Flaccus (Horace)\n",
      "Vitruvius Pollio\n",
      "Celsus\n",
      "Aulus Gellius\n",
      "M. Annaeus Lucanus\n",
      "Quintilian\n",
      "P. Terentius Afer (Terence)\n",
      "Seneca\n",
      "Sallust\n",
      "T. Maccius Plautus\n",
      "P. Vergilius Maro\n",
      "cicero\n",
      "P. Ovidius Naso\n",
      "Lucretius\n",
      "C. Julius Caesar\n",
      "M. Tullius Cicero\n",
      "Marcus Tullis Cicero\n"
     ]
    }
   ],
   "source": [
    "for k in text_dict.keys():\n",
    "    print(k)"
   ]
  },
  {
   "cell_type": "code",
   "execution_count": 42,
   "metadata": {
    "collapsed": false
   },
   "outputs": [
    {
     "data": {
      "text/plain": [
       "[['De Medicina', 'De Medicina']]"
      ]
     },
     "execution_count": 42,
     "metadata": {},
     "output_type": "execute_result"
    }
   ],
   "source": [
    "text_dict['Celsus']"
   ]
  },
  {
   "cell_type": "code",
   "execution_count": 33,
   "metadata": {
    "collapsed": false
   },
   "outputs": [],
   "source": [
    "os.chdir('Suetonius/opensource/')"
   ]
  },
  {
   "cell_type": "code",
   "execution_count": 34,
   "metadata": {
    "collapsed": false
   },
   "outputs": [
    {
     "data": {
      "text/plain": [
       "['suet.caes_lat.xml', 'suet.thomson_eng.xml']"
      ]
     },
     "execution_count": 34,
     "metadata": {},
     "output_type": "execute_result"
    }
   ],
   "source": [
    "os.listdir()"
   ]
  },
  {
   "cell_type": "code",
   "execution_count": 35,
   "metadata": {
    "collapsed": true
   },
   "outputs": [],
   "source": [
    "lat_soup = BeautifulSoup(open('suet.caes_lat.xml').read(),'lxml')\n",
    "eng_soup = BeautifulSoup(open('suet.thomson_eng.xml').read(),'lxml')"
   ]
  },
  {
   "cell_type": "code",
   "execution_count": 36,
   "metadata": {
    "collapsed": true
   },
   "outputs": [],
   "source": [
    "author = lat_soup.find('author').text\n",
    "eng_title = eng_soup.find('title').text\n",
    "lat_title = lat_soup.find('title').text"
   ]
  },
  {
   "cell_type": "code",
   "execution_count": 37,
   "metadata": {
    "collapsed": false
   },
   "outputs": [
    {
     "data": {
      "text/plain": [
       "'De Vita Caesarum'"
      ]
     },
     "execution_count": 37,
     "metadata": {},
     "output_type": "execute_result"
    }
   ],
   "source": [
    "lat_title"
   ]
  },
  {
   "cell_type": "code",
   "execution_count": 38,
   "metadata": {
    "collapsed": true
   },
   "outputs": [],
   "source": [
    "text_dict[author].append([eng_title,lat_title])"
   ]
  },
  {
   "cell_type": "code",
   "execution_count": 39,
   "metadata": {
    "collapsed": false
   },
   "outputs": [
    {
     "data": {
      "text/plain": [
       "defaultdict(list,\n",
       "            {'Ammianus Marcellinus': [['Rerum Gestarum', 'Rerum Gestarum']],\n",
       "             'Aulus Gellius': [['Attic Nights', 'Attic Nights']],\n",
       "             'C. Julius Caesar': [['Commentaries on the Civil War',\n",
       "               'De Bello Civili'],\n",
       "              ['Gallic War', 'De bello Gallico']],\n",
       "             'C. Suetonius Tranquillus': [['The Lives of the Caesars',\n",
       "               'De Vita Caesarum']],\n",
       "             'Celsus': [['De Medicina', 'De Medicina']],\n",
       "             'Lucretius': [['De Rerum Natura', 'De Rerum Natura']],\n",
       "             'M. Annaeus Lucanus': [['Pharsalia', 'Pharsalia']],\n",
       "             'M. Tullius Cicero': [['Laelius on friendship', 'De Amicitia'],\n",
       "              ['Divination', 'De Divinatione'],\n",
       "              ['De Officiis', 'De Officiis'],\n",
       "              ['Cato the Elder: on old age', 'De Senectute']],\n",
       "             'Marcus Tullis Cicero': [],\n",
       "             'P. Ovidius Naso': [['Art of Love, Remedy of Love, Art of Beauty, Court of Love, History of Love, Amours',\n",
       "               'Amores, Epistulae, Medicamina faciei femineae, Ars amatoria, Remedia amoris'],\n",
       "              ['Metamorphoses', 'Metamorphoses']],\n",
       "             'P. Terentius Afer (Terence)': [['Adelphi:  The Brothers',\n",
       "               'Adelphi'],\n",
       "              ['Andria:  The Fair Andrian', 'Andria'],\n",
       "              ['The Eunuch', 'Eunuchus'],\n",
       "              ['Heautontimorumenos: The Self-Tormenter', 'Heautontimorumenos'],\n",
       "              ['Hecyra: The Mother-In-Law', 'Hecyra'],\n",
       "              ['Phormio, or The Scheming Parasite', 'Phormio']],\n",
       "             'P. Vergilius Maro': [['Eclogues', 'Eclogues'],\n",
       "              ['Georgics', 'Georgicon']],\n",
       "             'Petronius': [['Satyricon, Fragments, and Poems',\n",
       "               'Satyricon, Fragmenta, and Poems']],\n",
       "             'Pliny the Elder': [['The Natural History',\n",
       "               'Naturalis Historia']],\n",
       "             'Q. Horatius Flaccus (Horace)': [['The Art of Poetry:  To the Pisos',\n",
       "               'De Arte Poetica liber'],\n",
       "              ['The Works of Horace', 'Satyrarum libri']],\n",
       "             'Quintilian': [['Institutio Oratoria, books 1-3',\n",
       "               'Institutio Oratoria, books 1-3: index'],\n",
       "              ['Institutio Oratoria, books 10-12',\n",
       "               'Institutio Oratoria, books 10-12'],\n",
       "              ['Institutio Oratoria, books 4-6',\n",
       "               'Institutio Oratoria, books 4-6'],\n",
       "              ['Institutio Oratoria, books 7-9',\n",
       "               'Institutio Oratoria, books 7-9']],\n",
       "             'Sallust': [['Consipiracy of Catiline',\n",
       "               'The Catilinarian Conspiracy'],\n",
       "              ['The Jugurthine War', 'The Jugurthine War']],\n",
       "             'Seneca': [['Apocolocyntosis', 'Apocolocyntosis']],\n",
       "             'T. Maccius Plautus': [['Amphitryon, or Jupiter in Disguise',\n",
       "               'Amphitruo'],\n",
       "              ['Asinaria, or The Ass-Dealer', 'Asinaria'],\n",
       "              ['Aulularia, or The Concealed Treasure', 'Aulularia'],\n",
       "              ['Bacchides, or The Twin Sisters', 'Bacchides'],\n",
       "              ['Captivi:  The Captives', 'Captivi'],\n",
       "              ['Casina, or The Stratagem Defeated', 'Casina'],\n",
       "              ['Cistellaria, or The Casket', 'Cistellaria'],\n",
       "              ['Curculio, or The Forgery', 'Curculio'],\n",
       "              ['Epidicus, or The Fortunate Discovert', 'Epidicus'],\n",
       "              ['Menaechmi, or The Twin Brothers', 'Menaechmi'],\n",
       "              ['Mercator, or The Merchant', 'Mercator'],\n",
       "              ['Miles Gloriosus, or The Braggart Captain', 'Miles Gloriosus'],\n",
       "              ['Mostellaria, or The Haunted House', 'Mostellaria'],\n",
       "              ['Persa, or The Persian', 'Persa'],\n",
       "              ['Poenulus, or The Young Carthaginian', 'Poenulus'],\n",
       "              ['Pseudolus, or The Cheat', 'Pseudolus'],\n",
       "              [\"Rudens, or The Fisherman's Rope\", 'Rudens'],\n",
       "              ['Stichus, or The Parasite Rebuffed', 'Stichus'],\n",
       "              ['Trinummus:  The Three Pieces of Money', 'Trinummus'],\n",
       "              ['Truculentus, or The Churl', 'Truculentus']],\n",
       "             'Vitruvius Pollio': [['The Ten Books on Architecture',\n",
       "               'De Architectura']],\n",
       "             'cicero': []})"
      ]
     },
     "execution_count": 39,
     "metadata": {},
     "output_type": "execute_result"
    }
   ],
   "source": [
    "text_dict"
   ]
  },
  {
   "cell_type": "code",
   "execution_count": null,
   "metadata": {
    "collapsed": true
   },
   "outputs": [],
   "source": []
  }
 ],
 "metadata": {
  "anaconda-cloud": {},
  "kernelspec": {
   "display_name": "Python [conda root]",
   "language": "python",
   "name": "conda-root-py"
  },
  "language_info": {
   "codemirror_mode": {
    "name": "ipython",
    "version": 3
   },
   "file_extension": ".py",
   "mimetype": "text/x-python",
   "name": "python",
   "nbconvert_exporter": "python",
   "pygments_lexer": "ipython3",
   "version": "3.5.2"
  }
 },
 "nbformat": 4,
 "nbformat_minor": 1
}
