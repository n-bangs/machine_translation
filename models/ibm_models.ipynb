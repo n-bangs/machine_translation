{
 "cells": [
  {
   "cell_type": "code",
   "execution_count": 1,
   "metadata": {
    "collapsed": false
   },
   "outputs": [],
   "source": [
    "import json\n",
    "import os\n",
    "import re\n",
    "import string\n",
    "\n",
    "from cltk.tokenize.word import WordTokenizer\n",
    "from cltk.stem.lemma import LemmaReplacer\n",
    "from nltk.translate import AlignedSent, Alignment, IBMModel1, IBMModel2\n",
    "from nltk.tokenize import wordpunct_tokenize\n",
    "from nltk.translate.ibm_model import AlignmentInfo"
   ]
  },
  {
   "cell_type": "code",
   "execution_count": 3,
   "metadata": {
    "collapsed": false
   },
   "outputs": [
    {
     "ename": "MemoryError",
     "evalue": "",
     "output_type": "error",
     "traceback": [
      "\u001b[0;31m---------------------------------------------------------------------------\u001b[0m",
      "\u001b[0;31mMemoryError\u001b[0m                               Traceback (most recent call last)",
      "\u001b[0;32m<ipython-input-3-2c28e678912c>\u001b[0m in \u001b[0;36m<module>\u001b[0;34m()\u001b[0m\n\u001b[1;32m      1\u001b[0m \u001b[0mlat_tokenizer\u001b[0m \u001b[0;34m=\u001b[0m \u001b[0mWordTokenizer\u001b[0m\u001b[0;34m(\u001b[0m\u001b[0;34m'latin'\u001b[0m\u001b[0;34m)\u001b[0m\u001b[0;34m\u001b[0m\u001b[0m\n\u001b[1;32m      2\u001b[0m \u001b[0meng_tokenizer\u001b[0m \u001b[0;34m=\u001b[0m \u001b[0mwordpunct_tokenize\u001b[0m\u001b[0;34m\u001b[0m\u001b[0m\n\u001b[0;32m----> 3\u001b[0;31m \u001b[0mlem\u001b[0m \u001b[0;34m=\u001b[0m \u001b[0mLemmaReplacer\u001b[0m\u001b[0;34m(\u001b[0m\u001b[0;34m'latin'\u001b[0m\u001b[0;34m)\u001b[0m\u001b[0;34m\u001b[0m\u001b[0m\n\u001b[0m",
      "\u001b[0;32m/home/ubuntu/anaconda3/lib/python3.5/site-packages/cltk/stem/lemma.py\u001b[0m in \u001b[0;36m__init__\u001b[0;34m(self, language)\u001b[0m\n\u001b[1;32m     22\u001b[0m         \u001b[0;32massert\u001b[0m \u001b[0mself\u001b[0m\u001b[0;34m.\u001b[0m\u001b[0mlanguage\u001b[0m \u001b[0;32min\u001b[0m \u001b[0mAVAILABLE_LANGUAGES\u001b[0m\u001b[0;34m,\u001b[0m\u001b[0;31m \u001b[0m\u001b[0;31m\\\u001b[0m\u001b[0;34m\u001b[0m\u001b[0m\n\u001b[1;32m     23\u001b[0m             \u001b[0;34m\"Lemmatizer not available for language '{0}'.\"\u001b[0m\u001b[0;34m.\u001b[0m\u001b[0mformat\u001b[0m\u001b[0;34m(\u001b[0m\u001b[0mself\u001b[0m\u001b[0;34m.\u001b[0m\u001b[0mlanguage\u001b[0m\u001b[0;34m)\u001b[0m\u001b[0;34m\u001b[0m\u001b[0m\n\u001b[0;32m---> 24\u001b[0;31m         \u001b[0mself\u001b[0m\u001b[0;34m.\u001b[0m\u001b[0mlemmata\u001b[0m \u001b[0;34m=\u001b[0m \u001b[0mself\u001b[0m\u001b[0;34m.\u001b[0m\u001b[0m_load_replacement_patterns\u001b[0m\u001b[0;34m(\u001b[0m\u001b[0;34m)\u001b[0m\u001b[0;34m\u001b[0m\u001b[0m\n\u001b[0m\u001b[1;32m     25\u001b[0m \u001b[0;34m\u001b[0m\u001b[0m\n\u001b[1;32m     26\u001b[0m     \u001b[0;32mdef\u001b[0m \u001b[0m_load_replacement_patterns\u001b[0m\u001b[0;34m(\u001b[0m\u001b[0mself\u001b[0m\u001b[0;34m)\u001b[0m\u001b[0;34m:\u001b[0m\u001b[0;34m\u001b[0m\u001b[0m\n",
      "\u001b[0;32m/home/ubuntu/anaconda3/lib/python3.5/site-packages/cltk/stem/lemma.py\u001b[0m in \u001b[0;36m_load_replacement_patterns\u001b[0;34m(self)\u001b[0m\n\u001b[1;32m     43\u001b[0m             \u001b[0;31m#logger.info('Loading lemmata. This may take a minute.')\u001b[0m\u001b[0;34m\u001b[0m\u001b[0;34m\u001b[0m\u001b[0m\n\u001b[1;32m     44\u001b[0m             \u001b[0mloader\u001b[0m \u001b[0;34m=\u001b[0m \u001b[0mimportlib\u001b[0m\u001b[0;34m.\u001b[0m\u001b[0mmachinery\u001b[0m\u001b[0;34m.\u001b[0m\u001b[0mSourceFileLoader\u001b[0m\u001b[0;34m(\u001b[0m\u001b[0;34m'greek_lemmata_cltk'\u001b[0m\u001b[0;34m,\u001b[0m \u001b[0mpath\u001b[0m\u001b[0;34m)\u001b[0m\u001b[0;34m\u001b[0m\u001b[0m\n\u001b[0;32m---> 45\u001b[0;31m         \u001b[0mmodule\u001b[0m \u001b[0;34m=\u001b[0m \u001b[0mloader\u001b[0m\u001b[0;34m.\u001b[0m\u001b[0mload_module\u001b[0m\u001b[0;34m(\u001b[0m\u001b[0;34m)\u001b[0m\u001b[0;34m\u001b[0m\u001b[0m\n\u001b[0m\u001b[1;32m     46\u001b[0m         \u001b[0mlemmata\u001b[0m \u001b[0;34m=\u001b[0m \u001b[0mmodule\u001b[0m\u001b[0;34m.\u001b[0m\u001b[0mLEMMATA\u001b[0m\u001b[0;34m\u001b[0m\u001b[0m\n\u001b[1;32m     47\u001b[0m         \u001b[0;32mreturn\u001b[0m \u001b[0mlemmata\u001b[0m\u001b[0;34m\u001b[0m\u001b[0m\n",
      "\u001b[0;32m/home/ubuntu/anaconda3/lib/python3.5/importlib/_bootstrap_external.py\u001b[0m in \u001b[0;36m_check_name_wrapper\u001b[0;34m(self, name, *args, **kwargs)\u001b[0m\n",
      "\u001b[0;32m/home/ubuntu/anaconda3/lib/python3.5/importlib/_bootstrap_external.py\u001b[0m in \u001b[0;36mload_module\u001b[0;34m(self, fullname)\u001b[0m\n",
      "\u001b[0;32m/home/ubuntu/anaconda3/lib/python3.5/importlib/_bootstrap_external.py\u001b[0m in \u001b[0;36mload_module\u001b[0;34m(self, fullname)\u001b[0m\n",
      "\u001b[0;32m/home/ubuntu/anaconda3/lib/python3.5/importlib/_bootstrap.py\u001b[0m in \u001b[0;36m_load_module_shim\u001b[0;34m(self, fullname)\u001b[0m\n",
      "\u001b[0;32m/home/ubuntu/anaconda3/lib/python3.5/importlib/_bootstrap.py\u001b[0m in \u001b[0;36m_load\u001b[0;34m(spec)\u001b[0m\n",
      "\u001b[0;32m/home/ubuntu/anaconda3/lib/python3.5/importlib/_bootstrap.py\u001b[0m in \u001b[0;36m_load_unlocked\u001b[0;34m(spec)\u001b[0m\n",
      "\u001b[0;32m/home/ubuntu/anaconda3/lib/python3.5/importlib/_bootstrap_external.py\u001b[0m in \u001b[0;36mexec_module\u001b[0;34m(self, module)\u001b[0m\n",
      "\u001b[0;32m/home/ubuntu/anaconda3/lib/python3.5/importlib/_bootstrap_external.py\u001b[0m in \u001b[0;36mget_code\u001b[0;34m(self, fullname)\u001b[0m\n",
      "\u001b[0;32m/home/ubuntu/anaconda3/lib/python3.5/importlib/_bootstrap_external.py\u001b[0m in \u001b[0;36msource_to_code\u001b[0;34m(self, data, path, _optimize)\u001b[0m\n",
      "\u001b[0;32m/home/ubuntu/anaconda3/lib/python3.5/importlib/_bootstrap.py\u001b[0m in \u001b[0;36m_call_with_frames_removed\u001b[0;34m(f, *args, **kwds)\u001b[0m\n",
      "\u001b[0;31mMemoryError\u001b[0m: "
     ]
    }
   ],
   "source": [
    "lat_tokenizer = WordTokenizer('latin')\n",
    "eng_tokenizer = wordpunct_tokenize\n",
    "lem = LemmaReplacer('latin')"
   ]
  },
  {
   "cell_type": "code",
   "execution_count": 7,
   "metadata": {
    "collapsed": false
   },
   "outputs": [],
   "source": [
    "def get_sentence_pair(alignments):\n",
    "    for a in alignments:\n",
    "        for s in a:\n",
    "            #for s in p:\n",
    "            lat_sent = tokenize_sentences(s[0],lat_tokenizer.tokenize)\n",
    "            eng_sent = tokenize_sentences(s[1], eng_tokenizer)\n",
    "            yield [lat_sent,eng_sent]"
   ]
  },
  {
   "cell_type": "code",
   "execution_count": 8,
   "metadata": {
    "collapsed": true
   },
   "outputs": [],
   "source": [
    "def tokenize_sentences(sent,tok):\n",
    "    tokens = []\n",
    "    if type(sent) == list:\n",
    "        for s in sent:\n",
    "            s = re.sub(r'[{}]'.format(string.punctuation),'',s).lower()\n",
    "            s = re.sub(r'  *', ' ', s)\n",
    "            tokens += tok(s.lower())\n",
    "    else:\n",
    "        sent = re.sub(r'[{}]'.format(string.punctuation),'',sent).lower()\n",
    "        sent = re.sub(r'  *', ' ', sent)\n",
    "        tokens += tok(sent)\n",
    "        \n",
    "    return tokens"
   ]
  },
  {
   "cell_type": "code",
   "execution_count": null,
   "metadata": {
    "collapsed": true
   },
   "outputs": [],
   "source": [
    "os.chdir('../aligned_sentences/')"
   ]
  },
  {
   "cell_type": "code",
   "execution_count": 10,
   "metadata": {
    "collapsed": false
   },
   "outputs": [],
   "source": [
    "bitext = []\n",
    "\n",
    "for f in os.listdir()[2:]:\n",
    "    of = open(f)\n",
    "    aligned_sentences = json.loads(of.read())\n",
    "    of.close()\n",
    "\n",
    "    for a in aligned_sentences:\n",
    "        for s in a:\n",
    "            lat_sent = tokenize_sentences(s[0],lat_tokenizer.tokenize)\n",
    "            eng_sent = tokenize_sentences(s[1], eng_tokenizer)\n",
    "            if len(lat_sent) == 0 or len(eng_sent) == 0:\n",
    "                continue\n",
    "            bitext.append(AlignedSent(lat_sent,eng_sent))\n",
    "\n",
    "of = open('amm_lat_sentences.json')\n",
    "aligned_sentences = json.loads(of.read())\n",
    "of.close()\n",
    "\n",
    "for a in aligned_sentences:\n",
    "    for p in a:\n",
    "        for s in p:\n",
    "            lat_sent = tokenize_sentences(s[0],lat_tokenizer.tokenize)\n",
    "            #while '' in lat_sent:\n",
    "            #    lat_sent.remove('')\n",
    "            #lat_sent = lem.lemmatize(lat_sent)\n",
    "            eng_sent = tokenize_sentences(s[1], eng_tokenizer)\n",
    "            if len(lat_sent) == 0 or len(eng_sent) == 0:\n",
    "                continue\n",
    "            bitext.append(AlignedSent(lat_sent,eng_sent))"
   ]
  },
  {
   "cell_type": "code",
   "execution_count": 35,
   "metadata": {
    "collapsed": false
   },
   "outputs": [],
   "source": [
    "lat_mod = IBMModel2(bitext,5)"
   ]
  },
  {
   "cell_type": "code",
   "execution_count": 107,
   "metadata": {
    "collapsed": true
   },
   "outputs": [],
   "source": [
    "eng_bitext = []\n",
    "\n",
    "for f in os.listdir()[2:]:\n",
    "    of = open(f)\n",
    "    aligned_sentences = json.loads(of.read())\n",
    "    of.close()\n",
    "\n",
    "    for a in aligned_sentences:\n",
    "        for s in a:\n",
    "            lat_sent = tokenize_sentences(s[0],lat_tokenizer.tokenize)\n",
    "            eng_sent = tokenize_sentences(s[1], eng_tokenizer)\n",
    "            if len(lat_sent) == 0 or len(eng_sent) == 0:\n",
    "                continue\n",
    "            eng_bitext.append(AlignedSent(eng_sent, lat_sent))\n",
    "\n",
    "of = open('amm_lat_sentences.json')\n",
    "aligned_sentences = json.loads(of.read())\n",
    "of.close()\n",
    "\n",
    "for a in aligned_sentences:\n",
    "    for p in a:\n",
    "        for s in p:\n",
    "            lat_sent = tokenize_sentences(s[0],lat_tokenizer.tokenize)\n",
    "            #while '' in lat_sent:\n",
    "            #    lat_sent.remove('')\n",
    "            #lat_sent = lem.lemmatize(lat_sent)\n",
    "            eng_sent = tokenize_sentences(s[1], eng_tokenizer)\n",
    "            if len(lat_sent) == 0 or len(eng_sent) == 0:\n",
    "                continue\n",
    "            eng_bitext.append(AlignedSent(eng_sent,lat_sent))"
   ]
  },
  {
   "cell_type": "code",
   "execution_count": 108,
   "metadata": {
    "collapsed": true
   },
   "outputs": [],
   "source": [
    "eng_mod = IBMModel2(bitext,5)"
   ]
  },
  {
   "cell_type": "code",
   "execution_count": 109,
   "metadata": {
    "collapsed": false
   },
   "outputs": [
    {
     "name": "stdout",
     "output_type": "stream",
     "text": [
      "Done\n"
     ]
    }
   ],
   "source": [
    "print('Done')"
   ]
  },
  {
   "cell_type": "code",
   "execution_count": 103,
   "metadata": {
    "collapsed": false
   },
   "outputs": [
    {
     "data": {
      "text/plain": [
       "<nltk.translate.ibm_model.AlignmentInfo at 0x10e4372e8>"
      ]
     },
     "execution_count": 103,
     "metadata": {},
     "output_type": "execute_result"
    }
   ],
   "source": [
    "lat_mod.best_model2_alignment(AlignedSent(['vir', 'mittit','florem'],['the','dog','sleeps']))"
   ]
  },
  {
   "cell_type": "code",
   "execution_count": 104,
   "metadata": {
    "collapsed": true
   },
   "outputs": [],
   "source": [
    "ba = _"
   ]
  },
  {
   "cell_type": "code",
   "execution_count": 105,
   "metadata": {
    "collapsed": false
   },
   "outputs": [
    {
     "data": {
      "text/plain": [
       "(0, 3, 2, 2)"
      ]
     },
     "execution_count": 105,
     "metadata": {},
     "output_type": "execute_result"
    }
   ],
   "source": [
    "ba.alignment"
   ]
  },
  {
   "cell_type": "code",
   "execution_count": 82,
   "metadata": {
    "collapsed": true
   },
   "outputs": [],
   "source": [
    "ba.alignment = (0,0,1,2)"
   ]
  },
  {
   "cell_type": "code",
   "execution_count": 106,
   "metadata": {
    "collapsed": false
   },
   "outputs": [
    {
     "data": {
      "text/plain": [
       "1e-12"
      ]
     },
     "execution_count": 106,
     "metadata": {},
     "output_type": "execute_result"
    }
   ],
   "source": [
    "lat_mod.prob_t_a_given_s(ba)"
   ]
  },
  {
   "cell_type": "code",
   "execution_count": 123,
   "metadata": {
    "collapsed": false
   },
   "outputs": [
    {
     "data": {
      "image/svg+xml": [
       "<?xml version=\"1.0\" encoding=\"UTF-8\" standalone=\"no\"?>\n",
       "<!DOCTYPE svg PUBLIC \"-//W3C//DTD SVG 1.1//EN\"\n",
       " \"http://www.w3.org/Graphics/SVG/1.1/DTD/svg11.dtd\">\n",
       "<!-- Generated by graphviz version 2.38.0 (20140413.2041)\n",
       " -->\n",
       "<!-- Title: align Pages: 1 -->\n",
       "<svg width=\"2398pt\" height=\"152pt\"\n",
       " viewBox=\"0.00 0.00 2398.00 151.98\" xmlns=\"http://www.w3.org/2000/svg\" xmlns:xlink=\"http://www.w3.org/1999/xlink\">\n",
       "<g id=\"graph0\" class=\"graph\" transform=\"scale(1 1) rotate(0) translate(4 147.978)\">\n",
       "<title>align</title>\n",
       "<polygon fill=\"white\" stroke=\"none\" points=\"-4,4 -4,-147.978 2394,-147.978 2394,4 -4,4\"/>\n",
       "<!-- dum_source -->\n",
       "<g id=\"node1\" class=\"node\"><title>dum_source</title>\n",
       "<text text-anchor=\"middle\" x=\"27\" y=\"-85.8\" font-family=\"Times,serif\" font-size=\"14.00\">dum</text>\n",
       "</g>\n",
       "<!-- haec_source -->\n",
       "<g id=\"node2\" class=\"node\"><title>haec_source</title>\n",
       "<text text-anchor=\"middle\" x=\"99\" y=\"-85.8\" font-family=\"Times,serif\" font-size=\"14.00\">haec</text>\n",
       "</g>\n",
       "<!-- dum_source&#45;&#45;haec_source -->\n",
       "<!-- while_target -->\n",
       "<g id=\"node25\" class=\"node\"><title>while_target</title>\n",
       "<text text-anchor=\"middle\" x=\"27\" y=\"-13.8\" font-family=\"Times,serif\" font-size=\"14.00\">while</text>\n",
       "</g>\n",
       "<!-- dum_source&#45;&#45;while_target -->\n",
       "<g id=\"edge13\" class=\"edge\"><title>dum_source&#45;&#45;while_target</title>\n",
       "<path fill=\"none\" stroke=\"black\" d=\"M27,-71.6966C27,-60.8463 27,-46.9167 27,-36.1043\"/>\n",
       "</g>\n",
       "<!-- in_source -->\n",
       "<g id=\"node3\" class=\"node\"><title>in_source</title>\n",
       "<text text-anchor=\"middle\" x=\"311\" y=\"-85.8\" font-family=\"Times,serif\" font-size=\"14.00\">in</text>\n",
       "</g>\n",
       "<!-- haec_source&#45;&#45;in_source -->\n",
       "<!-- these_target -->\n",
       "<g id=\"node26\" class=\"node\"><title>these_target</title>\n",
       "<text text-anchor=\"middle\" x=\"99\" y=\"-13.8\" font-family=\"Times,serif\" font-size=\"14.00\">these</text>\n",
       "</g>\n",
       "<!-- haec_source&#45;&#45;these_target -->\n",
       "<g id=\"edge10\" class=\"edge\"><title>haec_source&#45;&#45;these_target</title>\n",
       "<path fill=\"none\" stroke=\"black\" d=\"M99,-71.6966C99,-60.8463 99,-46.9167 99,-36.1043\"/>\n",
       "</g>\n",
       "<!-- hispania_source -->\n",
       "<g id=\"node4\" class=\"node\"><title>hispania_source</title>\n",
       "<text text-anchor=\"middle\" x=\"387\" y=\"-85.8\" font-family=\"Times,serif\" font-size=\"14.00\">hispania</text>\n",
       "</g>\n",
       "<!-- in_source&#45;&#45;hispania_source -->\n",
       "<!-- in_target -->\n",
       "<g id=\"node29\" class=\"node\"><title>in_target</title>\n",
       "<text text-anchor=\"middle\" x=\"315\" y=\"-13.8\" font-family=\"Times,serif\" font-size=\"14.00\">in</text>\n",
       "</g>\n",
       "<!-- in_source&#45;&#45;in_target -->\n",
       "<g id=\"edge24\" class=\"edge\"><title>in_source&#45;&#45;in_target</title>\n",
       "<path fill=\"none\" stroke=\"black\" d=\"M311.989,-71.6966C312.609,-60.8463 313.405,-46.9167 314.023,-36.1043\"/>\n",
       "</g>\n",
       "<!-- geruntur_source -->\n",
       "<g id=\"node5\" class=\"node\"><title>geruntur_source</title>\n",
       "<text text-anchor=\"middle\" x=\"468\" y=\"-85.8\" font-family=\"Times,serif\" font-size=\"14.00\">geruntur</text>\n",
       "</g>\n",
       "<!-- hispania_source&#45;&#45;geruntur_source -->\n",
       "<!-- spain_target -->\n",
       "<g id=\"node30\" class=\"node\"><title>spain_target</title>\n",
       "<text text-anchor=\"middle\" x=\"387\" y=\"-13.8\" font-family=\"Times,serif\" font-size=\"14.00\">spain</text>\n",
       "</g>\n",
       "<!-- hispania_source&#45;&#45;spain_target -->\n",
       "<g id=\"edge16\" class=\"edge\"><title>hispania_source&#45;&#45;spain_target</title>\n",
       "<path fill=\"none\" stroke=\"black\" d=\"M387,-71.6966C387,-60.8463 387,-46.9167 387,-36.1043\"/>\n",
       "</g>\n",
       "<!-- c_source -->\n",
       "<g id=\"node6\" class=\"node\"><title>c_source</title>\n",
       "<text text-anchor=\"middle\" x=\"545\" y=\"-85.8\" font-family=\"Times,serif\" font-size=\"14.00\">c</text>\n",
       "</g>\n",
       "<!-- geruntur_source&#45;&#45;c_source -->\n",
       "<!-- terraces_target -->\n",
       "<g id=\"node46\" class=\"node\"><title>terraces_target</title>\n",
       "<text text-anchor=\"middle\" x=\"1594\" y=\"-13.8\" font-family=\"Times,serif\" font-size=\"14.00\">terraces</text>\n",
       "</g>\n",
       "<!-- geruntur_source&#45;&#45;terraces_target -->\n",
       "<g id=\"edge22\" class=\"edge\"><title>geruntur_source&#45;&#45;terraces_target</title>\n",
       "<path fill=\"none\" stroke=\"black\" d=\"M499.877,-74.5117C502.916,-73.5183 505.988,-72.6538 509,-72 963.58,26.6646 1101.33,-138.753 1555,-36 1558.03,-35.3147 1561.11,-34.3967 1564.15,-33.3408\"/>\n",
       "</g>\n",
       "<!-- trebonius_source -->\n",
       "<g id=\"node7\" class=\"node\"><title>trebonius_source</title>\n",
       "<text text-anchor=\"middle\" x=\"624\" y=\"-85.8\" font-family=\"Times,serif\" font-size=\"14.00\">trebonius</text>\n",
       "</g>\n",
       "<!-- c_source&#45;&#45;trebonius_source -->\n",
       "<!-- trebonius_target -->\n",
       "<g id=\"node31\" class=\"node\"><title>trebonius_target</title>\n",
       "<text text-anchor=\"middle\" x=\"466\" y=\"-13.8\" font-family=\"Times,serif\" font-size=\"14.00\">trebonius</text>\n",
       "</g>\n",
       "<!-- c_source&#45;&#45;trebonius_target -->\n",
       "<g id=\"edge1\" class=\"edge\"><title>c_source&#45;&#45;trebonius_target</title>\n",
       "<path fill=\"none\" stroke=\"black\" d=\"M525.472,-71.6966C513.227,-60.8463 497.506,-46.9167 485.303,-36.1043\"/>\n",
       "</g>\n",
       "<!-- legatus_source -->\n",
       "<g id=\"node8\" class=\"node\"><title>legatus_source</title>\n",
       "<text text-anchor=\"middle\" x=\"704\" y=\"-85.8\" font-family=\"Times,serif\" font-size=\"14.00\">legatus</text>\n",
       "</g>\n",
       "<!-- trebonius_source&#45;&#45;legatus_source -->\n",
       "<!-- trebonius_source&#45;&#45;terraces_target -->\n",
       "<g id=\"edge3\" class=\"edge\"><title>trebonius_source&#45;&#45;terraces_target</title>\n",
       "<path fill=\"none\" stroke=\"black\" d=\"M658.424,-74.2394C661.29,-73.3643 664.173,-72.5982 667,-72 1053.44,9.76187 1170.04,-124.43 1555,-36 1558.02,-35.3055 1561.1,-34.3813 1564.14,-33.3215\"/>\n",
       "</g>\n",
       "<!-- qui_source -->\n",
       "<g id=\"node9\" class=\"node\"><title>qui_source</title>\n",
       "<text text-anchor=\"middle\" x=\"777\" y=\"-85.8\" font-family=\"Times,serif\" font-size=\"14.00\">qui</text>\n",
       "</g>\n",
       "<!-- legatus_source&#45;&#45;qui_source -->\n",
       "<!-- lieutenant_target -->\n",
       "<g id=\"node33\" class=\"node\"><title>lieutenant_target</title>\n",
       "<text text-anchor=\"middle\" x=\"628\" y=\"-13.8\" font-family=\"Times,serif\" font-size=\"14.00\">lieutenant</text>\n",
       "</g>\n",
       "<!-- legatus_source&#45;&#45;lieutenant_target -->\n",
       "<g id=\"edge17\" class=\"edge\"><title>legatus_source&#45;&#45;lieutenant_target</title>\n",
       "<path fill=\"none\" stroke=\"black\" d=\"M685.213,-71.6966C673.433,-60.8463 658.31,-46.9167 646.57,-36.1043\"/>\n",
       "</g>\n",
       "<!-- ad_source -->\n",
       "<g id=\"node10\" class=\"node\"><title>ad_source</title>\n",
       "<text text-anchor=\"middle\" x=\"997\" y=\"-85.8\" font-family=\"Times,serif\" font-size=\"14.00\">ad</text>\n",
       "</g>\n",
       "<!-- qui_source&#45;&#45;ad_source -->\n",
       "<!-- who_target -->\n",
       "<g id=\"node34\" class=\"node\"><title>who_target</title>\n",
       "<text text-anchor=\"middle\" x=\"709\" y=\"-13.8\" font-family=\"Times,serif\" font-size=\"14.00\">who</text>\n",
       "</g>\n",
       "<!-- qui_source&#45;&#45;who_target -->\n",
       "<g id=\"edge4\" class=\"edge\"><title>qui_source&#45;&#45;who_target</title>\n",
       "<path fill=\"none\" stroke=\"black\" d=\"M760.191,-71.6966C749.651,-60.8463 736.119,-46.9167 725.616,-36.1043\"/>\n",
       "</g>\n",
       "<!-- oppugnationem_source -->\n",
       "<g id=\"node11\" class=\"node\"><title>oppugnationem_source</title>\n",
       "<text text-anchor=\"middle\" x=\"1094\" y=\"-85.8\" font-family=\"Times,serif\" font-size=\"14.00\">oppugnationem</text>\n",
       "</g>\n",
       "<!-- ad_source&#45;&#45;oppugnationem_source -->\n",
       "<!-- oppidum_source -->\n",
       "<g id=\"node22\" class=\"node\"><title>oppidum_source</title>\n",
       "<text text-anchor=\"middle\" x=\"1431\" y=\"-85.8\" font-family=\"Times,serif\" font-size=\"14.00\">oppidum</text>\n",
       "</g>\n",
       "<!-- ad_source&#45;&#45;oppidum_source -->\n",
       "<!-- to_target -->\n",
       "<g id=\"node38\" class=\"node\"><title>to_target</title>\n",
       "<text text-anchor=\"middle\" x=\"997\" y=\"-13.8\" font-family=\"Times,serif\" font-size=\"14.00\">to</text>\n",
       "</g>\n",
       "<!-- ad_source&#45;&#45;to_target -->\n",
       "<g id=\"edge6\" class=\"edge\"><title>ad_source&#45;&#45;to_target</title>\n",
       "<path fill=\"none\" stroke=\"black\" d=\"M991.084,-71.6966C989.965,-60.8463 989.972,-46.9167 991.105,-36.1043\"/>\n",
       "</g>\n",
       "<!-- ad_source&#45;&#45;to_target -->\n",
       "<g id=\"edge18\" class=\"edge\"><title>ad_source&#45;&#45;to_target</title>\n",
       "<path fill=\"none\" stroke=\"black\" d=\"M1002.92,-71.6966C1004.03,-60.8463 1004.03,-46.9167 1002.9,-36.1043\"/>\n",
       "</g>\n",
       "<!-- massiliae_source -->\n",
       "<g id=\"node12\" class=\"node\"><title>massiliae_source</title>\n",
       "<text text-anchor=\"middle\" x=\"1198\" y=\"-85.8\" font-family=\"Times,serif\" font-size=\"14.00\">massiliae</text>\n",
       "</g>\n",
       "<!-- oppugnationem_source&#45;&#45;massiliae_source -->\n",
       "<!-- oppugnationem_source&#45;&#45;trebonius_target -->\n",
       "<g id=\"edge2\" class=\"edge\"><title>oppugnationem_source&#45;&#45;trebonius_target</title>\n",
       "<path fill=\"none\" stroke=\"black\" d=\"M1042.25,-73.8063C1039.13,-73.1321 1036.03,-72.5214 1033,-72 802.935,-32.462 736.681,-87.5221 509,-36 506.181,-35.3622 503.305,-34.5675 500.443,-33.6728\"/>\n",
       "</g>\n",
       "<!-- relictus_source -->\n",
       "<g id=\"node13\" class=\"node\"><title>relictus_source</title>\n",
       "<text text-anchor=\"middle\" x=\"1279\" y=\"-85.8\" font-family=\"Times,serif\" font-size=\"14.00\">relictus</text>\n",
       "</g>\n",
       "<!-- massiliae_source&#45;&#45;relictus_source -->\n",
       "<!-- massiliae_source&#45;&#45;terraces_target -->\n",
       "<g id=\"edge14\" class=\"edge\"><title>massiliae_source&#45;&#45;terraces_target</title>\n",
       "<path fill=\"none\" stroke=\"black\" d=\"M1232.48,-74.469C1235.33,-73.5425 1238.2,-72.7019 1241,-72 1377.26,-37.8845 1419.35,-72.4659 1555,-36 1558,-35.1947 1561.06,-34.196 1564.09,-33.0891\"/>\n",
       "</g>\n",
       "<!-- erat_source -->\n",
       "<g id=\"node14\" class=\"node\"><title>erat_source</title>\n",
       "<text text-anchor=\"middle\" x=\"1353\" y=\"-85.8\" font-family=\"Times,serif\" font-size=\"14.00\">erat</text>\n",
       "</g>\n",
       "<!-- relictus_source&#45;&#45;erat_source -->\n",
       "<!-- relictus_source&#45;&#45;terraces_target -->\n",
       "<g id=\"edge12\" class=\"edge\"><title>relictus_source&#45;&#45;terraces_target</title>\n",
       "<path fill=\"none\" stroke=\"black\" d=\"M1307.74,-75.1759C1310.82,-73.985 1313.95,-72.8953 1317,-72 1419.65,-41.8812 1452.2,-65.6258 1555,-36 1557.98,-35.1409 1561.03,-34.1062 1564.05,-32.9765\"/>\n",
       "</g>\n",
       "<!-- duabus_source -->\n",
       "<g id=\"node15\" class=\"node\"><title>duabus_source</title>\n",
       "<text text-anchor=\"middle\" x=\"1658\" y=\"-85.8\" font-family=\"Times,serif\" font-size=\"14.00\">duabus</text>\n",
       "</g>\n",
       "<!-- erat_source&#45;&#45;duabus_source -->\n",
       "<!-- carry_target -->\n",
       "<g id=\"node39\" class=\"node\"><title>carry_target</title>\n",
       "<text text-anchor=\"middle\" x=\"1069\" y=\"-13.8\" font-family=\"Times,serif\" font-size=\"14.00\">carry</text>\n",
       "</g>\n",
       "<!-- erat_source&#45;&#45;carry_target -->\n",
       "<g id=\"edge19\" class=\"edge\"><title>erat_source&#45;&#45;carry_target</title>\n",
       "<path fill=\"none\" stroke=\"black\" d=\"M1325.79,-75.211C1322.87,-74.0133 1319.9,-72.9124 1317,-72 1225.83,-43.3286 1196.17,-64.6714 1105,-36 1102.1,-35.0876 1099.13,-33.9867 1096.21,-32.789\"/>\n",
       "</g>\n",
       "<!-- ex_source -->\n",
       "<g id=\"node16\" class=\"node\"><title>ex_source</title>\n",
       "<text text-anchor=\"middle\" x=\"1731\" y=\"-85.8\" font-family=\"Times,serif\" font-size=\"14.00\">ex</text>\n",
       "</g>\n",
       "<!-- duabus_source&#45;&#45;ex_source -->\n",
       "<!-- two_target -->\n",
       "<g id=\"node48\" class=\"node\"><title>two_target</title>\n",
       "<text text-anchor=\"middle\" x=\"1741\" y=\"-13.8\" font-family=\"Times,serif\" font-size=\"14.00\">two</text>\n",
       "</g>\n",
       "<!-- duabus_source&#45;&#45;two_target -->\n",
       "<g id=\"edge9\" class=\"edge\"><title>duabus_source&#45;&#45;two_target</title>\n",
       "<path fill=\"none\" stroke=\"black\" d=\"M1678.52,-71.6966C1691.38,-60.8463 1707.9,-46.9167 1720.72,-36.1043\"/>\n",
       "</g>\n",
       "<!-- partibus_source -->\n",
       "<g id=\"node17\" class=\"node\"><title>partibus_source</title>\n",
       "<text text-anchor=\"middle\" x=\"1807\" y=\"-85.8\" font-family=\"Times,serif\" font-size=\"14.00\">partibus</text>\n",
       "</g>\n",
       "<!-- ex_source&#45;&#45;partibus_source -->\n",
       "<!-- the_target -->\n",
       "<g id=\"node41\" class=\"node\"><title>the_target</title>\n",
       "<text text-anchor=\"middle\" x=\"1213\" y=\"-13.8\" font-family=\"Times,serif\" font-size=\"14.00\">the</text>\n",
       "</g>\n",
       "<!-- ex_source&#45;&#45;the_target -->\n",
       "<g id=\"edge23\" class=\"edge\"><title>ex_source&#45;&#45;the_target</title>\n",
       "<path fill=\"none\" stroke=\"black\" d=\"M1703.87,-74.9477C1700.93,-73.8013 1697.94,-72.7844 1695,-72 1502.86,-20.7097 1441.14,-87.2903 1249,-36 1246.06,-35.2156 1243.07,-34.1987 1240.13,-33.0523\"/>\n",
       "</g>\n",
       "<!-- aggerem_source -->\n",
       "<g id=\"node18\" class=\"node\"><title>aggerem_source</title>\n",
       "<text text-anchor=\"middle\" x=\"1888\" y=\"-85.8\" font-family=\"Times,serif\" font-size=\"14.00\">aggerem</text>\n",
       "</g>\n",
       "<!-- partibus_source&#45;&#45;aggerem_source -->\n",
       "<!-- partibus_source&#45;&#45;terraces_target -->\n",
       "<g id=\"edge5\" class=\"edge\"><title>partibus_source&#45;&#45;terraces_target</title>\n",
       "<path fill=\"none\" stroke=\"black\" d=\"M1776.16,-75.3891C1773.09,-74.1853 1770,-73.0334 1767,-72 1708.7,-51.8909 1691.2,-56.3769 1633,-36 1629.93,-34.9261 1626.77,-33.7192 1623.63,-32.4567\"/>\n",
       "</g>\n",
       "<!-- vineas_source -->\n",
       "<g id=\"node19\" class=\"node\"><title>vineas_source</title>\n",
       "<text text-anchor=\"middle\" x=\"1965\" y=\"-85.8\" font-family=\"Times,serif\" font-size=\"14.00\">vineas</text>\n",
       "</g>\n",
       "<!-- aggerem_source&#45;&#45;vineas_source -->\n",
       "<!-- aggerem_source&#45;&#45;terraces_target -->\n",
       "<g id=\"edge21\" class=\"edge\"><title>aggerem_source&#45;&#45;terraces_target</title>\n",
       "<path fill=\"none\" stroke=\"black\" d=\"M1855.56,-74.7721C1852.7,-73.7521 1849.81,-72.8088 1847,-72 1754.3,-45.3591 1725.45,-63.4744 1633,-36 1629.88,-35.0742 1626.69,-33.9645 1623.53,-32.7614\"/>\n",
       "</g>\n",
       "<!-- turres_source -->\n",
       "<g id=\"node20\" class=\"node\"><title>turres_source</title>\n",
       "<text text-anchor=\"middle\" x=\"2037\" y=\"-85.8\" font-family=\"Times,serif\" font-size=\"14.00\">turres</text>\n",
       "</g>\n",
       "<!-- vineas_source&#45;&#45;turres_source -->\n",
       "<!-- vineas_source&#45;&#45;terraces_target -->\n",
       "<g id=\"edge15\" class=\"edge\"><title>vineas_source&#45;&#45;terraces_target</title>\n",
       "<path fill=\"none\" stroke=\"black\" d=\"M1937.84,-75.0697C1934.9,-73.8995 1931.92,-72.8437 1929,-72 1801.68,-35.2355 1760.86,-70.8433 1633,-36 1630.01,-35.1844 1626.95,-34.1788 1623.92,-33.0676\"/>\n",
       "</g>\n",
       "<!-- &#45;que_source -->\n",
       "<g id=\"node21\" class=\"node\"><title>&#45;que_source</title>\n",
       "<text text-anchor=\"middle\" x=\"2109\" y=\"-85.8\" font-family=\"Times,serif\" font-size=\"14.00\">&#45;que</text>\n",
       "</g>\n",
       "<!-- turres_source&#45;&#45;&#45;que_source -->\n",
       "<!-- towers_target -->\n",
       "<g id=\"node55\" class=\"node\"><title>towers_target</title>\n",
       "<text text-anchor=\"middle\" x=\"2363\" y=\"-13.8\" font-family=\"Times,serif\" font-size=\"14.00\">towers</text>\n",
       "</g>\n",
       "<!-- turres_source&#45;&#45;towers_target -->\n",
       "<g id=\"edge25\" class=\"edge\"><title>turres_source&#45;&#45;towers_target</title>\n",
       "<path fill=\"none\" stroke=\"black\" d=\"M2064.18,-75.129C2067.11,-73.9473 2070.09,-72.8725 2073,-72 2182.22,-39.2887 2217.78,-68.7113 2327,-36 2329.91,-35.1275 2332.89,-34.0527 2335.82,-32.871\"/>\n",
       "</g>\n",
       "<!-- &#45;que_source&#45;&#45;ad_source -->\n",
       "<!-- and_target -->\n",
       "<g id=\"node51\" class=\"node\"><title>and_target</title>\n",
       "<text text-anchor=\"middle\" x=\"1967\" y=\"-13.8\" font-family=\"Times,serif\" font-size=\"14.00\">and</text>\n",
       "</g>\n",
       "<!-- &#45;que_source&#45;&#45;and_target -->\n",
       "<g id=\"edge7\" class=\"edge\"><title>&#45;que_source&#45;&#45;and_target</title>\n",
       "<path fill=\"none\" stroke=\"black\" d=\"M2081.96,-75.6688C2056.85,-63.2924 2019.65,-44.9565 1994.43,-32.52\"/>\n",
       "</g>\n",
       "<!-- agere_source -->\n",
       "<g id=\"node23\" class=\"node\"><title>agere_source</title>\n",
       "<text text-anchor=\"middle\" x=\"1509\" y=\"-85.8\" font-family=\"Times,serif\" font-size=\"14.00\">agere</text>\n",
       "</g>\n",
       "<!-- oppidum_source&#45;&#45;agere_source -->\n",
       "<!-- oppidum_source&#45;&#45;terraces_target -->\n",
       "<g id=\"edge11\" class=\"edge\"><title>oppidum_source&#45;&#45;terraces_target</title>\n",
       "<path fill=\"none\" stroke=\"black\" d=\"M1463.92,-75.0037C1488.93,-64.3553 1524.16,-49.3143 1555,-36 1557.98,-34.712 1561.09,-33.3646 1564.2,-32.0162\"/>\n",
       "</g>\n",
       "<!-- instituit_source -->\n",
       "<g id=\"node24\" class=\"node\"><title>instituit_source</title>\n",
       "<text text-anchor=\"middle\" x=\"1583\" y=\"-85.8\" font-family=\"Times,serif\" font-size=\"14.00\">instituit</text>\n",
       "</g>\n",
       "<!-- agere_source&#45;&#45;instituit_source -->\n",
       "<!-- agere_source&#45;&#45;terraces_target -->\n",
       "<g id=\"edge8\" class=\"edge\"><title>agere_source&#45;&#45;terraces_target</title>\n",
       "<path fill=\"none\" stroke=\"black\" d=\"M1530.01,-71.6966C1543.19,-60.8463 1560.1,-46.9167 1573.23,-36.1043\"/>\n",
       "</g>\n",
       "<!-- instituit_source&#45;&#45;terraces_target -->\n",
       "<g id=\"edge20\" class=\"edge\"><title>instituit_source&#45;&#45;terraces_target</title>\n",
       "<path fill=\"none\" stroke=\"black\" d=\"M1585.72,-71.6966C1587.42,-60.8463 1589.61,-46.9167 1591.31,-36.1043\"/>\n",
       "</g>\n",
       "<!-- while_target&#45;&#45;these_target -->\n",
       "<!-- things_target -->\n",
       "<g id=\"node27\" class=\"node\"><title>things_target</title>\n",
       "<text text-anchor=\"middle\" x=\"171\" y=\"-13.8\" font-family=\"Times,serif\" font-size=\"14.00\">things</text>\n",
       "</g>\n",
       "<!-- these_target&#45;&#45;things_target -->\n",
       "<!-- passed_target -->\n",
       "<g id=\"node28\" class=\"node\"><title>passed_target</title>\n",
       "<text text-anchor=\"middle\" x=\"243\" y=\"-13.8\" font-family=\"Times,serif\" font-size=\"14.00\">passed</text>\n",
       "</g>\n",
       "<!-- things_target&#45;&#45;passed_target -->\n",
       "<!-- passed_target&#45;&#45;in_target -->\n",
       "<!-- in_target&#45;&#45;spain_target -->\n",
       "<!-- spain_target&#45;&#45;trebonius_target -->\n",
       "<!-- caesars_target -->\n",
       "<g id=\"node32\" class=\"node\"><title>caesars_target</title>\n",
       "<text text-anchor=\"middle\" x=\"546\" y=\"-13.8\" font-family=\"Times,serif\" font-size=\"14.00\">caesars</text>\n",
       "</g>\n",
       "<!-- trebonius_target&#45;&#45;caesars_target -->\n",
       "<!-- caesars_target&#45;&#45;lieutenant_target -->\n",
       "<!-- lieutenant_target&#45;&#45;who_target -->\n",
       "<!-- had_target -->\n",
       "<g id=\"node35\" class=\"node\"><title>had_target</title>\n",
       "<text text-anchor=\"middle\" x=\"781\" y=\"-13.8\" font-family=\"Times,serif\" font-size=\"14.00\">had</text>\n",
       "</g>\n",
       "<!-- who_target&#45;&#45;had_target -->\n",
       "<!-- been_target -->\n",
       "<g id=\"node36\" class=\"node\"><title>been_target</title>\n",
       "<text text-anchor=\"middle\" x=\"853\" y=\"-13.8\" font-family=\"Times,serif\" font-size=\"14.00\">been</text>\n",
       "</g>\n",
       "<!-- had_target&#45;&#45;been_target -->\n",
       "<!-- left_target -->\n",
       "<g id=\"node37\" class=\"node\"><title>left_target</title>\n",
       "<text text-anchor=\"middle\" x=\"925\" y=\"-13.8\" font-family=\"Times,serif\" font-size=\"14.00\">left</text>\n",
       "</g>\n",
       "<!-- been_target&#45;&#45;left_target -->\n",
       "<!-- left_target&#45;&#45;to_target -->\n",
       "<!-- to_target&#45;&#45;carry_target -->\n",
       "<!-- on_target -->\n",
       "<g id=\"node40\" class=\"node\"><title>on_target</title>\n",
       "<text text-anchor=\"middle\" x=\"1141\" y=\"-13.8\" font-family=\"Times,serif\" font-size=\"14.00\">on</text>\n",
       "</g>\n",
       "<!-- carry_target&#45;&#45;on_target -->\n",
       "<!-- on_target&#45;&#45;the_target -->\n",
       "<!-- siege_target -->\n",
       "<g id=\"node42\" class=\"node\"><title>siege_target</title>\n",
       "<text text-anchor=\"middle\" x=\"1285\" y=\"-13.8\" font-family=\"Times,serif\" font-size=\"14.00\">siege</text>\n",
       "</g>\n",
       "<!-- the_target&#45;&#45;siege_target -->\n",
       "<!-- of_target -->\n",
       "<g id=\"node43\" class=\"node\"><title>of_target</title>\n",
       "<text text-anchor=\"middle\" x=\"1357\" y=\"-13.8\" font-family=\"Times,serif\" font-size=\"14.00\">of</text>\n",
       "</g>\n",
       "<!-- siege_target&#45;&#45;of_target -->\n",
       "<!-- marseilles_target -->\n",
       "<g id=\"node44\" class=\"node\"><title>marseilles_target</title>\n",
       "<text text-anchor=\"middle\" x=\"1438\" y=\"-13.8\" font-family=\"Times,serif\" font-size=\"14.00\">marseilles</text>\n",
       "</g>\n",
       "<!-- of_target&#45;&#45;marseilles_target -->\n",
       "<!-- raised_target -->\n",
       "<g id=\"node45\" class=\"node\"><title>raised_target</title>\n",
       "<text text-anchor=\"middle\" x=\"1519\" y=\"-13.8\" font-family=\"Times,serif\" font-size=\"14.00\">raised</text>\n",
       "</g>\n",
       "<!-- marseilles_target&#45;&#45;raised_target -->\n",
       "<!-- raised_target&#45;&#45;terraces_target -->\n",
       "<!-- for_target -->\n",
       "<g id=\"node47\" class=\"node\"><title>for_target</title>\n",
       "<text text-anchor=\"middle\" x=\"1669\" y=\"-13.8\" font-family=\"Times,serif\" font-size=\"14.00\">for</text>\n",
       "</g>\n",
       "<!-- terraces_target&#45;&#45;for_target -->\n",
       "<!-- for_target&#45;&#45;two_target -->\n",
       "<!-- different_target -->\n",
       "<g id=\"node49\" class=\"node\"><title>different_target</title>\n",
       "<text text-anchor=\"middle\" x=\"1818\" y=\"-13.8\" font-family=\"Times,serif\" font-size=\"14.00\">different</text>\n",
       "</g>\n",
       "<!-- two_target&#45;&#45;different_target -->\n",
       "<!-- attacks_target -->\n",
       "<g id=\"node50\" class=\"node\"><title>attacks_target</title>\n",
       "<text text-anchor=\"middle\" x=\"1895\" y=\"-13.8\" font-family=\"Times,serif\" font-size=\"14.00\">attacks</text>\n",
       "</g>\n",
       "<!-- different_target&#45;&#45;attacks_target -->\n",
       "<!-- attacks_target&#45;&#45;and_target -->\n",
       "<!-- approached_target -->\n",
       "<g id=\"node52\" class=\"node\"><title>approached_target</title>\n",
       "<text text-anchor=\"middle\" x=\"2134\" y=\"-13.8\" font-family=\"Times,serif\" font-size=\"14.00\">approached</text>\n",
       "</g>\n",
       "<!-- and_target&#45;&#45;approached_target -->\n",
       "<!-- galleries_target -->\n",
       "<g id=\"node56\" class=\"node\"><title>galleries_target</title>\n",
       "<text text-anchor=\"middle\" x=\"2044\" y=\"-13.8\" font-family=\"Times,serif\" font-size=\"14.00\">galleries</text>\n",
       "</g>\n",
       "<!-- and_target&#45;&#45;galleries_target -->\n",
       "<!-- with_target -->\n",
       "<g id=\"node53\" class=\"node\"><title>with_target</title>\n",
       "<text text-anchor=\"middle\" x=\"2219\" y=\"-13.8\" font-family=\"Times,serif\" font-size=\"14.00\">with</text>\n",
       "</g>\n",
       "<!-- approached_target&#45;&#45;with_target -->\n",
       "<!-- his_target -->\n",
       "<g id=\"node54\" class=\"node\"><title>his_target</title>\n",
       "<text text-anchor=\"middle\" x=\"2291\" y=\"-13.8\" font-family=\"Times,serif\" font-size=\"14.00\">his</text>\n",
       "</g>\n",
       "<!-- with_target&#45;&#45;his_target -->\n",
       "<!-- his_target&#45;&#45;towers_target -->\n",
       "<!-- towers_target&#45;&#45;and_target -->\n",
       "</g>\n",
       "</svg>\n"
      ],
      "text/plain": [
       "AlignedSent(['dum', 'haec', 'in', 'hispania', 'geruntur', 'c', 'trebonius', 'legatus', 'qui', 'ad', 'oppugnationem', 'massiliae', 'relictus', 'erat', 'duabus', 'ex', 'partibus', 'aggerem', 'vineas', 'turres', '-que', 'ad', 'oppidum', 'agere', 'instituit'], ['while', 'these', 'things', 'passed', 'in', 'spain', 'trebonius', 'caesars', 'lieutenant', 'who', 'had', 'been', 'left', 'to', 'carry', 'on', 'the', 'siege', 'of', 'marseilles', 'raised', 'terraces', 'for', 'two', 'different', 'attacks', 'and', 'approached', 'with', 'his', 'towers', 'and', 'galleries'], Alignment([(0, 0), (1, 1), (2, 4), (3, 5), (4, 21), (5, 6), (6, 21), (7, 8), (8, 9), (9, 13), (10, 6), (11, 21), (12, 21), (13, 14), (14, 23), (15, 16), (16, 21), (17, 21), (18, 21), (19, 30), (20, 26), (21, 13), (22, 21), (23, 21), (24, 21)]))"
      ]
     },
     "execution_count": 123,
     "metadata": {},
     "output_type": "execute_result"
    }
   ],
   "source": [
    "bitext[0]"
   ]
  },
  {
   "cell_type": "code",
   "execution_count": 34,
   "metadata": {
    "collapsed": false
   },
   "outputs": [
    {
     "data": {
      "text/plain": [
       "13842"
      ]
     },
     "execution_count": 34,
     "metadata": {},
     "output_type": "execute_result"
    }
   ],
   "source": [
    "len(bitext)"
   ]
  },
  {
   "cell_type": "code",
   "execution_count": 313,
   "metadata": {
    "collapsed": true
   },
   "outputs": [],
   "source": [
    "a = Alignment([(0,0),(1,1),(2,2)])"
   ]
  },
  {
   "cell_type": "code",
   "execution_count": 64,
   "metadata": {
    "collapsed": true
   },
   "outputs": [],
   "source": [
    "al = [AlignedSent(['puer','amat','puella'],['boy','loves','girl'])]"
   ]
  },
  {
   "cell_type": "code",
   "execution_count": null,
   "metadata": {
    "collapsed": true
   },
   "outputs": [],
   "source": []
  },
  {
   "cell_type": "code",
   "execution_count": 122,
   "metadata": {
    "collapsed": false
   },
   "outputs": [
    {
     "data": {
      "text/plain": [
       "[('citadel', 0.17142007944119067),\n",
       " ('staberius', 0.1016191797391818),\n",
       " ('completing', 0.060146557344354694),\n",
       " ('salinator', 0.05554025315206978),\n",
       " ('interdependence', 0.05471996562931752),\n",
       " ('badness', 0.049402749976107545),\n",
       " ('catapults', 0.02173889976520044),\n",
       " ('pliably', 0.02173889976520044),\n",
       " ('crashed', 0.02173889976520044),\n",
       " ('admonish', 0.015625033134159878),\n",
       " ('sow', 0.01562502272126847),\n",
       " ('tipped', 0.014139310364194904),\n",
       " ('strings', 0.002253100272365951),\n",
       " ('workmen', 0.0020237957627165393),\n",
       " ('pregnant', 0.00020861007555897352),\n",
       " ('osiers', 6.654730460908814e-05),\n",
       " ('terrace', 8.616617764342048e-06),\n",
       " ('drove', 4.714883585195484e-06),\n",
       " ('castle', 2.0223125710357427e-06),\n",
       " ('propositions', 1.0563913556387552e-06),\n",
       " ('trebonius', 7.472636960516562e-07),\n",
       " ('curves', 6.250716189281086e-07),\n",
       " ('dismissed', 2.798386000185529e-07),\n",
       " ('varro', 2.6029530530804157e-07),\n",
       " ('carmona', 3.5635864630982505e-09),\n",
       " ('report', 5.15852226201059e-10),\n",
       " ('fortified', 7.436267534451306e-11),\n",
       " ('cyprus', 3.1299004182126234e-11),\n",
       " ('demanded', 1.4326485771433668e-11),\n",
       " ('expressed', 1.2879591741513659e-11),\n",
       " ('townsmen', 1.2336106291211842e-11),\n",
       " ('defending', 5.98449305375507e-12),\n",
       " ('commanded', 1.4789700945932959e-12),\n",
       " ('number', 1e-12),\n",
       " ('stretched', 1e-12),\n",
       " ('our', 1e-12),\n",
       " ('thing', 1e-12),\n",
       " ('his', 1e-12),\n",
       " ('stoics', 1e-12),\n",
       " (None, 1e-12),\n",
       " ('ballistae', 1e-12),\n",
       " ('height', 1e-12),\n",
       " ('l', 1e-12),\n",
       " ('transfixed', 1e-12),\n",
       " ('contrary', 1e-12),\n",
       " ('exposed', 1e-12),\n",
       " ('iron', 1e-12),\n",
       " ('take', 1e-12),\n",
       " ('that', 1e-12),\n",
       " ('thrusts', 1e-12),\n",
       " ('things', 1e-12),\n",
       " ('round', 1e-12),\n",
       " ('time', 1e-12),\n",
       " ('parts', 1e-12),\n",
       " ('in', 1e-12),\n",
       " ('considerable', 1e-12),\n",
       " ('dear', 1e-12),\n",
       " ('almost', 1e-12),\n",
       " ('was', 1e-12),\n",
       " ('for', 1e-12),\n",
       " ('senate', 1e-12),\n",
       " ('two', 1e-12),\n",
       " ('be', 1e-12),\n",
       " ('water', 1e-12),\n",
       " ('compasses', 1e-12),\n",
       " ('province', 1e-12),\n",
       " ('three', 1e-12),\n",
       " ('sides', 1e-12),\n",
       " ('most', 1e-12),\n",
       " ('supply', 1e-12),\n",
       " ('ought', 1e-12),\n",
       " ('their', 1e-12),\n",
       " ('mountain', 1e-12),\n",
       " ('together', 1e-12),\n",
       " ('carried', 1e-12),\n",
       " ('violent', 1e-12),\n",
       " ('except', 1e-12),\n",
       " ('caesar', 1e-12),\n",
       " ('question', 1e-12),\n",
       " ('afford', 1e-12),\n",
       " ('doubs', 1e-12),\n",
       " ('extending', 1e-12),\n",
       " ('protracting', 1e-12),\n",
       " ('let', 1e-12),\n",
       " ('what', 1e-12),\n",
       " ('days', 1e-12),\n",
       " ('connects', 1e-12),\n",
       " ('thence', 1e-12),\n",
       " ('may', 1e-12),\n",
       " ('wood', 1e-12),\n",
       " ('about', 1e-12),\n",
       " ('detained', 1e-12),\n",
       " ('wall', 1e-12),\n",
       " ('ordered', 1e-12),\n",
       " ('effect', 1e-12),\n",
       " ('great', 1e-12),\n",
       " ('bows', 1e-12),\n",
       " ('necessary', 1e-12),\n",
       " ('strongly', 1e-12),\n",
       " ('these', 1e-12),\n",
       " ('said', 1e-12),\n",
       " ('pressed', 1e-12),\n",
       " ('set', 1e-12),\n",
       " ('drew', 1e-12),\n",
       " ('wide', 1e-12),\n",
       " ('so', 1e-12),\n",
       " ('asserting', 1e-12),\n",
       " ('there', 1e-12),\n",
       " ('thrown', 1e-12),\n",
       " ('he', 1e-12),\n",
       " ('works', 1e-12),\n",
       " ('makes', 1e-12),\n",
       " ('although', 1e-12),\n",
       " ('this', 1e-12),\n",
       " ('of', 1e-12),\n",
       " ('she', 1e-12),\n",
       " ('will', 1e-12),\n",
       " ('upon', 1e-12),\n",
       " ('who', 1e-12),\n",
       " ('why', 1e-12),\n",
       " ('beasts', 1e-12),\n",
       " ('against', 1e-12),\n",
       " ('us', 1e-12),\n",
       " ('a', 1e-12),\n",
       " ('both', 1e-12),\n",
       " ('forth', 1e-12),\n",
       " ('feet', 1e-12),\n",
       " ('likewise', 1e-12),\n",
       " ('pair', 1e-12),\n",
       " ('every', 1e-12),\n",
       " ('very', 1e-12),\n",
       " ('whose', 1e-12),\n",
       " ('brought', 1e-12),\n",
       " ('carriage', 1e-12),\n",
       " ('those', 1e-12),\n",
       " ('though', 1e-12),\n",
       " ('greatest', 1e-12),\n",
       " ('on', 1e-12),\n",
       " ('gods', 1e-12),\n",
       " ('same', 1e-12),\n",
       " ('they', 1e-12),\n",
       " ('and', 1e-12),\n",
       " ('sailed', 1e-12),\n",
       " ('serviceable', 1e-12),\n",
       " ('shut', 1e-12),\n",
       " ('arrows', 1e-12),\n",
       " ('cilicia', 1e-12),\n",
       " ('quintus', 1e-12),\n",
       " ('inasmuch', 1e-12),\n",
       " ('from', 1e-12),\n",
       " ('prepared', 1e-12),\n",
       " ('which', 1e-12),\n",
       " ('lest', 1e-12),\n",
       " ('go', 1e-12),\n",
       " ('divination', 1e-12),\n",
       " ('were', 1e-12),\n",
       " ('bent', 1e-12),\n",
       " ('state', 1e-12),\n",
       " ('own', 1e-12),\n",
       " ('to', 1e-12),\n",
       " ('precautions', 1e-12),\n",
       " ('had', 1e-12),\n",
       " ('deadly', 1e-12),\n",
       " ('it', 1e-12),\n",
       " ('around', 1e-12),\n",
       " ('hearing', 1e-12),\n",
       " ('out', 1e-12),\n",
       " ('all', 1e-12),\n",
       " ('hard', 1e-12),\n",
       " ('at', 1e-12),\n",
       " ('into', 1e-12),\n",
       " ('happen', 1e-12),\n",
       " ('as', 1e-12),\n",
       " ('turn', 1e-12),\n",
       " ('sent', 1e-12),\n",
       " ('place', 1e-12),\n",
       " ('bodies', 1e-12),\n",
       " ('eighty', 1e-12),\n",
       " ('nature', 1e-12),\n",
       " ('hostages', 1e-12),\n",
       " ('defenders', 1e-12),\n",
       " ('surrounds', 1e-12),\n",
       " ('by', 1e-12),\n",
       " ('the', 1e-12),\n",
       " ('them', 1e-12),\n",
       " ('having', 1e-12),\n",
       " ('ever', 1e-12),\n",
       " ('town', 1e-12),\n",
       " ('should', 1e-12),\n",
       " ('up', 1e-12),\n",
       " ('arrival', 1e-12),\n",
       " ('you', 1e-12),\n",
       " ('i', 1e-12),\n",
       " ('city', 1e-12),\n",
       " ('are', 1e-12),\n",
       " ('garrison', 1e-12),\n",
       " ('ample', 1e-12),\n",
       " ('is', 1e-12),\n",
       " ('care', 1e-12),\n",
       " ('fingers', 1e-12),\n",
       " ('high', 1e-12),\n",
       " ('if', 1e-12),\n",
       " ('raised', 1e-12),\n",
       " ('my', 1e-12),\n",
       " ('whole', 1e-12),\n",
       " ('war', 1e-12),\n",
       " ('with', 1e-12),\n",
       " ('thought', 1e-12),\n",
       " ('did', 1e-12),\n",
       " ('here', 1e-12),\n",
       " ('left', 1e-12),\n",
       " ('weather', 1e-12),\n",
       " ('traced', 1e-12),\n",
       " ('when', 1e-12),\n",
       " ('cohorts', 1e-12),\n",
       " ('ground', 1e-12),\n",
       " ('gates', 1e-12),\n",
       " ('facility', 1e-12),\n",
       " ('river', 1e-12)]"
      ]
     },
     "execution_count": 122,
     "metadata": {},
     "output_type": "execute_result"
    }
   ],
   "source": [
    "water = eng_mod.translation_table['arcem']\n",
    "\n",
    "import operator\n",
    "\n",
    "sorted_x = sorted(water.items(), key=operator.itemgetter(1),reverse=True)\n",
    "\n",
    "sorted_x"
   ]
  },
  {
   "cell_type": "code",
   "execution_count": 265,
   "metadata": {
    "collapsed": false
   },
   "outputs": [
    {
     "data": {
      "text/plain": [
       "(0, 1, 0, 2)"
      ]
     },
     "execution_count": 265,
     "metadata": {},
     "output_type": "execute_result"
    }
   ],
   "source": [
    "l.alignment"
   ]
  },
  {
   "cell_type": "code",
   "execution_count": 217,
   "metadata": {
    "collapsed": false
   },
   "outputs": [
    {
     "data": {
      "text/plain": [
       "(None, 'boy', 'loves', 'girl')"
      ]
     },
     "execution_count": 217,
     "metadata": {},
     "output_type": "execute_result"
    }
   ],
   "source": [
    "l.src_sentence"
   ]
  },
  {
   "cell_type": "code",
   "execution_count": 218,
   "metadata": {
    "collapsed": false
   },
   "outputs": [
    {
     "data": {
      "text/plain": [
       "('UNUSED', 'puer', 'amat', 'puellam')"
      ]
     },
     "execution_count": 218,
     "metadata": {},
     "output_type": "execute_result"
    }
   ],
   "source": [
    "l.trg_sentence"
   ]
  },
  {
   "cell_type": "code",
   "execution_count": 71,
   "metadata": {
    "collapsed": false
   },
   "outputs": [
    {
     "data": {
      "text/plain": [
       "Alignment([(0, 3), (1, 63), (2, 5), (3, 50), (4, 50), (5, 6), (6, 12), (7, 3), (8, 21), (9, 24), (10, 23), (11, 19), (12, 20), (13, 63), (14, 50), (15, 30), (16, 6), (17, 72), (18, 3), (19, 6), (20, 36), (21, 55), (22, 3), (23, 41), (24, 54), (25, 63), (26, 74), (27, 3), (28, 35), (29, 6), (30, 46), (31, 54), (32, 3), (33, 47), (34, 50), (35, 50), (36, 62), (37, 3), (38, 66), (39, 78), (40, 20), (41, 67), (42, 77), (43, 79), (44, 64), (45, 3)])"
      ]
     },
     "execution_count": 71,
     "metadata": {},
     "output_type": "execute_result"
    }
   ],
   "source": [
    "bitext[3].alignment"
   ]
  },
  {
   "cell_type": "code",
   "execution_count": 126,
   "metadata": {
    "collapsed": false
   },
   "outputs": [
    {
     "name": "stdout",
     "output_type": "stream",
     "text": [
      "hispania : spain\n",
      "quod : which\n",
      "adiacet : empties\n",
      "qua : rhone\n",
      "-que : the\n",
      "ad : the\n",
      "ostium : empties\n",
      "altera : side\n",
      "portu : port\n",
      "portam : empties\n",
      "gallia : gaul\n",
      "atque : and\n",
      "una : one\n",
      "mare : sea\n",
      "est : None\n",
      "erat : was\n",
      "proxima : attacks\n",
      "navalibus : empties\n",
      "ad : towards\n",
      "aditus : empties\n",
      "ad : the\n",
      "id : the\n",
      "rhodani : rhone\n",
      "ex : of\n"
     ]
    }
   ],
   "source": [
    "b = 1\n",
    "for a in bitext[b].alignment:\n",
    "    w = a[0]\n",
    "    m = a[1]\n",
    "    if w == None:\n",
    "        word = 'None'\n",
    "    else:\n",
    "        word = bitext[b].words[w]\n",
    "    if m == None:\n",
    "        mot = 'None'\n",
    "    else:\n",
    "        mot = bitext[b].mots[a[1]]\n",
    "        \n",
    "    print('{} : {}'.format(word,mot))"
   ]
  },
  {
   "cell_type": "code",
   "execution_count": 165,
   "metadata": {
    "collapsed": false
   },
   "outputs": [
    {
     "data": {
      "text/plain": [
       "['quidam',\n",
       " 'cataplasmo',\n",
       " 'calfacientibus',\n",
       " 'uto',\n",
       " 'eo1',\n",
       " 'multus',\n",
       " 'pondus',\n",
       " 'noceo',\n",
       " 'quis1',\n",
       " 'vesica',\n",
       " 'urgeo',\n",
       " 'vulnus',\n",
       " 'irrito1',\n",
       " 'qui1',\n",
       " 'calor1',\n",
       " 'proficio']"
      ]
     },
     "execution_count": 165,
     "metadata": {},
     "output_type": "execute_result"
    }
   ],
   "source": [
    "bitext[-900].words"
   ]
  },
  {
   "cell_type": "code",
   "execution_count": 70,
   "metadata": {
    "collapsed": false,
    "scrolled": true
   },
   "outputs": [
    {
     "name": "stdout",
     "output_type": "stream",
     "text": [
      "per : by\n",
      "iuvant : incursion\n",
      "ordinatus : reconnoitring\n",
      "bellis : involved\n",
      "eum : him\n",
      "moventem : incursion\n",
      "dederit : makes\n",
      "mesopotamiam : mesopotamia\n",
      "nostra : territories\n",
      "quadam : policy\n",
      "ferocissimas : stage\n",
      "isauriam : incursion\n",
      "arma : frontiers\n"
     ]
    },
    {
     "ename": "TypeError",
     "evalue": "list indices must be integers or slices, not NoneType",
     "output_type": "error",
     "traceback": [
      "\u001b[0;31m---------------------------------------------------------------------------\u001b[0m",
      "\u001b[0;31mTypeError\u001b[0m                                 Traceback (most recent call last)",
      "\u001b[0;32m<ipython-input-70-966aef9a21b8>\u001b[0m in \u001b[0;36m<module>\u001b[0;34m()\u001b[0m\n\u001b[1;32m      1\u001b[0m \u001b[0;32mfor\u001b[0m \u001b[0mb\u001b[0m \u001b[0;32min\u001b[0m \u001b[0mrange\u001b[0m\u001b[0;34m(\u001b[0m\u001b[0mlen\u001b[0m\u001b[0;34m(\u001b[0m\u001b[0mbitext\u001b[0m\u001b[0;34m)\u001b[0m\u001b[0;34m)\u001b[0m\u001b[0;34m:\u001b[0m\u001b[0;34m\u001b[0m\u001b[0m\n\u001b[1;32m      2\u001b[0m     \u001b[0;32mfor\u001b[0m \u001b[0ma\u001b[0m \u001b[0;32min\u001b[0m \u001b[0mbitext\u001b[0m\u001b[0;34m[\u001b[0m\u001b[0mb\u001b[0m\u001b[0;34m]\u001b[0m\u001b[0;34m.\u001b[0m\u001b[0malignment\u001b[0m\u001b[0;34m:\u001b[0m\u001b[0;34m\u001b[0m\u001b[0m\n\u001b[0;32m----> 3\u001b[0;31m         \u001b[0mprint\u001b[0m\u001b[0;34m(\u001b[0m\u001b[0;34m'{} : {}'\u001b[0m\u001b[0;34m.\u001b[0m\u001b[0mformat\u001b[0m\u001b[0;34m(\u001b[0m\u001b[0mbitext\u001b[0m\u001b[0;34m[\u001b[0m\u001b[0mb\u001b[0m\u001b[0;34m]\u001b[0m\u001b[0;34m.\u001b[0m\u001b[0mwords\u001b[0m\u001b[0;34m[\u001b[0m\u001b[0ma\u001b[0m\u001b[0;34m[\u001b[0m\u001b[0;36m0\u001b[0m\u001b[0;34m]\u001b[0m\u001b[0;34m]\u001b[0m\u001b[0;34m,\u001b[0m\u001b[0mbitext\u001b[0m\u001b[0;34m[\u001b[0m\u001b[0mb\u001b[0m\u001b[0;34m]\u001b[0m\u001b[0;34m.\u001b[0m\u001b[0mmots\u001b[0m\u001b[0;34m[\u001b[0m\u001b[0ma\u001b[0m\u001b[0;34m[\u001b[0m\u001b[0;36m1\u001b[0m\u001b[0;34m]\u001b[0m\u001b[0;34m]\u001b[0m\u001b[0;34m)\u001b[0m\u001b[0;34m)\u001b[0m\u001b[0;34m\u001b[0m\u001b[0m\n\u001b[0m",
      "\u001b[0;31mTypeError\u001b[0m: list indices must be integers or slices, not NoneType"
     ]
    }
   ],
   "source": [
    "for b in range(len(bitext)):\n",
    "    for a in bitext[b].alignment:\n",
    "        print('{} : {}'.format(bitext[b].words[a[0]],bitext[b].mots[a[1]]))"
   ]
  },
  {
   "cell_type": "code",
   "execution_count": 58,
   "metadata": {
    "collapsed": false
   },
   "outputs": [
    {
     "data": {
      "text/plain": [
       "'ab'"
      ]
     },
     "execution_count": 58,
     "metadata": {},
     "output_type": "execute_result"
    }
   ],
   "source": [
    "bitext[3].words[8]"
   ]
  },
  {
   "cell_type": "code",
   "execution_count": 59,
   "metadata": {
    "collapsed": false
   },
   "outputs": [
    {
     "data": {
      "text/plain": [
       "'from'"
      ]
     },
     "execution_count": 59,
     "metadata": {},
     "output_type": "execute_result"
    }
   ],
   "source": [
    "bitext[3].mots[60]"
   ]
  },
  {
   "cell_type": "code",
   "execution_count": 23,
   "metadata": {
    "collapsed": false
   },
   "outputs": [
    {
     "ename": "TypeError",
     "evalue": "train() missing 1 required positional argument: 'parallel_corpus'",
     "output_type": "error",
     "traceback": [
      "\u001b[0;31m---------------------------------------------------------------------------\u001b[0m",
      "\u001b[0;31mTypeError\u001b[0m                                 Traceback (most recent call last)",
      "\u001b[0;32m<ipython-input-23-5f578abbc518>\u001b[0m in \u001b[0;36m<module>\u001b[0;34m()\u001b[0m\n\u001b[0;32m----> 1\u001b[0;31m \u001b[0mmod\u001b[0m \u001b[0;34m=\u001b[0m \u001b[0mIBMModel1\u001b[0m\u001b[0;34m.\u001b[0m\u001b[0mtrain\u001b[0m\u001b[0;34m(\u001b[0m\u001b[0mbitext\u001b[0m\u001b[0;34m)\u001b[0m\u001b[0;34m\u001b[0m\u001b[0m\n\u001b[0m",
      "\u001b[0;31mTypeError\u001b[0m: train() missing 1 required positional argument: 'parallel_corpus'"
     ]
    }
   ],
   "source": [
    "mod = IBMModel1.train(bitext)"
   ]
  },
  {
   "cell_type": "code",
   "execution_count": 16,
   "metadata": {
    "collapsed": false
   },
   "outputs": [
    {
     "data": {
      "text/plain": [
       "0.5675554043221417"
      ]
     },
     "execution_count": 16,
     "metadata": {},
     "output_type": "execute_result"
    }
   ],
   "source": [
    "mod.translation_table['rex']['king']"
   ]
  },
  {
   "cell_type": "code",
   "execution_count": 287,
   "metadata": {
    "collapsed": false
   },
   "outputs": [
    {
     "data": {
      "text/plain": [
       "0.6156239752345138"
      ]
     },
     "execution_count": 287,
     "metadata": {},
     "output_type": "execute_result"
    }
   ],
   "source": [
    "mod.translation_table['regina']['queen']"
   ]
  },
  {
   "cell_type": "code",
   "execution_count": 279,
   "metadata": {
    "collapsed": false
   },
   "outputs": [
    {
     "ename": "TypeError",
     "evalue": "prob_of_alignments() takes 2 positional arguments but 4 were given",
     "output_type": "error",
     "traceback": [
      "\u001b[0;31m---------------------------------------------------------------------------\u001b[0m",
      "\u001b[0;31mTypeError\u001b[0m                                 Traceback (most recent call last)",
      "\u001b[0;32m<ipython-input-279-65cba98fb8ac>\u001b[0m in \u001b[0;36m<module>\u001b[0;34m()\u001b[0m\n\u001b[0;32m----> 1\u001b[0;31m \u001b[0mmod\u001b[0m\u001b[0;34m.\u001b[0m\u001b[0mprob_of_alignments\u001b[0m\u001b[0;34m(\u001b[0m\u001b[0;34m[\u001b[0m\u001b[0;34m'hic'\u001b[0m\u001b[0;34m,\u001b[0m\u001b[0;34m'puer'\u001b[0m\u001b[0;34m,\u001b[0m\u001b[0;34m'amat'\u001b[0m\u001b[0;34m]\u001b[0m\u001b[0;34m,\u001b[0m\u001b[0;34m[\u001b[0m\u001b[0;34m'this'\u001b[0m\u001b[0;34m,\u001b[0m\u001b[0;34m'boy'\u001b[0m\u001b[0;34m,\u001b[0m\u001b[0;34m'loves'\u001b[0m\u001b[0;34m]\u001b[0m\u001b[0;34m,\u001b[0m\u001b[0;34m[\u001b[0m\u001b[0;34m(\u001b[0m\u001b[0;36m0\u001b[0m\u001b[0;34m,\u001b[0m \u001b[0;36m0\u001b[0m\u001b[0;34m)\u001b[0m\u001b[0;34m,\u001b[0m \u001b[0;34m(\u001b[0m\u001b[0;36m1\u001b[0m\u001b[0;34m,\u001b[0m \u001b[0;36m1\u001b[0m\u001b[0;34m)\u001b[0m\u001b[0;34m,\u001b[0m \u001b[0;34m(\u001b[0m\u001b[0;36m2\u001b[0m\u001b[0;34m,\u001b[0m \u001b[0;36m2\u001b[0m\u001b[0;34m)\u001b[0m\u001b[0;34m,\u001b[0m \u001b[0;34m(\u001b[0m\u001b[0;36m3\u001b[0m\u001b[0;34m,\u001b[0m \u001b[0;32mNone\u001b[0m\u001b[0;34m)\u001b[0m\u001b[0;34m,\u001b[0m \u001b[0;34m(\u001b[0m\u001b[0;36m4\u001b[0m\u001b[0;34m,\u001b[0m \u001b[0;36m3\u001b[0m\u001b[0;34m)\u001b[0m\u001b[0;34m]\u001b[0m\u001b[0;34m)\u001b[0m\u001b[0;34m\u001b[0m\u001b[0m\n\u001b[0m",
      "\u001b[0;31mTypeError\u001b[0m: prob_of_alignments() takes 2 positional arguments but 4 were given"
     ]
    }
   ],
   "source": [
    "mod.prob_of_alignments(['hic','puer','amat'],['this','boy','loves'],[(0, 0), (1, 1), (2, 2), (3, None), (4, 3)])"
   ]
  },
  {
   "cell_type": "code",
   "execution_count": 297,
   "metadata": {
    "collapsed": false
   },
   "outputs": [
    {
     "ename": "AttributeError",
     "evalue": "'IBMModel2' object has no attribute 'align'",
     "output_type": "error",
     "traceback": [
      "\u001b[0;31m---------------------------------------------------------------------------\u001b[0m",
      "\u001b[0;31mAttributeError\u001b[0m                            Traceback (most recent call last)",
      "\u001b[0;32m<ipython-input-297-16bdceaa2369>\u001b[0m in \u001b[0;36m<module>\u001b[0;34m()\u001b[0m\n\u001b[0;32m----> 1\u001b[0;31m \u001b[0mmod\u001b[0m\u001b[0;34m.\u001b[0m\u001b[0malign\u001b[0m\u001b[0;34m(\u001b[0m\u001b[0mbitexts\u001b[0m\u001b[0;34m[\u001b[0m\u001b[0;36m0\u001b[0m\u001b[0;34m]\u001b[0m\u001b[0;34m)\u001b[0m\u001b[0;34m\u001b[0m\u001b[0m\n\u001b[0m",
      "\u001b[0;31mAttributeError\u001b[0m: 'IBMModel2' object has no attribute 'align'"
     ]
    }
   ],
   "source": [
    "mod.align(bitexts[0])"
   ]
  },
  {
   "cell_type": "code",
   "execution_count": 295,
   "metadata": {
    "collapsed": false
   },
   "outputs": [],
   "source": [
    "al_s = AlignedSent(['puer','amat','puellam'],['the','boy','loves','the','girl'],a)"
   ]
  },
  {
   "cell_type": "code",
   "execution_count": 293,
   "metadata": {
    "collapsed": false
   },
   "outputs": [],
   "source": [
    "a = Alignment([(0,1),(1,2),(2,4)])"
   ]
  },
  {
   "cell_type": "code",
   "execution_count": 298,
   "metadata": {
    "collapsed": false
   },
   "outputs": [
    {
     "ename": "AttributeError",
     "evalue": "'AlignedSent' object has no attribute 'src_sentence'",
     "output_type": "error",
     "traceback": [
      "\u001b[0;31m---------------------------------------------------------------------------\u001b[0m",
      "\u001b[0;31mAttributeError\u001b[0m                            Traceback (most recent call last)",
      "\u001b[0;32m<ipython-input-298-86a132f98993>\u001b[0m in \u001b[0;36m<module>\u001b[0;34m()\u001b[0m\n\u001b[0;32m----> 1\u001b[0;31m \u001b[0mbitext\u001b[0m\u001b[0;34m[\u001b[0m\u001b[0;36m0\u001b[0m\u001b[0;34m]\u001b[0m\u001b[0;34m.\u001b[0m\u001b[0msrc_sentence\u001b[0m\u001b[0;34m\u001b[0m\u001b[0m\n\u001b[0m",
      "\u001b[0;31mAttributeError\u001b[0m: 'AlignedSent' object has no attribute 'src_sentence'"
     ]
    }
   ],
   "source": [
    "bitext[0].src_sentence"
   ]
  },
  {
   "cell_type": "code",
   "execution_count": null,
   "metadata": {
    "collapsed": true
   },
   "outputs": [],
   "source": []
  }
 ],
 "metadata": {
  "anaconda-cloud": {},
  "kernelspec": {
   "display_name": "Python [conda root]",
   "language": "python",
   "name": "conda-root-py"
  },
  "language_info": {
   "codemirror_mode": {
    "name": "ipython",
    "version": 3
   },
   "file_extension": ".py",
   "mimetype": "text/x-python",
   "name": "python",
   "nbconvert_exporter": "python",
   "pygments_lexer": "ipython3",
   "version": "3.5.2"
  }
 },
 "nbformat": 4,
 "nbformat_minor": 1
}
